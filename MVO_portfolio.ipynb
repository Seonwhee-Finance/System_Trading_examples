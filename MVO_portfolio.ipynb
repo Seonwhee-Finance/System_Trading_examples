{
 "cells": [
  {
   "cell_type": "markdown",
   "metadata": {
    "colab_type": "text",
    "id": "C6KRPix4SJJr"
   },
   "source": [
    "# 평균-분산 최적화(Mean-Variance Optimization) 모형 투자자 성향별 포트폴리오 산출"
   ]
  },
  {
   "cell_type": "code",
   "execution_count": 85,
   "metadata": {
    "colab": {},
    "colab_type": "code",
    "id": "SXUb0GaJqQcV"
   },
   "outputs": [],
   "source": [
    "import numpy as np\n",
    "import pandas as pd\n",
    "import scipy.optimize as sco\n",
    "import datetime as dt\n",
    "from datetime import timedelta\n",
    "from pylab import *\n",
    "\n",
    "import platform\n",
    "import matplotlib.pyplot as plt\n",
    "from matplotlib import font_manager, rc\n",
    "\n",
    "# matplotlib 한글 깨지는 것 조정\n",
    "plt.rcParams['axes.unicode_minus'] = False\n",
    "if platform.system() == 'Darwin':\n",
    "    rc('font', family='AppleGothic')\n",
    "elif platform.system() == 'Windows':\n",
    "    path = \"C:/Windows/Fonts/malgun.ttf\"\n",
    "    font_name = font_manager.FontProperties(fname=path).get_name()\n",
    "    rc('font', family=font_name)\n",
    "else:\n",
    "    print('Unknown system...')"
   ]
  },
  {
   "cell_type": "markdown",
   "metadata": {
    "colab_type": "text",
    "id": "H8WTdP6nSksX"
   },
   "source": [
    "# 예스트레이더 출력 결과물을 Pandas 형태로 포맷 변환"
   ]
  },
  {
   "cell_type": "code",
   "execution_count": 86,
   "metadata": {
    "colab": {},
    "colab_type": "code",
    "id": "2Saw5QJ-KFjI"
   },
   "outputs": [],
   "source": [
    "# 예스트레이더 종목검색 결과를 날짜 기준으로 포맷팅\n",
    "def convert_yes_price_file(gubun):\n",
    "    # 우리나라 시간 = 그리니치 표준시 + 9시\n",
    "    file_dt = (dt.datetime.now() + dt.timedelta(hours=9)).strftime('%Y%m%d')\n",
    "    yes_price_file = pd.DataFrame()\n",
    "    # 예스트레이더 출력용 지표식과 칼럼수 일치시켜야 함.\n",
    "    yes_price_file = pd.read_csv(path + 'yes_stock_price_' + file_dt + '.csv',encoding= 'euc-kr',\n",
    "                           names = ['날짜1','종목명','종목코드','날짜','시가','고가','저가','종가','거래량',\n",
    "                                    '단기이평','중기이평','장기이평','지수단기이평','지수중기이평','지수장기이평',\n",
    "                                    'MACD','MACD_OSC','ATR','CCI','StoK','StoD','TRIX','이격도'],\n",
    "                           index_col= 1, header=None, dtype={'종목코드':str})\n",
    "\n",
    "    종목명 = yes_price_file.index.unique()\n",
    "    종목코드 = yes_price_file['종목코드'].unique()  # 종목코드 사용할 경우를 위해 별도 저장\n",
    "    df1 = {'종목명':종목명,\n",
    "           '종목코드':종목코드}\n",
    "    df1 = pd.DataFrame(df1)\n",
    "    df1.to_csv('symbol_cd.csv')\n",
    "\n",
    "    cls_p_data = pd.DataFrame()\n",
    "    vol_data = pd.DataFrame()\n",
    "    if gubun == 1:\n",
    "        hi_p_data = pd.DataFrame()\n",
    "        lo_p_data = pd.DataFrame()\n",
    "        sma_data = pd.DataFrame()\n",
    "        mma_data = pd.DataFrame()\n",
    "        lma_data = pd.DataFrame()\n",
    "        sema_data = pd.DataFrame()\n",
    "        mema_data = pd.DataFrame()\n",
    "        lema_data = pd.DataFrame()\n",
    "        macd_data = pd.DataFrame()\n",
    "        macdo_data = pd.DataFrame()\n",
    "        atr_data = pd.DataFrame()\n",
    "        cci_data = pd.DataFrame()\n",
    "        stok_data = pd.DataFrame()\n",
    "        stod_data = pd.DataFrame()\n",
    "        trix_data = pd.DataFrame()\n",
    "        dis_data = pd.DataFrame()\n",
    "\n",
    "    for i in range(len(종목명)):\n",
    "        cls_p = yes_price_file.loc[종목명[i],['날짜','종가']]\n",
    "        cls_p.set_index(['날짜'],inplace=True)\n",
    "        cls_p_data = pd.concat([cls_p_data,cls_p],axis=1) \n",
    "\n",
    "        vol = yes_price_file.loc[종목명[i],['날짜','거래량']]\n",
    "        vol.set_index(['날짜'],inplace=True)\n",
    "        vol_data = pd.concat([vol_data,vol],axis=1) \n",
    "\n",
    "        if gubun == 1:\n",
    "            hi_p = yes_price_file.loc[종목명[i],['날짜','고가']]\n",
    "            hi_p.set_index(['날짜'],inplace=True)\n",
    "            hi_p_data = pd.concat([hi_p_data,hi_p],axis=1) \n",
    "\n",
    "            lo_p = yes_price_file.loc[종목명[i],['날짜','저가']]\n",
    "            lo_p.set_index(['날짜'],inplace=True)\n",
    "            lo_p_data = pd.concat([lo_p_data,lo_p],axis=1) \n",
    "\n",
    "            sma = yes_price_file.loc[종목명[i],['날짜','단기이평']]\n",
    "            sma.set_index(['날짜'],inplace=True)\n",
    "            sma_data = pd.concat([sma_data,sma],axis=1) \n",
    "\n",
    "            mma = yes_price_file.loc[종목명[i],['날짜','중기이평']]\n",
    "            mma.set_index(['날짜'],inplace=True)\n",
    "            mma_data = pd.concat([mma_data,mma],axis=1) \n",
    "\n",
    "            lma = yes_price_file.loc[종목명[i],['날짜','장기이평']]\n",
    "            lma.set_index(['날짜'],inplace=True)\n",
    "            lma_data = pd.concat([lma_data,lma],axis=1) \n",
    "\n",
    "            atr = yes_price_file.loc[종목명[i],['날짜','ATR']]\n",
    "            atr.set_index(['날짜'],inplace=True)\n",
    "            atr_data = pd.concat([atr_data,atr],axis=1) \n",
    "\n",
    "    cls_p_data.columns = 종목명\n",
    "    print('\\n 종가데이터 \\n', cls_p_data.head())\n",
    "    cls_p_data.to_csv('cls_p_data.csv')\n",
    "\n",
    "    vol_data.columns = 종목명\n",
    "    print('\\n 거래량 \\n', vol_data.head())\n",
    "    vol_data.to_csv('volume_data.csv')\n",
    "\n",
    "    if gubun == 1:\n",
    "        hi_p_data.columns = 종목명\n",
    "        print('\\n 고가데이터 \\n', hi_p_data.head())\n",
    "        hi_p_data.to_csv('hi_p_data.csv')\n",
    "\n",
    "        lo_p_data.columns = 종목명\n",
    "        print('\\n 저가데이터 \\n', lo_p_data.head())\n",
    "        lo_p_data.to_csv('lo_p_data.csv')\n",
    "\n",
    "        sma_data.columns = 종목명\n",
    "        print('\\n 단기이평 \\n', sma_data.head())\n",
    "        sma_data.to_csv('sma_data.csv')\n",
    "\n",
    "        mma_data.columns = 종목명\n",
    "        print('\\n 중기이평 \\n', mma_data.head())\n",
    "        mma_data.to_csv('mma_data.csv')\n",
    "\n",
    "        lma_data.columns = 종목명\n",
    "        print('\\n 장기이평 \\n', lma_data.head())\n",
    "        lma_data.to_csv('lma_data.csv')\n",
    "\n",
    "        atr_data.columns = 종목명\n",
    "        print('\\n ATR \\n', atr_data.head())\n",
    "        atr_data.to_csv('atr_data.csv')"
   ]
  },
  {
   "cell_type": "code",
   "execution_count": 87,
   "metadata": {
    "colab": {},
    "colab_type": "code",
    "id": "8yzo-Q5k8wJf"
   },
   "outputs": [],
   "source": [
    "# 채권ETF가격을 날짜 기준으로 포맷팅\n",
    "def convert_yes_bond_etf_file():\n",
    "    file_dt = (dt.datetime.now() + dt.timedelta(hours=9)).strftime('%Y%m%d')\n",
    "\n",
    "    yes_bond_etf_file = pd.DataFrame()\n",
    "    yes_bond_etf_file = pd.read_csv(path+'yes_etf_price_' + file_dt + '.csv',encoding= 'euc-kr',\n",
    "                           names = ['날짜1','종목명','종목코드','날짜','시가','고가','저가','종가','거래량',\n",
    "                                    '단기이평','중기이평','장기이평','지수단기이평','지수중기이평','지수장기이평',\n",
    "                                    'MACD','MACD_OSC','ATR','CCI','StoK','StoD','TRIX','이격도'],\n",
    "                           index_col= 1, header=None, dtype={'종목코드':str})\n",
    "\n",
    "    종목명2 = yes_bond_etf_file.index.unique()\n",
    "    종목코드2 = yes_bond_etf_file['종목코드'].unique()  # 종목코드 사용할 경우를 위해 별도 저장\n",
    "    df2 = {'종목명':종목명2,\n",
    "           '종목코드':종목코드2}\n",
    "    df2 = pd.DataFrame(df2)\n",
    "    df2.to_csv('symbol_cd2.csv')\n",
    "\n",
    "    out_data2 = pd.DataFrame()\n",
    "    for i in range(len(종목명2)):\n",
    "        df2 = yes_bond_etf_file.loc[종목명2[i],['날짜','종가']]\n",
    "        df2.set_index(['날짜'],inplace=True)\n",
    "        out_data2 = pd.concat([out_data2,df2],axis=1) \n",
    "    out_data2.columns = 종목명2\n",
    "    print(out_data2.head())\n",
    "    out_data2.to_csv('bond_etf.csv')"
   ]
  },
  {
   "cell_type": "code",
   "execution_count": 89,
   "metadata": {
    "colab": {},
    "colab_type": "code",
    "id": "4Zh7Ii9xWn2b"
   },
   "outputs": [
    {
     "name": "stdout",
     "output_type": "stream",
     "text": [
      "\n",
      " 종가데이터 \n",
      " 종목명          나노메딕스     필룩스     부산산업   카리스국보    동성제약  에이프로젠 KIC   엔케이물산  \\\n",
      "날짜                                                                       \n",
      "20151021.0  2585.0  2233.0  32200.0  1508.0  5260.0     3085.0  1226.0   \n",
      "20151022.0  2560.0  2180.0  31650.0  1546.0  5140.0     3045.0  1193.0   \n",
      "20151023.0  2650.0  2228.0  31900.0  1496.0  5100.0     3060.0  1217.0   \n",
      "20151026.0  2560.0  2233.0  33600.0  1442.0  5110.0     3105.0  1197.0   \n",
      "20151027.0  3100.0  2233.0  33350.0  1521.0  5160.0     3030.0  1209.0   \n",
      "\n",
      "종목명          웰바이오텍    일신석재     남광토건    삼일제약    인스코비    인디에프       조비   대호에이엘  \\\n",
      "날짜                                                                             \n",
      "20151021.0  2675.0  1430.0  11050.0  6790.0  1450.0  2420.0  13550.0  1202.0   \n",
      "20151022.0  2485.0  1340.0  10800.0  6675.0  1395.0  2625.0  13100.0  1159.0   \n",
      "20151023.0  2590.0  1365.0  11300.0  6733.0  1375.0  2600.0  13600.0  1175.0   \n",
      "20151026.0  2690.0  1330.0  11150.0  6733.0  1420.0  2660.0  13350.0  1205.0   \n",
      "20151027.0  2730.0  1355.0  10950.0  6685.0  1390.0  2705.0  13150.0  1202.0   \n",
      "\n",
      "종목명            파미셀    동양철관  동양네트웍스    일성건설  \n",
      "날짜                                          \n",
      "20151021.0  5150.0  1212.0  2293.0  1165.0  \n",
      "20151022.0  5070.0  1162.0  2293.0  1125.0  \n",
      "20151023.0  5130.0  1226.0  2370.0  1140.0  \n",
      "20151026.0  5200.0  1199.0  2331.0  1155.0  \n",
      "20151027.0  5150.0  1244.0  2225.0  1240.0  \n",
      "\n",
      " 거래량 \n",
      " 종목명             나노메딕스       필룩스     부산산업     카리스국보      동성제약  에이프로젠 KIC  \\\n",
      "날짜                                                                        \n",
      "20151021.0   361653.0  236541.0   6717.0   20918.0  114463.0    45743.0   \n",
      "20151022.0   428860.0  122246.0  10386.0  165770.0   88994.0    47027.0   \n",
      "20151023.0   276305.0   64824.0   5114.0   18547.0   77402.0   118390.0   \n",
      "20151026.0   326127.0   76391.0  21006.0   14889.0   62771.0   104323.0   \n",
      "20151027.0  2791752.0   69859.0   6601.0   17846.0   49176.0    76860.0   \n",
      "\n",
      "종목명             엔케이물산     웰바이오텍       일신석재       남광토건     삼일제약       인스코비  \\\n",
      "날짜                                                                          \n",
      "20151021.0  1918777.0  573100.0  5393439.0  1294705.0   9390.0  1274152.0   \n",
      "20151022.0  1709717.0  400241.0  3597828.0   451290.0   9676.0   506511.0   \n",
      "20151023.0  1572504.0  267262.0  2415893.0   451061.0  26988.0   397284.0   \n",
      "20151026.0  1010019.0  332467.0  1974564.0   446795.0  24682.0   526960.0   \n",
      "20151027.0  1023561.0  544441.0  2477618.0   601643.0   9514.0   429228.0   \n",
      "\n",
      "종목명              인디에프       조비      대호에이엘        파미셀       동양철관     동양네트웍스  \\\n",
      "날짜                                                                           \n",
      "20151021.0   189233.0  32265.0   344925.0  1475016.0  3414143.0   924240.0   \n",
      "20151022.0  4335967.0  19616.0   336876.0   906166.0  6647553.0  1570007.0   \n",
      "20151023.0   591937.0  19183.0   184934.0  1574477.0  3861613.0  3951679.0   \n",
      "20151026.0   466634.0  10078.0  1163199.0  1070309.0  1967717.0   756456.0   \n",
      "20151027.0   486787.0  15923.0   259315.0   814631.0  3906788.0   703124.0   \n",
      "\n",
      "종목명            일성건설  \n",
      "날짜                   \n",
      "20151021.0   7265.0  \n",
      "20151022.0  12545.0  \n",
      "20151023.0   4767.0  \n",
      "20151026.0   7199.0  \n",
      "20151027.0  49609.0  \n",
      "종목명         KBSTAR 단기통안채  KODEX 단기채권  KODEX 국고채3년  KOSEF 통안채1년\n",
      "날짜                                                            \n",
      "20151021.0       98892.0     95689.0      52959.0      96112.0\n",
      "20151022.0       98897.0     95698.0      52963.0      96098.0\n",
      "20151023.0       98907.0     95694.0      52963.0      96103.0\n",
      "20151026.0       98907.0     95698.0      52968.0      96103.0\n",
      "20151027.0       98902.0     95708.0      53006.0      96098.0\n"
     ]
    }
   ],
   "source": [
    "path = '../input/'\n",
    "gubun = 0 # 지표 파일을 만들려면 1로, 안 만들여면 0\n",
    "convert_yes_price_file(gubun)\n",
    "convert_yes_bond_etf_file()"
   ]
  },
  {
   "cell_type": "markdown",
   "metadata": {
    "colab_type": "text",
    "id": "7jwL3enQSzf_"
   },
   "source": [
    "# 사용자 함수 선언"
   ]
  },
  {
   "cell_type": "code",
   "execution_count": 62,
   "metadata": {
    "colab": {},
    "colab_type": "code",
    "id": "tuOABltzKLsh"
   },
   "outputs": [],
   "source": [
    "def statistics(w,r,c):\n",
    "    '''포트폴리오 총계치 출력\n",
    "    인수\n",
    "    =====\n",
    "    weight : array-like  포트폴리오 내의 비중\n",
    "    \n",
    "    반환값\n",
    "    ======\n",
    "    portfolio_return     : float 포트폴리오 수익률 기댓값\n",
    "    portfolio_volatility : float 포트폴리오 변동성 기댓값\n",
    "    sharpe_ratio         : float 무위험 이자율이 0일 때의 샤프 지수\n",
    "    '''\n",
    "    w = np.array(w)\n",
    "    portfolio_return = np.sum(r * w)\n",
    "    portfolio_volatility = np.sqrt(np.dot(w.T,np.dot(c, w)))\n",
    "    sharp_ratio = portfolio_return / portfolio_volatility\n",
    "    return np.array([portfolio_return, portfolio_volatility, sharp_ratio])"
   ]
  },
  {
   "cell_type": "code",
   "execution_count": 63,
   "metadata": {
    "colab": {},
    "colab_type": "code",
    "id": "FBeCt1hpOBBS"
   },
   "outputs": [],
   "source": [
    "def min_func_sharpe(w,r,c):\n",
    "# 최소화문제에서 샤프지수 최대값을 찾으려면 샤프지수의 음수 값을 최소화하면 된다.\n",
    "    return -statistics(w,r,c)[2]  # 위에서 만든 statistics의 3번째 값이 샤프지수"
   ]
  },
  {
   "cell_type": "code",
   "execution_count": 64,
   "metadata": {
    "colab": {},
    "colab_type": "code",
    "id": "X6u1DfokKMni"
   },
   "outputs": [],
   "source": [
    "def min_func_variance(w,r,c):\n",
    "# 분산 최소화 함수\n",
    "    return statistics(w,r,c)[1]**2"
   ]
  },
  {
   "cell_type": "code",
   "execution_count": 65,
   "metadata": {
    "colab": {},
    "colab_type": "code",
    "id": "bgW1p-xs1OA7"
   },
   "outputs": [],
   "source": [
    "# Given risk-free rate, assets returns and covariances, this function calculates\n",
    "# mean-variance frontier and returns its [x,y] points in two arrays\n",
    "def solve_frontier(r,c):\n",
    "    def fitness(w,r,c,t):\n",
    "        stat = statistics(w,r,c)\n",
    "        # Big penalty for not meeting stated portfolio return effectively serves as optimization constraint\n",
    "        penalty = 100 * abs(stat[0] - t)\n",
    "        return stat[1]**2 + penalty\n",
    "\n",
    "    frontier_mean, frontier_vol = [], []\n",
    "    noa = len(r)\n",
    "    for t in np.linspace(min(r), max(r), num=50): # Iterate through the range of returns on Y axis\n",
    "       # 제약조건\n",
    "        cons = ({'type': 'eq', 'fun': lambda x: np.sum(x) - 1})\n",
    "        # 범위값\n",
    "        bnds = tuple((0, 1) for x in range(noa))\n",
    "        opts = sco.minimize(fitness, noa * [1. / noa, ],(r,c,t), method='SLSQP', constraints=cons, bounds=bnds)\n",
    "        if not opts.success:\n",
    "            raise BaseException(opts.message)\n",
    "        # add point to the min-var frontier [x,y] = [opts.x, t]\n",
    "        frontier_mean.append(t)                                                 # return\n",
    "        frontier_vol.append(statistics(opts['x'],r,c)[1])   # min-variance based on optimized weights\n",
    "\n",
    "    return array(frontier_mean), array(frontier_vol)"
   ]
  },
  {
   "cell_type": "code",
   "execution_count": 66,
   "metadata": {
    "colab": {},
    "colab_type": "code",
    "id": "5zgbQBXwAiey"
   },
   "outputs": [],
   "source": [
    "def display_frontier(r,c):\n",
    "    front_mean, front_vol = solve_frontier(r,c)\n",
    "    plot(front_vol, front_mean, color='black'), grid(True)  # draw efficient frontier"
   ]
  },
  {
   "cell_type": "markdown",
   "metadata": {
    "colab_type": "text",
    "id": "B4QddqeWS35T"
   },
   "source": [
    "# Main"
   ]
  },
  {
   "cell_type": "code",
   "execution_count": 67,
   "metadata": {
    "colab": {},
    "colab_type": "code",
    "id": "87d3J2qkWq-i"
   },
   "outputs": [
    {
     "name": "stdout",
     "output_type": "stream",
     "text": [
      "\n",
      " >> 종목명 : Index(['나노메딕스', '필룩스', '부산산업', '카리스국보', '동성제약', '에이프로젠 KIC', '엔케이물산', '웰바이오텍',\n",
      "       '일신석재', '남광토건', '삼일제약', '인스코비', '인디에프', '조비', '대호에이엘', '파미셀', '동양철관',\n",
      "       '동양네트웍스', '일성건설'],\n",
      "      dtype='object')\n"
     ]
    }
   ],
   "source": [
    "# 위험도별 주식비중\n",
    "Wstk = (0.5, 0.7, 1.0)\n",
    "공분산_산출기간 = 500  # 시뮬레이터를 통해 최적 값 찾을 것\n",
    "out_path = '../output/'\n",
    "\n",
    "# 주식종목 배분\n",
    "raw_data = pd.read_csv('cls_p_data.csv',index_col=['날짜'], parse_dates=['날짜'])\n",
    "종목명 = raw_data.columns\n",
    "print('\\n >> 종목명 :', 종목명)"
   ]
  },
  {
   "cell_type": "code",
   "execution_count": 68,
   "metadata": {
    "colab": {},
    "colab_type": "code",
    "id": "jCCIQWqGWwaB"
   },
   "outputs": [
    {
     "name": "stdout",
     "output_type": "stream",
     "text": [
      "\n",
      " >> 종목코드 : 0     074610\n",
      "1     033180\n",
      "2     011390\n",
      "3     001140\n",
      "4     002210\n",
      "5     007460\n",
      "6     009810\n",
      "7     010600\n",
      "8     007110\n",
      "9     001260\n",
      "10    000520\n",
      "11    006490\n",
      "12    014990\n",
      "13    001550\n",
      "14    069460\n",
      "15    005690\n",
      "16    008970\n",
      "17    030790\n",
      "18    013360\n",
      "Name: 종목코드, dtype: object\n"
     ]
    }
   ],
   "source": [
    "noa = len(종목명)  # 자산수\n",
    "\n",
    "symbol_data = pd.read_csv('symbol_cd.csv',index_col=None,dtype={'종목코드':str})\n",
    "종목코드 = symbol_data['종목코드']\n",
    "print('\\n >> 종목코드 :', 종목코드)"
   ]
  },
  {
   "cell_type": "code",
   "execution_count": 69,
   "metadata": {
    "colab": {},
    "colab_type": "code",
    "id": "WT4tUhBrWznr"
   },
   "outputs": [
    {
     "name": "stdout",
     "output_type": "stream",
     "text": [
      "\n",
      " >> 현재가 : [9900.0, 9890.0, 171500.0, 3655.0, 17900.0, 2200.0, 755.0, 2500.0, 3005.0, 12750.0, 21500.0, 3295.0, 3070.0, 18150.0, 5210.0, 8220.0, 1150.0, 594.0, 1385.0]\n"
     ]
    }
   ],
   "source": [
    "work_data = raw_data.iloc[-공분산_산출기간:]\n",
    "현재가 = list(raw_data.iloc[-1])\n",
    "print('\\n >> 현재가 :', 현재가)"
   ]
  },
  {
   "cell_type": "code",
   "execution_count": 70,
   "metadata": {
    "colab": {},
    "colab_type": "code",
    "id": "2j5lYrFJW3eD"
   },
   "outputs": [
    {
     "name": "stdout",
     "output_type": "stream",
     "text": [
      "               나노메딕스       필룩스      부산산업     카리스국보      동성제약  에이프로젠 KIC  \\\n",
      "날짜                                                                        \n",
      "20171103.0       NaN       NaN       NaN       NaN       NaN        NaN   \n",
      "20171106.0 -0.025508 -0.001761 -0.013226 -0.002020  0.043430  -0.027337   \n",
      "20171107.0  0.004549 -0.008496 -0.005935 -0.009142  0.001249  -0.009281   \n",
      "20171108.0  0.006033 -0.008568  0.005935 -0.010257  0.013639   0.011588   \n",
      "20171109.0  0.120286 -0.010452 -0.005935  0.000000  0.012240   0.092373   \n",
      "\n",
      "               엔케이물산     웰바이오텍      일신석재      남광토건      삼일제약      인스코비  \\\n",
      "날짜                                                                       \n",
      "20171103.0       NaN       NaN       NaN       NaN       NaN       NaN   \n",
      "20171106.0  0.000000  0.025243 -0.007813  0.001496  0.001228 -0.012780   \n",
      "20171107.0 -0.009337  0.054222  0.000000  0.008929  0.000000  0.003210   \n",
      "20171108.0 -0.003759  0.054067  0.007813 -0.016431  0.013003  0.012739   \n",
      "20171109.0  0.011236  0.002628  0.000000 -0.013647  0.050257  0.000000   \n",
      "\n",
      "                인디에프        조비     대호에이엘       파미셀      동양철관    동양네트웍스  \\\n",
      "날짜                                                                       \n",
      "20171103.0       NaN       NaN       NaN       NaN       NaN       NaN   \n",
      "20171106.0 -0.028749  0.045746  0.004036  0.004673 -0.021327 -0.043621   \n",
      "20171107.0  0.008299 -0.016394  0.011017  0.000000  0.008399 -0.062418   \n",
      "20171108.0 -0.016667  0.024491  0.015811  0.029853 -0.004658 -0.038001   \n",
      "20171109.0 -0.008439 -0.004040 -0.015811  0.038829  0.000000  0.024349   \n",
      "\n",
      "                일성건설  \n",
      "날짜                    \n",
      "20171103.0       NaN  \n",
      "20171106.0 -0.018349  \n",
      "20171107.0  0.009217  \n",
      "20171108.0 -0.037388  \n",
      "20171109.0  0.018868  \n"
     ]
    }
   ],
   "source": [
    "로그수익률 = np.log(work_data / work_data.shift(1))\n",
    "print(로그수익률.head())"
   ]
  },
  {
   "cell_type": "code",
   "execution_count": 71,
   "metadata": {
    "colab": {},
    "colab_type": "code",
    "id": "p9sww10PW6C9"
   },
   "outputs": [
    {
     "name": "stdout",
     "output_type": "stream",
     "text": [
      "나노메딕스        0.543461\n",
      "필룩스          0.629756\n",
      "부산산업         0.813519\n",
      "카리스국보        0.659107\n",
      "동성제약         0.778693\n",
      "에이프로젠 KIC   -0.005706\n",
      "엔케이물산        0.171127\n",
      "웰바이오텍       -0.144018\n",
      "일신석재         0.429016\n",
      "남광토건         0.326445\n",
      "삼일제약         0.543706\n",
      "인스코비         0.372774\n",
      "인디에프         0.459865\n",
      "조비           0.219587\n",
      "대호에이엘        0.839145\n",
      "파미셀          0.330760\n",
      "동양철관         0.027061\n",
      "동양네트웍스      -0.512874\n",
      "일성건설         0.116349\n",
      "dtype: float64\n"
     ]
    }
   ],
   "source": [
    "R = 로그수익률.mean() * 252  # 연수익률\n",
    "print(R)"
   ]
  },
  {
   "cell_type": "code",
   "execution_count": 72,
   "metadata": {
    "colab": {},
    "colab_type": "code",
    "id": "npukzuLpW8VC"
   },
   "outputs": [
    {
     "name": "stdout",
     "output_type": "stream",
     "text": [
      "              나노메딕스       필룩스      부산산업     카리스국보      동성제약  에이프로젠 KIC  \\\n",
      "나노메딕스      1.041032  0.144542  0.026471  0.025085  0.155194   0.100015   \n",
      "필룩스        0.144542  0.969997  0.038138  0.007118  0.137566   0.118202   \n",
      "부산산업       0.026471  0.038138  0.919179  0.251895 -0.030373   0.011978   \n",
      "카리스국보      0.025085  0.007118  0.251895  0.891146 -0.029217   0.016318   \n",
      "동성제약       0.155194  0.137566 -0.030373 -0.029217  0.823501   0.167480   \n",
      "에이프로젠 KIC  0.100015  0.118202  0.011978  0.016318  0.167480   0.806656   \n",
      "엔케이물산      0.078689  0.010688  0.151384  0.145457 -0.006650  -0.012235   \n",
      "웰바이오텍      0.074819 -0.006179 -0.046973  0.031476  0.003666   0.074715   \n",
      "일신석재       0.076416  0.097333  0.464088  0.261500 -0.000092   0.048541   \n",
      "남광토건       0.045951  0.083903  0.388177  0.220863  0.042496   0.036640   \n",
      "삼일제약       0.173770  0.132069 -0.020898  0.025951  0.261328   0.114999   \n",
      "인스코비       0.086750  0.150674  0.045100  0.020781  0.110774   0.089725   \n",
      "인디에프       0.053878  0.054116  0.352237  0.179229  0.042415   0.028449   \n",
      "조비         0.015223  0.071924  0.423873  0.233258 -0.011143   0.031815   \n",
      "대호에이엘      0.014564 -0.010398  0.389085  0.146202 -0.051088  -0.018806   \n",
      "파미셀        0.173868  0.195071 -0.008626  0.010918  0.207488   0.138406   \n",
      "동양철관       0.049387  0.059003  0.449738  0.277937 -0.022604   0.015585   \n",
      "동양네트웍스     0.110764  0.068200  0.061279  0.000090  0.096221   0.079040   \n",
      "일성건설       0.071083  0.096538  0.322260  0.220268 -0.001522   0.060056   \n",
      "\n",
      "              엔케이물산     웰바이오텍      일신석재      남광토건      삼일제약      인스코비  \\\n",
      "나노메딕스      0.078689  0.074819  0.076416  0.045951  0.173770  0.086750   \n",
      "필룩스        0.010688 -0.006179  0.097333  0.083903  0.132069  0.150674   \n",
      "부산산업       0.151384 -0.046973  0.464088  0.388177 -0.020898  0.045100   \n",
      "카리스국보      0.145457  0.031476  0.261500  0.220863  0.025951  0.020781   \n",
      "동성제약      -0.006650  0.003666 -0.000092  0.042496  0.261328  0.110774   \n",
      "에이프로젠 KIC -0.012235  0.074715  0.048541  0.036640  0.114999  0.089725   \n",
      "엔케이물산      0.797246  0.030932  0.121503  0.103532 -0.003671 -0.001728   \n",
      "웰바이오텍      0.030932  0.773197 -0.049249 -0.070103  0.026377  0.044998   \n",
      "일신석재       0.121503 -0.049249  0.733206  0.477311  0.011951  0.092151   \n",
      "남광토건       0.103532 -0.070103  0.477311  0.721404 -0.018696  0.112036   \n",
      "삼일제약      -0.003671  0.026377  0.011951 -0.018696  0.724652  0.175538   \n",
      "인스코비      -0.001728  0.044998  0.092151  0.112036  0.175538  0.715105   \n",
      "인디에프       0.089632 -0.024049  0.459832  0.404259  0.072725  0.101687   \n",
      "조비         0.172364 -0.056229  0.452179  0.402741  0.009953  0.071412   \n",
      "대호에이엘      0.023898 -0.032722  0.272825  0.309117 -0.078872  0.013702   \n",
      "파미셀       -0.014259  0.037284 -0.004433  0.043261  0.208318  0.227699   \n",
      "동양철관       0.119877  0.016571  0.448651  0.413671 -0.018271  0.078100   \n",
      "동양네트웍스     0.045449  0.058233  0.040812  0.019895  0.139157  0.110595   \n",
      "일성건설       0.127756 -0.058079  0.527934  0.428866  0.016745  0.083078   \n",
      "\n",
      "               인디에프        조비     대호에이엘       파미셀      동양철관    동양네트웍스  \\\n",
      "나노메딕스      0.053878  0.015223  0.014564  0.173868  0.049387  0.110764   \n",
      "필룩스        0.054116  0.071924 -0.010398  0.195071  0.059003  0.068200   \n",
      "부산산업       0.352237  0.423873  0.389085 -0.008626  0.449738  0.061279   \n",
      "카리스국보      0.179229  0.233258  0.146202  0.010918  0.277937  0.000090   \n",
      "동성제약       0.042415 -0.011143 -0.051088  0.207488 -0.022604  0.096221   \n",
      "에이프로젠 KIC  0.028449  0.031815 -0.018806  0.138406  0.015585  0.079040   \n",
      "엔케이물산      0.089632  0.172364  0.023898 -0.014259  0.119877  0.045449   \n",
      "웰바이오텍     -0.024049 -0.056229 -0.032722  0.037284  0.016571  0.058233   \n",
      "일신석재       0.459832  0.452179  0.272825 -0.004433  0.448651  0.040812   \n",
      "남광토건       0.404259  0.402741  0.309117  0.043261  0.413671  0.019895   \n",
      "삼일제약       0.072725  0.009953 -0.078872  0.208318 -0.018271  0.139157   \n",
      "인스코비       0.101687  0.071412  0.013702  0.227699  0.078100  0.110595   \n",
      "인디에프       0.699340  0.385569  0.286072  0.052780  0.369468  0.062857   \n",
      "조비         0.385569  0.688555  0.274756  0.044042  0.417391  0.038884   \n",
      "대호에이엘      0.286072  0.274756  0.693840 -0.012292  0.375463  0.014406   \n",
      "파미셀        0.052780  0.044042 -0.012292  0.658373  0.032235  0.115447   \n",
      "동양철관       0.369468  0.417391  0.375463  0.032235  0.649547  0.061223   \n",
      "동양네트웍스     0.062857  0.038884  0.014406  0.115447  0.061223  0.656571   \n",
      "일성건설       0.360319  0.386082  0.228198 -0.013821  0.358723  0.037348   \n",
      "\n",
      "               일성건설  \n",
      "나노메딕스      0.071083  \n",
      "필룩스        0.096538  \n",
      "부산산업       0.322260  \n",
      "카리스국보      0.220268  \n",
      "동성제약      -0.001522  \n",
      "에이프로젠 KIC  0.060056  \n",
      "엔케이물산      0.127756  \n",
      "웰바이오텍     -0.058079  \n",
      "일신석재       0.527934  \n",
      "남광토건       0.428866  \n",
      "삼일제약       0.016745  \n",
      "인스코비       0.083078  \n",
      "인디에프       0.360319  \n",
      "조비         0.386082  \n",
      "대호에이엘      0.228198  \n",
      "파미셀       -0.013821  \n",
      "동양철관       0.358723  \n",
      "동양네트웍스     0.037348  \n",
      "일성건설       0.642320  \n"
     ]
    }
   ],
   "source": [
    "C = 로그수익률.cov() * 252 # 공분산 \n",
    "print(C)"
   ]
  },
  {
   "cell_type": "code",
   "execution_count": 73,
   "metadata": {
    "colab": {},
    "colab_type": "code",
    "id": "BsHtWv6iW_vs"
   },
   "outputs": [
    {
     "name": "stdout",
     "output_type": "stream",
     "text": [
      "     fun: -1.6468995732648857\n",
      "     jac: array([-7.22557306e-05,  9.92491841e-04,  2.37718225e-04,  1.72163546e-03,\n",
      "       -1.30838156e-03,  6.01949811e-01, -4.98875976e-04,  3.36209804e-01,\n",
      "        4.71356392e-01,  7.17689455e-01, -1.18894875e-03, -1.28647685e-03,\n",
      "        3.38782504e-01,  8.16100478e-01,  3.59296799e-04,  1.33564442e-01,\n",
      "        1.53026764e+00,  1.73491018e+00,  9.34476808e-01])\n",
      " message: 'Optimization terminated successfully.'\n",
      "    nfev: 218\n",
      "     nit: 10\n",
      "    njev: 10\n",
      "  status: 0\n",
      " success: True\n",
      "       x: array([6.10728404e-02, 1.10990861e-01, 8.35050157e-02, 1.25353440e-01,\n",
      "       2.03129884e-01, 0.00000000e+00, 4.22971662e-03, 2.19602788e-16,\n",
      "       2.59427446e-17, 1.15192604e-16, 1.07517655e-01, 3.38456231e-02,\n",
      "       1.40902897e-16, 1.71196947e-16, 2.70354964e-01, 6.49960258e-17,\n",
      "       4.39144651e-16, 3.15750089e-17, 2.61571111e-16])\n",
      "[0.71  0.431 1.647]\n"
     ]
    }
   ],
   "source": [
    "# 제약조건\n",
    "cons = ({'type': 'eq', 'fun': lambda x: np.sum(x) - 1},\n",
    "        {'type': 'ineq', 'fun': lambda x: (x >= 0.01).sum() - 4},   #매수 종목이 5 종목 이상되도록 조건 설정 \n",
    "        {'type': 'ineq', 'fun': lambda x: (x >= 0.01).sum() - 3},\n",
    "        {'type': 'ineq', 'fun': lambda x: (x >= 0.01).sum() - 2},\n",
    "        {'type': 'ineq', 'fun': lambda x: (x >= 0.01).sum() - 1}) \n",
    "\n",
    "# 범위값\n",
    "bnds = tuple((0, 1) for x in range(noa))\n",
    "\n",
    "opts = sco.minimize(min_func_sharpe, noa * [1. / noa, ], (R, C), method='SLSQP', bounds=bnds, constraints=cons)\n",
    "optsx = (opts['x'] * 100).round(3)  # 샤프지수 최대 포트폴리오 결과값\n",
    "stat = statistics(opts['x'],R,C).round(3)  # 샤프지수 최대 포트폴리오의 수익률, 표준편차, 샤프지수\n",
    "print(opts)  # x값이 포트폴리오 비중\n",
    "print(stat)"
   ]
  },
  {
   "cell_type": "code",
   "execution_count": 74,
   "metadata": {
    "colab": {},
    "colab_type": "code",
    "id": "ZOKAJoesOKoC"
   },
   "outputs": [
    {
     "name": "stdout",
     "output_type": "stream",
     "text": [
      "\n",
      ">> 수익률 =  0.71 , 표준편차 =  0.431 , 샤프지수 =  1.647\n"
     ]
    }
   ],
   "source": [
    "stat = statistics(opts['x'],R,C).round(3)  # 샤프지수 최대 포트폴리오의 수익률, 표준편차, 샤프지수\n",
    "print('\\n>> 수익률 = ', stat[0],', 표준편차 = ', stat[1], ', 샤프지수 = ', stat[2])"
   ]
  },
  {
   "cell_type": "code",
   "execution_count": 75,
   "metadata": {
    "colab": {},
    "colab_type": "code",
    "id": "rSm0l03tOuxp"
   },
   "outputs": [
    {
     "data": {
      "image/png": "[encoded data removed]",
      "text/plain": [
       "<Figure size 432x288 with 1 Axes>"
      ]
     },
     "metadata": {
      "needs_background": "light"
     },
     "output_type": "display_data"
    },
    {
     "data": {
      "text/plain": [
       "(Text(0.5,21.2,'volatility $\\\\sigma$'), Text(19.2,0.5,'mean $\\\\mu$'), None)"
      ]
     },
     "execution_count": 75,
     "metadata": {},
     "output_type": "execute_result"
    }
   ],
   "source": [
    "display_frontier(R,C)\n",
    "xlabel('volatility $\\sigma$'), ylabel('mean $\\mu$'), show()"
   ]
  },
  {
   "cell_type": "code",
   "execution_count": 76,
   "metadata": {
    "colab": {},
    "colab_type": "code",
    "id": "Y80U8yPbXDGi"
   },
   "outputs": [],
   "source": [
    "# 우리나라 시간 = 그리니치 표준시 + 9시\n",
    "current_dt = (dt.datetime.now() + dt.timedelta(hours=9)).strftime('%Y%m%d')\n",
    "date_col = [current_dt for i in range(noa)] # 날짜 칼럼 생성"
   ]
  },
  {
   "cell_type": "code",
   "execution_count": 77,
   "metadata": {
    "colab": {},
    "colab_type": "code",
    "id": "F9RHBhhLXFn3"
   },
   "outputs": [
    {
     "name": "stdout",
     "output_type": "stream",
     "text": [
      "          날짜        종목명    종목코드      비중       현재가\n",
      "0   20191119      나노메딕스  074610   3.054    9900.0\n",
      "1   20191119        필룩스  033180   5.550    9890.0\n",
      "2   20191119       부산산업  011390   4.176  171500.0\n",
      "3   20191119      카리스국보  001140   6.268    3655.0\n",
      "4   20191119       동성제약  002210  10.156   17900.0\n",
      "5   20191119  에이프로젠 KIC  007460   0.000    2200.0\n",
      "6   20191119      엔케이물산  009810   0.212     755.0\n",
      "7   20191119      웰바이오텍  010600   0.000    2500.0\n",
      "8   20191119       일신석재  007110   0.000    3005.0\n",
      "9   20191119       남광토건  001260   0.000   12750.0\n",
      "10  20191119       삼일제약  000520   5.376   21500.0\n",
      "11  20191119       인스코비  006490   1.692    3295.0\n",
      "12  20191119       인디에프  014990   0.000    3070.0\n",
      "13  20191119         조비  001550   0.000   18150.0\n",
      "14  20191119      대호에이엘  069460  13.518    5210.0\n",
      "15  20191119        파미셀  005690   0.000    8220.0\n",
      "16  20191119       동양철관  008970   0.000    1150.0\n",
      "17  20191119     동양네트웍스  030790   0.000     594.0\n",
      "18  20191119       일성건설  013360   0.000    1385.0\n"
     ]
    }
   ],
   "source": [
    "\n",
    "mp11 = {'날짜':date_col,\n",
    "      '종목명':종목명,\n",
    "      '종목코드':종목코드,\n",
    "      '비중':list((optsx * Wstk[0]).round(3)),\n",
    "      '현재가':현재가}\n",
    "df11 = pd.DataFrame(mp11,columns = ['날짜','종목명','종목코드','비중','현재가'])\n",
    "print(df11)"
   ]
  },
  {
   "cell_type": "code",
   "execution_count": 78,
   "metadata": {
    "colab": {},
    "colab_type": "code",
    "id": "XRRDMXp4-BwI"
   },
   "outputs": [
    {
     "name": "stdout",
     "output_type": "stream",
     "text": [
      "          날짜        종목명    종목코드      비중       현재가\n",
      "0   20191119      나노메딕스  074610   3.054    9900.0\n",
      "1   20191119        필룩스  033180   5.550    9890.0\n",
      "2   20191119       부산산업  011390   4.176  171500.0\n",
      "3   20191119      카리스국보  001140   6.268    3655.0\n",
      "4   20191119       동성제약  002210  10.156   17900.0\n",
      "5   20191119  에이프로젠 KIC  007460   0.000    2200.0\n",
      "6   20191119      엔케이물산  009810   0.212     755.0\n",
      "7   20191119      웰바이오텍  010600   0.000    2500.0\n",
      "8   20191119       일신석재  007110   0.000    3005.0\n",
      "9   20191119       남광토건  001260   0.000   12750.0\n",
      "10  20191119       삼일제약  000520   5.376   21500.0\n",
      "11  20191119       인스코비  006490   1.692    3295.0\n",
      "12  20191119       인디에프  014990   0.000    3070.0\n",
      "13  20191119         조비  001550   0.000   18150.0\n",
      "14  20191119      대호에이엘  069460  13.518    5210.0\n",
      "15  20191119        파미셀  005690   0.000    8220.0\n",
      "16  20191119       동양철관  008970   0.000    1150.0\n",
      "17  20191119     동양네트웍스  030790   0.000     594.0\n",
      "18  20191119       일성건설  013360   0.000    1385.0\n"
     ]
    }
   ],
   "source": [
    "mp21 = {'날짜':date_col,\n",
    "      '종목명':종목명,\n",
    "      '종목코드':종목코드,\n",
    "      '비중':list((optsx * Wstk[1]).round(3)),\n",
    "      '현재가':현재가}\n",
    "df21 = pd.DataFrame(mp21,columns = ['날짜','종목명','종목코드','비중','현재가'])\n",
    "print(df11)"
   ]
  },
  {
   "cell_type": "code",
   "execution_count": 79,
   "metadata": {
    "colab": {},
    "colab_type": "code",
    "id": "X-fuParH-Jsc"
   },
   "outputs": [
    {
     "name": "stdout",
     "output_type": "stream",
     "text": [
      "          날짜        종목명    종목코드      비중       현재가\n",
      "0   20191119      나노메딕스  074610   6.107    9900.0\n",
      "1   20191119        필룩스  033180  11.099    9890.0\n",
      "2   20191119       부산산업  011390   8.351  171500.0\n",
      "3   20191119      카리스국보  001140  12.535    3655.0\n",
      "4   20191119       동성제약  002210  20.313   17900.0\n",
      "5   20191119  에이프로젠 KIC  007460   0.000    2200.0\n",
      "6   20191119      엔케이물산  009810   0.423     755.0\n",
      "7   20191119      웰바이오텍  010600   0.000    2500.0\n",
      "8   20191119       일신석재  007110   0.000    3005.0\n",
      "9   20191119       남광토건  001260   0.000   12750.0\n",
      "10  20191119       삼일제약  000520  10.752   21500.0\n",
      "11  20191119       인스코비  006490   3.385    3295.0\n",
      "12  20191119       인디에프  014990   0.000    3070.0\n",
      "13  20191119         조비  001550   0.000   18150.0\n",
      "14  20191119      대호에이엘  069460  27.035    5210.0\n",
      "15  20191119        파미셀  005690   0.000    8220.0\n",
      "16  20191119       동양철관  008970   0.000    1150.0\n",
      "17  20191119     동양네트웍스  030790   0.000     594.0\n",
      "18  20191119       일성건설  013360   0.000    1385.0\n"
     ]
    }
   ],
   "source": [
    "mp31 = {'날짜':date_col,\n",
    "      '종목명':종목명,\n",
    "      '종목코드':종목코드,\n",
    "      '비중':list((optsx * Wstk[2]).round(3)),\n",
    "      '현재가':현재가}\n",
    "df31 = pd.DataFrame(mp31,columns = ['날짜','종목명','종목코드','비중','현재가'])\n",
    "print(df31)"
   ]
  },
  {
   "cell_type": "code",
   "execution_count": 80,
   "metadata": {
    "colab": {},
    "colab_type": "code",
    "id": "hSbxLB7FBUSu"
   },
   "outputs": [
    {
     "name": "stdout",
     "output_type": "stream",
     "text": [
      "\n",
      " >> 종목명 : Index(['KBSTAR 단기통안채', 'KODEX 단기채권', 'KODEX 국고채3년', 'KOSEF 통안채1년'], dtype='object')\n",
      "\n",
      " >> 종목코드 : 0    196230\n",
      "1    153130\n",
      "2    114260\n",
      "3    122260\n",
      "Name: 종목코드, dtype: object\n",
      "\n",
      " >> 현재가 : [104970.0, 101480.0, 56735.0, 102505.0]\n",
      "            KBSTAR 단기통안채  KODEX 단기채권  KODEX 국고채3년  KOSEF 통안채1년\n",
      "날짜                                                            \n",
      "20171103.0           NaN         NaN          NaN          NaN\n",
      "20171106.0      0.000098    0.000051    -0.000911     0.000243\n",
      "20171107.0      0.000148    0.000102     0.000818     0.000101\n",
      "20171108.0      0.000000    0.000051     0.000186     0.000091\n",
      "20171109.0      0.000138    0.000092    -0.000632     0.000152\n",
      "KBSTAR 단기통안채    0.016693\n",
      "KODEX 단기채권      0.016685\n",
      "KODEX 국고채3년     0.026741\n",
      "KOSEF 통안채1년     0.019738\n",
      "dtype: float64\n",
      "              KBSTAR 단기통안채    KODEX 단기채권  KODEX 국고채3년   KOSEF 통안채1년\n",
      "KBSTAR 단기통안채  1.773445e-06  6.595152e-07     0.000004 -3.232500e-07\n",
      "KODEX 단기채권    6.595152e-07  1.273322e-06     0.000002 -1.428846e-06\n",
      "KODEX 국고채3년   3.731868e-06  2.192904e-06     0.000117 -1.403681e-05\n",
      "KOSEF 통안채1년  -3.232500e-07 -1.428846e-06    -0.000014  1.062891e-03\n",
      "     fun: 7.277583983465286e-05\n",
      "     jac: array([2.92078767e-06, 1.34844686e-06, 5.43864726e-05, 5.23551025e-04])\n",
      " message: 'Optimization terminated successfully.'\n",
      "    nfev: 6\n",
      "     nit: 1\n",
      "    njev: 1\n",
      "  status: 0\n",
      " success: True\n",
      "       x: array([0.25, 0.25, 0.25, 0.25])\n",
      "\n",
      " >> 비중 : [25. 25. 25. 25.]\n"
     ]
    }
   ],
   "source": [
    "# 채권ETF 배분\n",
    "raw_data2 = pd.read_csv('bond_etf.csv',index_col=['날짜'], parse_dates=['날짜'])\n",
    "종목명2 = raw_data2.columns\n",
    "print('\\n >> 종목명 :', 종목명2)\n",
    "\n",
    "noa2 = len(종목명2) # 자산수\n",
    "\n",
    "symbol_data2 = pd.read_csv('symbol_cd2.csv',index_col=None,dtype={'종목코드':str})\n",
    "종목코드2 = symbol_data2['종목코드']\n",
    "print('\\n >> 종목코드 :', 종목코드2)\n",
    "\n",
    "work_data2 = raw_data2.iloc[-공분산_산출기간:]\n",
    "현재가2 = list(raw_data2.iloc[-1])\n",
    "print('\\n >> 현재가 :', 현재가2)\n",
    "로그수익률2 = np.log(work_data2 / work_data2.shift(1))\n",
    "print(로그수익률2.head())\n",
    "\n",
    "R2 = 로그수익률2.mean() * 252 # 연수익률\n",
    "print(R2)\n",
    "\n",
    "C2 = 로그수익률2.cov() * 252  # 공분산, 표준편차가 아닌 분산이다\n",
    "print(C2)  \n",
    "\n",
    "# 제약조건\n",
    "cons = ({'type': 'eq', 'fun': lambda x: np.sum(x) - 1},\n",
    "        {'type': 'ineq', 'fun': lambda x: (x >= 0.01).sum() - 2},  # 3종목 이상 나오게\n",
    "        {'type': 'ineq', 'fun': lambda x: (x >= 0.01).sum() - 1}) \n",
    "\n",
    "# 범위값\n",
    "bnds = tuple((0, 1) for x in range(noa2))\n",
    "# 안전자산에 대해서는 위험도가 가장 작은 포트폴리오를 구성\n",
    "opts2 = sco.minimize(min_func_variance, noa2 * [1. / noa2, ], (R2, C2), method='SLSQP', bounds=bnds, constraints=cons)\n",
    "print(opts2)  # x값이 포트폴리오 비중\n",
    "optsx2 = (opts2['x'] * 100).round(3)  # 샤프지수 최대 포트폴리오 결과값\n",
    "print('\\n >> 비중 :', optsx2)"
   ]
  },
  {
   "cell_type": "markdown",
   "metadata": {
    "colab_type": "text",
    "id": "nnV-SIgmTF_H"
   },
   "source": [
    "# 투자자성향별 MP 비중 조정 후 저장"
   ]
  },
  {
   "cell_type": "code",
   "execution_count": 81,
   "metadata": {
    "colab": {},
    "colab_type": "code",
    "id": "ddUg5VKO_RjU"
   },
   "outputs": [
    {
     "name": "stdout",
     "output_type": "stream",
     "text": [
      "          날짜           종목명    종목코드      비중       현재가\n",
      "0   20191119         나노메딕스  074610   3.054    9900.0\n",
      "1   20191119           필룩스  033180   5.550    9890.0\n",
      "2   20191119          부산산업  011390   4.176  171500.0\n",
      "3   20191119         카리스국보  001140   6.268    3655.0\n",
      "4   20191119          동성제약  002210  10.156   17900.0\n",
      "5   20191119     에이프로젠 KIC  007460   0.000    2200.0\n",
      "6   20191119         엔케이물산  009810   0.212     755.0\n",
      "7   20191119         웰바이오텍  010600   0.000    2500.0\n",
      "8   20191119          일신석재  007110   0.000    3005.0\n",
      "9   20191119          남광토건  001260   0.000   12750.0\n",
      "10  20191119          삼일제약  000520   5.376   21500.0\n",
      "11  20191119          인스코비  006490   1.692    3295.0\n",
      "12  20191119          인디에프  014990   0.000    3070.0\n",
      "13  20191119            조비  001550   0.000   18150.0\n",
      "14  20191119         대호에이엘  069460  13.518    5210.0\n",
      "15  20191119           파미셀  005690   0.000    8220.0\n",
      "16  20191119          동양철관  008970   0.000    1150.0\n",
      "17  20191119        동양네트웍스  030790   0.000     594.0\n",
      "18  20191119          일성건설  013360   0.000    1385.0\n",
      "19  20191119  KBSTAR 단기통안채  196230  12.500  104970.0\n",
      "20  20191119    KODEX 단기채권  153130  12.500  101480.0\n",
      "21  20191119   KODEX 국고채3년  114260  12.500   56735.0\n",
      "22  20191119   KOSEF 통안채1년  122260  12.500  102505.0\n"
     ]
    }
   ],
   "source": [
    "date_col2 = [current_dt for i in range(noa2)] # 날짜 칼럼 생성\n",
    "\n",
    "mp12 = {'날짜':date_col2,\n",
    "      '종목명':종목명2,\n",
    "      '종목코드':종목코드2,\n",
    "      '비중':list((optsx2 * (1 - Wstk[0])).round(3)),\n",
    "      '현재가':현재가2}\n",
    "df12 = pd.DataFrame(mp12,columns = ['날짜','종목명','종목코드','비중','현재가'])\n",
    "df11 = pd.concat([df11,df12],axis=0,ignore_index=True)\n",
    "print(df11)\n",
    "df11.to_csv(out_path+'MVO_model_portfolio_'+current_dt+'_1.csv', index=None, encoding='ANSI')"
   ]
  },
  {
   "cell_type": "code",
   "execution_count": 82,
   "metadata": {
    "colab": {},
    "colab_type": "code",
    "id": "2JrNj-PX_rRm"
   },
   "outputs": [
    {
     "name": "stdout",
     "output_type": "stream",
     "text": [
      "          날짜           종목명    종목코드      비중       현재가\n",
      "0   20191119         나노메딕스  074610   4.275    9900.0\n",
      "1   20191119           필룩스  033180   7.769    9890.0\n",
      "2   20191119          부산산업  011390   5.846  171500.0\n",
      "3   20191119         카리스국보  001140   8.774    3655.0\n",
      "4   20191119          동성제약  002210  14.219   17900.0\n",
      "5   20191119     에이프로젠 KIC  007460   0.000    2200.0\n",
      "6   20191119         엔케이물산  009810   0.296     755.0\n",
      "7   20191119         웰바이오텍  010600   0.000    2500.0\n",
      "8   20191119          일신석재  007110   0.000    3005.0\n",
      "9   20191119          남광토건  001260   0.000   12750.0\n",
      "10  20191119          삼일제약  000520   7.526   21500.0\n",
      "11  20191119          인스코비  006490   2.369    3295.0\n",
      "12  20191119          인디에프  014990   0.000    3070.0\n",
      "13  20191119            조비  001550   0.000   18150.0\n",
      "14  20191119         대호에이엘  069460  18.924    5210.0\n",
      "15  20191119           파미셀  005690   0.000    8220.0\n",
      "16  20191119          동양철관  008970   0.000    1150.0\n",
      "17  20191119        동양네트웍스  030790   0.000     594.0\n",
      "18  20191119          일성건설  013360   0.000    1385.0\n",
      "19  20191119  KBSTAR 단기통안채  196230   7.500  104970.0\n",
      "20  20191119    KODEX 단기채권  153130   7.500  101480.0\n",
      "21  20191119   KODEX 국고채3년  114260   7.500   56735.0\n",
      "22  20191119   KOSEF 통안채1년  122260   7.500  102505.0\n"
     ]
    }
   ],
   "source": [
    "mp22 = {'날짜':date_col2,\n",
    "      '종목명':종목명2,\n",
    "      '종목코드':종목코드2,\n",
    "      '비중':list((optsx2 * (1 - Wstk[1])).round(3)),\n",
    "      '현재가':현재가2}\n",
    "df22 = pd.DataFrame(mp22,columns = ['날짜','종목명','종목코드','비중','현재가'])\n",
    "df21 = pd.concat([df21,df22],axis=0,ignore_index=True)\n",
    "print(df21)\n",
    "df21.to_csv(out_path+'MVO_model_portfolio_'+current_dt+'_2.csv', index=None, encoding='ANSI')"
   ]
  },
  {
   "cell_type": "code",
   "execution_count": 83,
   "metadata": {
    "colab": {},
    "colab_type": "code",
    "id": "g4-_IFxf_4wS"
   },
   "outputs": [
    {
     "name": "stdout",
     "output_type": "stream",
     "text": [
      "          날짜           종목명    종목코드      비중       현재가\n",
      "0   20191119         나노메딕스  074610   6.107    9900.0\n",
      "1   20191119           필룩스  033180  11.099    9890.0\n",
      "2   20191119          부산산업  011390   8.351  171500.0\n",
      "3   20191119         카리스국보  001140  12.535    3655.0\n",
      "4   20191119          동성제약  002210  20.313   17900.0\n",
      "5   20191119     에이프로젠 KIC  007460   0.000    2200.0\n",
      "6   20191119         엔케이물산  009810   0.423     755.0\n",
      "7   20191119         웰바이오텍  010600   0.000    2500.0\n",
      "8   20191119          일신석재  007110   0.000    3005.0\n",
      "9   20191119          남광토건  001260   0.000   12750.0\n",
      "10  20191119          삼일제약  000520  10.752   21500.0\n",
      "11  20191119          인스코비  006490   3.385    3295.0\n",
      "12  20191119          인디에프  014990   0.000    3070.0\n",
      "13  20191119            조비  001550   0.000   18150.0\n",
      "14  20191119         대호에이엘  069460  27.035    5210.0\n",
      "15  20191119           파미셀  005690   0.000    8220.0\n",
      "16  20191119          동양철관  008970   0.000    1150.0\n",
      "17  20191119        동양네트웍스  030790   0.000     594.0\n",
      "18  20191119          일성건설  013360   0.000    1385.0\n",
      "19  20191119  KBSTAR 단기통안채  196230   0.000  104970.0\n",
      "20  20191119    KODEX 단기채권  153130   0.000  101480.0\n",
      "21  20191119   KODEX 국고채3년  114260   0.000   56735.0\n",
      "22  20191119   KOSEF 통안채1년  122260   0.000  102505.0\n"
     ]
    }
   ],
   "source": [
    "mp32 = {'날짜':date_col2,\n",
    "      '종목명':종목명2,\n",
    "      '종목코드':종목코드2,\n",
    "      '비중':list((optsx2 * (1 - Wstk[2])).round(3)),\n",
    "      '현재가':현재가2}\n",
    "df32 = pd.DataFrame(mp32,columns = ['날짜','종목명','종목코드','비중','현재가'])\n",
    "df31 = pd.concat([df31,df32],axis=0,ignore_index=True)\n",
    "print(df31)\n",
    "df31.to_csv(out_path+'MVO_model_portfolio_'+current_dt+'_3.csv', index=None)"
   ]
  },
  {
   "cell_type": "code",
   "execution_count": null,
   "metadata": {
    "colab": {},
    "colab_type": "code",
    "id": "Ez8Gwpxd_52d"
   },
   "outputs": [],
   "source": []
  },
  {
   "cell_type": "code",
   "execution_count": null,
   "metadata": {},
   "outputs": [],
   "source": []
  }
 ],
 "metadata": {
  "anaconda-cloud": {},
  "colab": {
   "collapsed_sections": [],
   "name": "MVO모델_투자자성향별_포트_산출.ipynb",
   "provenance": [],
   "toc_visible": true
  },
  "kernelspec": {
   "display_name": "Python [default]",
   "language": "python",
   "name": "python3"
  },
  "language_info": {
   "codemirror_mode": {
    "name": "ipython",
    "version": 3
   },
   "file_extension": ".py",
   "mimetype": "text/x-python",
   "name": "python",
   "nbconvert_exporter": "python",
   "pygments_lexer": "ipython3",
   "version": "3.5.4"
  }
 },
 "nbformat": 4,
 "nbformat_minor": 1
}
