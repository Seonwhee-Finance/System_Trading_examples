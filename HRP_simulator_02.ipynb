{
 "cells": [
  {
   "cell_type": "markdown",
   "metadata": {
    "colab_type": "text",
    "id": "xglQX-SlHEDH"
   },
   "source": [
    "# 계층적 위험 등가(Hierarchical Risk Parity) 모델 시뮬레이터(2)\n",
    "MP와 잔고 변동 현황을 비교하여 기준 이상의 괴리가 발생하면 리밸런싱 처리"
   ]
  },
  {
   "cell_type": "code",
   "execution_count": 0,
   "metadata": {
    "colab": {},
    "colab_type": "code",
    "id": "ADPNwMllBrz_"
   },
   "outputs": [],
   "source": [
    "import math\n",
    "import numpy as np\n",
    "import pandas as pd\n",
    "import scipy.optimize as sco\n",
    "import platform\n",
    "import datetime as dt\n",
    "import matplotlib.pyplot as plt\n",
    "import cvxopt as opt\n",
    "import scipy.cluster.hierarchy as sch\n",
    "from multiprocessing import Pool # 멀티프로세싱\n",
    "from matplotlib import font_manager, rc\n",
    "from glob import glob # 폴더 내의 파일들을 리스트로 반환\n",
    "from cvxopt import blas, solvers\n",
    "from datetime import timedelta\n"
   ]
  },
  {
   "cell_type": "markdown",
   "metadata": {
    "colab_type": "text",
    "id": "vnPyqXzCRERd"
   },
   "source": [
    "# 예스트레이더 출력 결과물을 Pandas 형태로 포맷 변환"
   ]
  },
  {
   "cell_type": "code",
   "execution_count": 0,
   "metadata": {
    "colab": {},
    "colab_type": "code",
    "id": "A7cSE4PtdlAp"
   },
   "outputs": [],
   "source": [
    "# 예스트레이더 종목검색 결과를 날짜 기준으로 포맷팅\n",
    "def convert_yes_price_file(gubun):\n",
    "    # 우리나라 시간 = 그리니치 표준시 + 9시\n",
    "    file_dt = (dt.datetime.now() + dt.timedelta(hours=9)).strftime('%Y%m%d')\n",
    "\n",
    "    yes_price_file = pd.DataFrame()\n",
    "    # 예스트레이더 출력용 지표식과 칼럼수 일치시켜야 함.\n",
    "    yes_price_file = pd.read_csv('yes_stock_price_' + file_dt + '.csv',encoding= 'euc-kr',\n",
    "                           names = ['날짜1','종목명','종목코드','날짜','시가','고가','저가','종가','거래량',\n",
    "                                    '단기이평','중기이평','장기이평','지수단기이평','지수중기이평','지수장기이평',\n",
    "                                    'MACD','MACD_OSC','ATR','CCI','StoK','StoD','TRIX','이격도'],\n",
    "                           index_col= 1, header=None, dtype={'종목코드':str})\n",
    "\n",
    "    종목명 = yes_price_file.index.unique()\n",
    "    종목코드 = yes_price_file['종목코드'].unique()  # 종목코드 사용할 경우를 위해 별도 저장\n",
    "    df1 = {'종목명':종목명,\n",
    "           '종목코드':종목코드}\n",
    "    df1 = pd.DataFrame(df1)\n",
    "    df1.to_csv('symbol_cd.csv')\n",
    "\n",
    "    cls_p_data = pd.DataFrame()\n",
    "    vol_data = pd.DataFrame()\n",
    "    if gubun == 1:\n",
    "        hi_p_data = pd.DataFrame()\n",
    "        lo_p_data = pd.DataFrame()\n",
    "        sma_data = pd.DataFrame()\n",
    "        mma_data = pd.DataFrame()\n",
    "        lma_data = pd.DataFrame()\n",
    "        sema_data = pd.DataFrame()\n",
    "        mema_data = pd.DataFrame()\n",
    "        lema_data = pd.DataFrame()\n",
    "        macd_data = pd.DataFrame()\n",
    "        macdo_data = pd.DataFrame()\n",
    "        atr_data = pd.DataFrame()\n",
    "        cci_data = pd.DataFrame()\n",
    "        stok_data = pd.DataFrame()\n",
    "        stod_data = pd.DataFrame()\n",
    "        trix_data = pd.DataFrame()\n",
    "        dis_data = pd.DataFrame()\n",
    "\n",
    "    for i in range(len(종목명)):\n",
    "        cls_p = yes_price_file.loc[종목명[i],['날짜','종가']]\n",
    "        cls_p.set_index(['날짜'],inplace=True)\n",
    "        cls_p_data = pd.concat([cls_p_data,cls_p],axis=1) \n",
    "\n",
    "        vol = yes_price_file.loc[종목명[i],['날짜','거래량']]\n",
    "        vol.set_index(['날짜'],inplace=True)\n",
    "        vol_data = pd.concat([vol_data,vol],axis=1) \n",
    "\n",
    "        if gubun == 1:\n",
    "            hi_p = yes_price_file.loc[종목명[i],['날짜','고가']]\n",
    "            hi_p.set_index(['날짜'],inplace=True)\n",
    "            hi_p_data = pd.concat([hi_p_data,hi_p],axis=1) \n",
    "\n",
    "            lo_p = yes_price_file.loc[종목명[i],['날짜','저가']]\n",
    "            lo_p.set_index(['날짜'],inplace=True)\n",
    "            lo_p_data = pd.concat([lo_p_data,lo_p],axis=1) \n",
    "\n",
    "            sma = yes_price_file.loc[종목명[i],['날짜','단기이평']]\n",
    "            sma.set_index(['날짜'],inplace=True)\n",
    "            sma_data = pd.concat([sma_data,sma],axis=1) \n",
    "\n",
    "            mma = yes_price_file.loc[종목명[i],['날짜','중기이평']]\n",
    "            mma.set_index(['날짜'],inplace=True)\n",
    "            mma_data = pd.concat([mma_data,mma],axis=1) \n",
    "\n",
    "            lma = yes_price_file.loc[종목명[i],['날짜','장기이평']]\n",
    "            lma.set_index(['날짜'],inplace=True)\n",
    "            lma_data = pd.concat([lma_data,lma],axis=1) \n",
    "\n",
    "            atr = yes_price_file.loc[종목명[i],['날짜','ATR']]\n",
    "            atr.set_index(['날짜'],inplace=True)\n",
    "            atr_data = pd.concat([atr_data,atr],axis=1) \n",
    "\n",
    "    cls_p_data.columns = 종목명\n",
    "    print('\\n 종가데이터 \\n', cls_p_data.head())\n",
    "    cls_p_data.to_csv('cls_p_data.csv')\n",
    "\n",
    "    vol_data.columns = 종목명\n",
    "    print('\\n 거래량 \\n', vol_data.head())\n",
    "    vol_data.to_csv('volume_data.csv')\n",
    "\n",
    "    if gubun == 1:\n",
    "        hi_p_data.columns = 종목명\n",
    "        print('\\n 고가데이터 \\n', hi_p_data.head())\n",
    "        hi_p_data.to_csv('hi_p_data.csv')\n",
    "\n",
    "        lo_p_data.columns = 종목명\n",
    "        print('\\n 저가데이터 \\n', lo_p_data.head())\n",
    "        lo_p_data.to_csv('lo_p_data.csv')\n",
    "\n",
    "        sma_data.columns = 종목명\n",
    "        print('\\n 단기이평 \\n', sma_data.head())\n",
    "        sma_data.to_csv('sma_data.csv')\n",
    "\n",
    "        mma_data.columns = 종목명\n",
    "        print('\\n 중기이평 \\n', mma_data.head())\n",
    "        mma_data.to_csv('mma_data.csv')\n",
    "\n",
    "        lma_data.columns = 종목명\n",
    "        print('\\n 장기이평 \\n', lma_data.head())\n",
    "        lma_data.to_csv('lma_data.csv')\n",
    "\n",
    "        atr_data.columns = 종목명\n",
    "        print('\\n ATR \\n', atr_data.head())\n",
    "        atr_data.to_csv('atr_data.csv')"
   ]
  },
  {
   "cell_type": "code",
   "execution_count": 0,
   "metadata": {
    "colab": {
     "base_uri": "https://localhost:8080/",
     "height": 404
    },
    "colab_type": "code",
    "id": "VODmh14ze6Fo",
    "outputId": "e25b5f75-0258-4114-f440-7a971db32556"
   },
   "outputs": [
    {
     "name": "stdout",
     "output_type": "stream",
     "text": [
      "\n",
      " 종가데이터 \n",
      " 종목명         나노메딕스     필룩스   카리스국보    동성제약  ...     파미셀   일성건설     비티원     한창\n",
      "날짜                                         ...                              \n",
      "20131007.0  644.0  1493.0  1007.0  4010.0  ...  4055.0  596.0  1090.0  505.0\n",
      "20131008.0  621.0  1460.0   986.0  3925.0  ...  4075.0  603.0  1075.0  493.0\n",
      "20131010.0  618.0  1489.0   982.0  3860.0  ...  4005.0  600.0  1090.0  490.0\n",
      "20131011.0  619.0  1503.0   986.0  3770.0  ...  4190.0  605.0  1060.0  495.0\n",
      "20131014.0  612.0  1522.0   978.0  3795.0  ...  4395.0  606.0  1040.0  495.0\n",
      "\n",
      "[5 rows x 18 columns]\n",
      "\n",
      " 거래량 \n",
      " 종목명            나노메딕스       필룩스   카리스국보  ...     일성건설      비티원        한창\n",
      "날짜                                      ...                            \n",
      "20131007.0   45802.0  117201.0  5780.0  ...  21562.0  33100.0  144080.0\n",
      "20131008.0   86170.0  172264.0  2650.0  ...  14712.0  13170.0   70850.0\n",
      "20131010.0   36482.0  112361.0  1840.0  ...  22720.0   6580.0   11660.0\n",
      "20131011.0   22642.0  111135.0  3500.0  ...   9610.0  16430.0   69851.0\n",
      "20131014.0  115579.0  200130.0  1090.0  ...   5560.0  28380.0   26812.0\n",
      "\n",
      "[5 rows x 18 columns]\n"
     ]
    }
   ],
   "source": [
    "gubun = 0 # 지표 파일을 만들려면 1로, 안 만들여면 0\n",
    "          # 청산로직을 반영하려면 지표 파일도 생성해야 한다.\n",
    "convert_yes_price_file(gubun)  "
   ]
  },
  {
   "cell_type": "markdown",
   "metadata": {
    "colab_type": "text",
    "id": "FdxucbgBHbvN"
   },
   "source": [
    "# 전역 변수 선언"
   ]
  },
  {
   "cell_type": "code",
   "execution_count": 0,
   "metadata": {
    "colab": {},
    "colab_type": "code",
    "id": "qOzqZpExBr0H"
   },
   "outputs": [],
   "source": [
    "# 전역변수 선언\n",
    "raw_data = pd.DataFrame()\n",
    "cls_p_data = pd.DataFrame()\n",
    "hi_p_data = pd.DataFrame()\n",
    "lo_p_data = pd.DataFrame()\n",
    "vol_data = pd.DataFrame()\n",
    "atr_data = pd.DataFrame()\n",
    "보유수량_테이블 = pd.DataFrame()\n",
    "진입가격_테이블 = pd.DataFrame()\n",
    "MP비중_테이블 = pd.DataFrame()\n",
    "평가금액_테이블 = pd.DataFrame()\n",
    "진입후최고가 = pd.DataFrame()\n",
    "칼럼명 = []\n",
    "최초투입자금 = 100000000\n",
    "etf_yes_no = False\n",
    "진입수수료율 = 0.002  # 진입수수료율\n",
    "청산수수료율 = 0.002 if etf_yes_no else 0.005 # 청산수수료율\n",
    "진입슬리피지 = 1  # 집입슬리피지 n틱\n",
    "청산슬리피지 = 1  # 청산슬리피지 n틱\n",
    "시장구분 = 1  # 1:kospi,  2:kosdaq\n",
    "포트가공기간 = 0\n",
    "debug_mode = False\n"
   ]
  },
  {
   "cell_type": "markdown",
   "metadata": {
    "colab_type": "text",
    "id": "E2qjyhMIHhOt"
   },
   "source": [
    "# 사용자 함수 선언"
   ]
  },
  {
   "cell_type": "code",
   "execution_count": 0,
   "metadata": {
    "colab": {},
    "colab_type": "code",
    "id": "EBJKubAKBr0R"
   },
   "outputs": [],
   "source": [
    "def calc_tick(price, k_q_gubun):\n",
    "    # 호가단위\n",
    "    tick_size = 0\n",
    "    if k_q_gubun == 1:  # 1: kospi\n",
    "        if price < 1000:\n",
    "            tick_size = 1\n",
    "        elif price < 5000:\n",
    "            tick_size = 5\n",
    "        elif price < 10000:\n",
    "            tick_size = 10\n",
    "        elif price < 50000:\n",
    "            tick_size = 50\n",
    "        elif price < 100000:\n",
    "            tick_size = 100\n",
    "        elif price < 500000:\n",
    "            tick_size = 500\n",
    "        else:\n",
    "            tick_size = 1000\n",
    "    elif k_q_gubun == 2:  # 2: kosdaq\n",
    "        if price < 1000:\n",
    "            tick_size = 1\n",
    "        elif price < 5000:\n",
    "            tick_size = 5\n",
    "        elif price < 10000:\n",
    "            tick_size = 10\n",
    "        elif price < 50000:\n",
    "            tick_size = 50\n",
    "        else:\n",
    "            tick_size = 100\n",
    "    return tick_size\n"
   ]
  },
  {
   "cell_type": "code",
   "execution_count": 0,
   "metadata": {
    "colab": {},
    "colab_type": "code",
    "id": "z4yYfyMhi_bo"
   },
   "outputs": [],
   "source": [
    "def getIVP(cov, **kargs):\n",
    "    # Compute the inverse-variance portfolio\n",
    "    ivp = 1. / np.diag(cov)  # np.diag - 대각 행렬의 값을 가져옴  \n",
    "    ivp /= ivp.sum()\n",
    "    return ivp"
   ]
  },
  {
   "cell_type": "code",
   "execution_count": 0,
   "metadata": {
    "colab": {},
    "colab_type": "code",
    "id": "I-omdFuCjECH"
   },
   "outputs": [],
   "source": [
    "def getClusterVar(cov,cItems):\n",
    "    # Compute variance per cluster\n",
    "    cov_=cov.loc[cItems,cItems] # matrix slice\n",
    "    w_=getIVP(cov_).reshape(-1,1)\n",
    "    cVar=np.dot(np.dot(w_.T,cov_),w_)[0,0]\n",
    "    return cVar"
   ]
  },
  {
   "cell_type": "code",
   "execution_count": 0,
   "metadata": {
    "colab": {},
    "colab_type": "code",
    "id": "mqz85eUBjGvX"
   },
   "outputs": [],
   "source": [
    "def getQuasiDiag(link):\n",
    "    # Sort clustered items by distance\n",
    "    link = link.astype(int)\n",
    "    sortIx = pd.Series([link[-1, 0], link[-1, 1]])\n",
    "    numItems = link[-1, 3]  # number of original items\n",
    "    while sortIx.max() >= numItems:\n",
    "        sortIx.index = range(0, sortIx.shape[0] * 2, 2)  # make space\n",
    "        df0 = sortIx[sortIx >= numItems]  # find clusters\n",
    "        i = df0.index\n",
    "        j = df0.values - numItems\n",
    "        sortIx[i] = link[j, 0]  # item 1\n",
    "        df0 = pd.Series(link[j, 1], index=i + 1)\n",
    "        sortIx = sortIx.append(df0)  # item 2\n",
    "        sortIx = sortIx.sort_index()  # re-sort\n",
    "        sortIx.index = range(sortIx.shape[0])  # re-index\n",
    "    return sortIx.tolist()"
   ]
  },
  {
   "cell_type": "code",
   "execution_count": 0,
   "metadata": {
    "colab": {},
    "colab_type": "code",
    "id": "qs1v3TpSjJkS"
   },
   "outputs": [],
   "source": [
    "def getRecBipart(cov, sortIx):\n",
    "    # Compute HRP alloc\n",
    "    w = pd.Series(1, index=sortIx)\n",
    "    cItems = [sortIx]  # initialize all items in one cluster\n",
    "    while len(cItems) > 0:\n",
    "        cItems = [i[j:k] for i in cItems for j, k in ((0, len(i) // 2), (len(i) // 2, len(i))) if len(i) > 1]  # bi-section\n",
    "        for i in range(0, len(cItems), 2):  # parse in pairs\n",
    "            cItems0 = cItems[i]  # cluster 1\n",
    "            cItems1 = cItems[i + 1]  # cluster 2\n",
    "            cVar0 = getClusterVar(cov, cItems0)\n",
    "            cVar1 = getClusterVar(cov, cItems1)\n",
    "            alpha = 1 - cVar0 / (cVar0 + cVar1)\n",
    "            w[cItems0] *= alpha  # weight 1\n",
    "            w[cItems1] *= 1 - alpha  # weight 2\n",
    "    return w"
   ]
  },
  {
   "cell_type": "code",
   "execution_count": 0,
   "metadata": {
    "colab": {},
    "colab_type": "code",
    "id": "605b1j9VjMjx"
   },
   "outputs": [],
   "source": [
    "def correlDist(corr):\n",
    "    # A distance matrix based on correlation, where 0<=d[i,j]<=1\n",
    "    # This is a proper distance metric\n",
    "    dist = ((1 - corr) / 2.)**.5  # distance matrix\n",
    "    return dist"
   ]
  },
  {
   "cell_type": "code",
   "execution_count": 0,
   "metadata": {
    "colab": {},
    "colab_type": "code",
    "id": "MVAHc_ZWjPRC"
   },
   "outputs": [],
   "source": [
    "def getHRP(cov, corr):\n",
    "    # Construct a hierarchical portfolio\n",
    "    dist = correlDist(corr)\n",
    "    link = sch.linkage(dist, 'single')\n",
    "    #dn = sch.dendrogram(link, labels=cov.index.values, label_rotation=90)\n",
    "    #plt.show()\n",
    "    sortIx = getQuasiDiag(link)\n",
    "    sortIx = corr.index[sortIx].tolist()\n",
    "    hrp = getRecBipart(cov, sortIx)\n",
    "    return hrp.sort_index()"
   ]
  },
  {
   "cell_type": "code",
   "execution_count": 0,
   "metadata": {
    "colab": {},
    "colab_type": "code",
    "id": "-NOHwkXvjRdJ"
   },
   "outputs": [],
   "source": [
    "def getMVP(cov):\n",
    "\n",
    "    cov = cov.T.values\n",
    "    n = len(cov)\n",
    "    N = 100\n",
    "    mus = [10 ** (5.0 * t / N - 1.0) for t in range(N)]\n",
    "\n",
    "    # Convert to cvxopt matrices\n",
    "    S = opt.matrix(cov)\n",
    "    #pbar = opt.matrix(np.mean(returns, axis=1))\n",
    "    pbar = opt.matrix(np.ones(cov.shape[0]))\n",
    "\n",
    "    # Create constraint matrices\n",
    "    G = -opt.matrix(np.eye(n))  # negative n x n identity matrix\n",
    "    h = opt.matrix(0.0, (n, 1))\n",
    "    A = opt.matrix(1.0, (1, n))\n",
    "    b = opt.matrix(1.0)\n",
    "\n",
    "    # Calculate efficient frontier weights using quadratic programming\n",
    "    portfolios = [solvers.qp(mu * S, -pbar, G, h, A, b)['x']\n",
    "                  for mu in mus]\n",
    "    ## CALCULATE RISKS AND RETURNS FOR FRONTIER\n",
    "    returns = [blas.dot(pbar, x) for x in portfolios]\n",
    "    risks = [np.sqrt(blas.dot(x, S * x)) for x in portfolios]\n",
    "    ## CALCULATE THE 2ND DEGREE POLYNOMIAL OF THE FRONTIER CURVE\n",
    "    m1 = np.polyfit(returns, risks, 2)\n",
    "    x1 = np.sqrt(m1[2] / m1[0])\n",
    "    # CALCULATE THE OPTIMAL PORTFOLIO\n",
    "    wt = solvers.qp(opt.matrix(x1 * S), -pbar, G, h, A, b)['x']\n",
    "\n",
    "    return list(wt)"
   ]
  },
  {
   "cell_type": "code",
   "execution_count": 0,
   "metadata": {
    "colab": {},
    "colab_type": "code",
    "id": "wdD_bJGgjUEz"
   },
   "outputs": [],
   "source": [
    "def get_all_portfolios(returns):\n",
    "    \n",
    "    cov, corr = returns.cov(), returns.corr() # 공분산과 상관계수\n",
    "    hrp = getHRP(cov, corr)\n",
    "    ivp = getIVP(cov)\n",
    "    ivp = pd.Series(ivp, index=cov.index)\n",
    "    mvp = getMVP(cov)\n",
    "    mvp = pd.Series(mvp, index=cov.index)\n",
    "    \n",
    "    portfolios = pd.DataFrame([mvp, ivp, hrp], index=['MVP', 'IVP', 'HRP']).T\n",
    "    \n",
    "    return portfolios"
   ]
  },
  {
   "cell_type": "code",
   "execution_count": 0,
   "metadata": {
    "colab": {},
    "colab_type": "code",
    "id": "dbvG4lz4Br0d"
   },
   "outputs": [],
   "source": [
    "def 포트폴리오생성(row_num):\n",
    "    if debug_mode:\n",
    "        print(\"\\n 포트폴리오 생성 start\")\n",
    "    work_data = raw_data.iloc[row_num : row_num + 포트가공기간, 1:]\n",
    "    로그수익률 = np.log(work_data / work_data.shift(1))\n",
    "    cov, corr = 로그수익률.cov(), 로그수익률.corr() # 공분산과 상관계수\n",
    "    hrp = getHRP(cov, corr)\n",
    "    opt_msg = True\n",
    "    return opt_msg, hrp"
   ]
  },
  {
   "cell_type": "code",
   "execution_count": 0,
   "metadata": {
    "colab": {},
    "colab_type": "code",
    "id": "Co6ZARB3Br0f"
   },
   "outputs": [],
   "source": [
    "def 현재_평가금_계산(row_num):\n",
    "    평가금액합계 = 0\n",
    "    매수종목수 = 0\n",
    "    for j in range(1, len(칼럼명)):\n",
    "        if 보유수량_테이블.iloc[row_num, j] > 0:\n",
    "            수량 = 보유수량_테이블.iloc[row_num, j]\n",
    "            현재가 = cls_p_data.iloc[row_num, j]\n",
    "            평가금액합계 += math.floor((현재가 * (1 - 청산수수료율) * 수량) - (수량 * 청산슬리피지 * calc_tick(현재가, 시장구분)))\n",
    "            매수종목수 += 1\n",
    "    return (평가금액합계 + 평가금액_테이블['현금'][row_num]), 매수종목수"
   ]
  },
  {
   "cell_type": "code",
   "execution_count": 0,
   "metadata": {
    "colab": {},
    "colab_type": "code",
    "id": "btoaAksCkqEH"
   },
   "outputs": [],
   "source": [
    "def 비중_체크(row_num, 평가금액):\n",
    "    비중차이_합 = 0\n",
    "    for j in range(1, len(칼럼명)):\n",
    "        수량 = 보유수량_테이블.iloc[row_num, j]\n",
    "        현재가 = cls_p_data.iloc[row_num, j]\n",
    "        W = math.floor((현재가 * (1 - 청산수수료율) * 수량) - (수량 * 청산슬리피지 * calc_tick(현재가, 시장구분))) / 평가금액\n",
    "        비중차이_합 += abs(W * 100 - MP비중_테이블.iloc[row_num, j])\n",
    "    return 비중차이_합"
   ]
  },
  {
   "cell_type": "markdown",
   "metadata": {
    "colab_type": "text",
    "id": "TiHM3vlxHnxL"
   },
   "source": [
    "# 메인 함수"
   ]
  },
  {
   "cell_type": "code",
   "execution_count": 0,
   "metadata": {
    "colab": {},
    "colab_type": "code",
    "id": "xxnaHCvBBr0l"
   },
   "outputs": [],
   "source": [
    "def 메인_처리(기준일, 공분산_산출기간, 리밸런싱_주기, 리밸런싱_시작월, 리밸런싱_날짜, 비중차이, 차트출력):\n",
    "    global raw_data, cls_p_data, hi_p_data, lo_p_data, vol_data, atr_data, 포트가공기간, 칼럼명, 보유수량_테이블, 진입가격_테이블, \\\n",
    "           MP비중_테이블, 평가금액_테이블\n",
    "\n",
    "    포트가공기간 = 공분산_산출기간\n",
    "    if debug_mode:\n",
    "        print(\"시작\")\n",
    "    cls_p_data0 = pd.read_csv('cls_p_data.csv')\n",
    "    print(cls_p_data0.head())\n",
    "    vol_data0 = pd.read_csv('volume_data.csv')\n",
    "    시뮬레이션기간 = len(cls_p_data0[cls_p_data0.날짜 >= 기준일])\n",
    "    raw_data = cls_p_data0.iloc[-(시뮬레이션기간 + 공분산_산출기간):].reset_index(drop=True,inplace=False)\n",
    "    cls_p_data = cls_p_data0.iloc[-시뮬레이션기간:].reset_index(drop=True,inplace=False)\n",
    "    vol_data = vol_data0.iloc[-시뮬레이션기간:].reset_index(drop=True,inplace=False)\n",
    "    칼럼명 = cls_p_data.columns\n",
    "    noa = len(칼럼명) - 1 # 자산 수\n",
    "\n",
    "    매매수량_테이블 = pd.DataFrame(np.zeros((시뮬레이션기간, len(칼럼명))), columns=칼럼명)  # 매수,매도수량\n",
    "    매매금액_테이블 = pd.DataFrame(np.zeros((시뮬레이션기간, len(칼럼명))), columns=칼럼명)  # 매수,매도금액\n",
    "    진입가격_테이블 = pd.DataFrame(np.zeros((시뮬레이션기간, len(칼럼명))), columns=칼럼명)\n",
    "    보유수량_테이블 = pd.DataFrame(np.zeros((시뮬레이션기간, len(칼럼명))), columns=칼럼명)\n",
    "    보유비중_테이블 = pd.DataFrame(np.zeros((시뮬레이션기간, len(칼럼명))), columns=칼럼명)\n",
    "    보유비중_테이블['현금'] = 0 # 칼럼 추가\n",
    "    보유비중_테이블['리밸런싱사유'] = '' # 칼럼 추가\n",
    "    리밸런싱비중칼럼 = len(칼럼명) + 1\n",
    "    MP비중_테이블 = pd.DataFrame(np.zeros((시뮬레이션기간, len(칼럼명))), columns=칼럼명)\n",
    "    MP비중_테이블['리밸런싱사유'] = '' # 칼럼 추가\n",
    "    리밸런싱MP칼럼 = len(칼럼명)\n",
    "    평가금액_테이블 = pd.DataFrame(np.zeros((시뮬레이션기간, len(칼럼명))), columns=칼럼명)\n",
    "    평가금액_테이블['현금'] = 최초투입자금 # 칼럼 추가\n",
    "    평가금액_테이블['합계'] = 최초투입자금 # 칼럼 추가\n",
    "    평가금액_테이블['누적수익률'] = 0 # 칼럼 추가\n",
    "    평가금액_테이블['로그수익률'] = 0 # 칼럼 추가\n",
    "    평가금액_테이블['리밸런싱사유'] = '' # 칼럼 추가\n",
    "    현금칼럼 = len(칼럼명)\n",
    "    평가금액_테이블.iloc[0, 현금칼럼] = 최초투입자금  # 첫행에 현금열에 최초 투입자금 입력\n",
    "    합계칼럼 = 현금칼럼 + 1\n",
    "    수익률칼럼 = 합계칼럼 + 1\n",
    "    로그수익칼럼 = 수익률칼럼 + 1\n",
    "    리밸런싱칼럼 = 로그수익칼럼 + 1\n",
    "\n",
    "    prev_rebal_row = 0\n",
    "\n",
    "    for i in range(시뮬레이션기간):\n",
    "        yyyymmdd = cls_p_data['날짜'][i]\n",
    "        yyyy = yyyymmdd // 10000\n",
    "        mm = yyyymmdd // 100 - (yyyymmdd // 10000) * 100\n",
    "        dd = yyyymmdd % 100\n",
    "        dd1 = cls_p_data['날짜'][i + 1] % 100 if i + 1 < len(cls_p_data) else 31  # 익일 날짜\n",
    "        dd0 = cls_p_data['날짜'][i - 1] % 100 if i >= 1 else 1  # 전일 날짜\n",
    "\n",
    "        # 각 테이블의 날짜 칼럼에 날짜 업데이트\n",
    "        매매수량_테이블.iloc[i, 0] = yyyymmdd\n",
    "        매매금액_테이블.iloc[i, 0] = yyyymmdd\n",
    "        진입가격_테이블.iloc[i, 0] = yyyymmdd\n",
    "        보유수량_테이블.iloc[i, 0] = yyyymmdd\n",
    "        보유비중_테이블.iloc[i, 0] = yyyymmdd\n",
    "        MP비중_테이블.iloc[i, 0] = yyyymmdd\n",
    "        평가금액_테이블.iloc[i, 0] = yyyymmdd\n",
    "\n",
    "        if i >= 1:\n",
    "            # 전일 데이터를 그대로 가져오는 테이블의 처리, 매매수량과 매매금액_테이블은 거래있을 때만 처리\n",
    "            for j in range(1, len(칼럼명)):\n",
    "                진입가격_테이블.iloc[i, j] = 진입가격_테이블.iloc[i - 1, j]\n",
    "                보유수량_테이블.iloc[i, j] = 보유수량_테이블.iloc[i - 1, j]\n",
    "                MP비중_테이블.iloc[i, j] = MP비중_테이블.iloc[i - 1, j]\n",
    "            평가금액_테이블.iloc[i, 현금칼럼] = 평가금액_테이블.iloc[i - 1, 현금칼럼]  # 현금\n",
    "            if debug_mode:\n",
    "                print(\"\\n 현금 = \", 평가금액_테이블.iloc[i, 현금칼럼])\n",
    "\n",
    "        # 목표비중을 계산하려면 현재가 기준으로 평가금액을 합산해 놓아야 한다.\n",
    "        현재_평가금액, 매수종목수 = 현재_평가금_계산(i)\n",
    "\n",
    "        # 직전 리밸런싱 후 정기 리밸런싱 주기의 1/2은 지나야 리밸런싱\n",
    "        if ((dd0 < 리밸런싱_날짜 <= dd or 리밸런싱_날짜 <= dd < dd0 or dd1 < dd <= 리밸런싱_날짜) and \\\n",
    "             mm % 리밸런싱_주기 == 리밸런싱_시작월 and \\\n",
    "             i - prev_rebal_row >= 리밸런싱_주기 * 10) or \\\n",
    "             매수종목수 == 0:\n",
    "            리밸런싱_사유 = 1\n",
    "        else:\n",
    "            비중차이_합 = 비중_체크(i, 현재_평가금액)\n",
    "            if 비중차이_합 > 비중차이:\n",
    "                리밸런싱_사유 = 2\n",
    "            else:\n",
    "                리밸런싱_사유 = 0\n",
    "        if 리밸런싱_사유 > 0:\n",
    "            print(\">> 날짜체크\", i, yyyy, mm, dd, \", 리밸런싱발생\")\n",
    "            opt_result, W = 포트폴리오생성(i)\n",
    "            if opt_result == True:  # 포트폴리오 생성이 정상이라면\n",
    "                prev_rebal_row = i  # 직전 리밸런싱\n",
    "                현금 = 평가금액_테이블.iloc[i, 현금칼럼]\n",
    "                if debug_mode:\n",
    "                    print(\"현금 = \", 현금)\n",
    "                for k in range(1, len(칼럼명)):\n",
    "                    # k가 1부터 시작\n",
    "                    매입가능금액 = math.floor(현재_평가금액 * W[k - 1])\n",
    "                    현재가 = cls_p_data.iloc[i, k]\n",
    "                    거래량 = vol_data.iloc[i, k]\n",
    "                    목표수량 = math.floor(매입가능금액 / ((현재가 * (1 + 진입수수료율)) +\n",
    "                                          (진입슬리피지 * calc_tick(현재가, 시장구분))))\n",
    "                    현재수량 = 보유수량_테이블.iloc[i, k]\n",
    "                    if debug_mode:\n",
    "                        print(\"목표수량 = \", 목표수량, \"현재수량 = \", 현재수량)\n",
    "                    # 매도부터 실행해서 현금 만들고\n",
    "                    if 목표수량 < 현재수량 and 거래량 > 0:\n",
    "                        청산할수량 = 현재수량 - 목표수량\n",
    "                        청산금액 = math.floor((현재가 * (1 - 청산수수료율) * 청산할수량) -\n",
    "                                              (청산할수량 * 청산슬리피지 * calc_tick(현재가, 시장구분)))\n",
    "                        현금 += 청산금액\n",
    "                        if debug_mode:\n",
    "                            print(\"자산번호 = \", k, \"현금 = \", 현금)\n",
    "                        매매수량_테이블.iloc[i, k] = -청산할수량\n",
    "                        매매금액_테이블.iloc[i, k] = 청산금액  # 현금유입\n",
    "                        진입가격_테이블.iloc[i, k] = 현재가 if 목표수량 > 0 else 0\n",
    "                        보유수량_테이블.iloc[i, k] = 목표수량\n",
    "                        MP비중_테이블.iloc[i, k] = (W[k - 1] * 100).round(2)\n",
    "                        평가금액_테이블.iloc[i, 현금칼럼] = 현금\n",
    "\n",
    "                for k in range(1, len(칼럼명)):\n",
    "                    # k가 1부터 시작\n",
    "                    매입가능금액 = math.floor(현재_평가금액 * W[k - 1])\n",
    "                    현재가 = cls_p_data.iloc[i, k]\n",
    "                    거래량 = vol_data.iloc[i, k]\n",
    "                    목표수량 = math.floor(매입가능금액 / ((현재가 * (1 + 진입수수료율)) +\n",
    "                                                (진입슬리피지 * calc_tick(현재가, 시장구분))))\n",
    "                    현재수량 = 보유수량_테이블.iloc[i, k]\n",
    "                    if debug_mode:\n",
    "                        print(\"목표수량 = \", 목표수량, \"현재수량 = \", 현재수량)\n",
    "                    if 목표수량 > 현재수량 and 거래량 > 0:\n",
    "                        매입할수량 = 목표수량 - 현재수량\n",
    "                        매입금액 = math.ceil((현재가 * (1 + 진입수수료율) * 매입할수량) +\n",
    "                                         (매입할수량 * 진입슬리피지 * calc_tick(현재가, 시장구분)))\n",
    "                        if debug_mode:\n",
    "                            print(\"자산번호 = \", k, \"현금 = \", 현금)\n",
    "                        # 매도실패로 현금이 부족하면\n",
    "                        if 매입금액 > 현금:   \n",
    "                            매입할수량 = math.floor(현금 / ((현재가 * (1 + 진입수수료율)) +\n",
    "                                                (진입슬리피지 * calc_tick(현재가, 시장구분))))\n",
    "                            매입금액 = math.ceil((현재가 * (1 + 진입수수료율) * 매입할수량) +\n",
    "                                                (매입할수량 * 진입슬리피지 * calc_tick(현재가, 시장구분)))\n",
    "                            목표수량 = 현재수량 + 매입할수량\n",
    "                        현금 -= 매입금액\n",
    "                        매매수량_테이블.iloc[i, k] = 매입할수량\n",
    "                        매매금액_테이블.iloc[i, k] = -매입금액  # 현금지출\n",
    "                        진입가격_테이블.iloc[i, k] = 현재가  # 매수평균가가 아니라 리밸런싱한 날의 현재가를 저장\n",
    "                        보유수량_테이블.iloc[i, k] = 목표수량  # 매수면 수량 증가\n",
    "                        MP비중_테이블.iloc[i, k] = (W[k - 1] * 100).round(2)\n",
    "                        평가금액_테이블.iloc[i, 현금칼럼] = 현금\n",
    "                    elif 목표수량 > 0 and 목표수량 == 현재수량:\n",
    "                        진입가격_테이블.iloc[i, k] = 현재가  # 매수평균가가 아니라 리밸런싱한 날의 현재가를 저장\n",
    "                        MP비중_테이블.iloc[i, k] = (W[k - 1] * 100).round(2)\n",
    "                    else:    \n",
    "                        MP비중_테이블.iloc[i, k] = (W[k - 1] * 100).round(2)\n",
    "\n",
    "            if 리밸런싱_사유 == 1:\n",
    "                보유비중_테이블.iloc[i, 리밸런싱비중칼럼] = '정기'\n",
    "                MP비중_테이블.iloc[i, 리밸런싱MP칼럼] = '정기'\n",
    "                평가금액_테이블.iloc[i, 리밸런싱칼럼] = '정기'\n",
    "            elif 리밸런싱_사유 == 2:\n",
    "                보유비중_테이블.iloc[i, 리밸런싱비중칼럼] = '목표비중이탈 ' + str(비중차이_합.round(1))\n",
    "                MP비중_테이블.iloc[i, 리밸런싱MP칼럼] = '목표비중이탈 ' + str(비중차이_합.round(1))\n",
    "                평가금액_테이블.iloc[i, 리밸런싱칼럼] = '목표비중이탈 ' + str(비중차이_합.round(1))\n",
    "\n",
    "        평가금액합계 = 0\n",
    "        for j in range(1, len(칼럼명)):\n",
    "            if 보유수량_테이블.iloc[i, j] > 0:\n",
    "                수량 = 보유수량_테이블.iloc[i, j]\n",
    "                현재가 = cls_p_data.iloc[i, j]\n",
    "                평가금액 = math.floor((현재가 * (1 - 청산수수료율) * 수량) - (수량 * 청산슬리피지 * calc_tick(현재가, 시장구분)))\n",
    "            else:\n",
    "                평가금액 = 0\n",
    "            평가금액_테이블.iloc[i, j] = 평가금액\n",
    "            평가금액합계 += 평가금액\n",
    "        평가금액_테이블.iloc[i, 합계칼럼] = 평가금액합계 + 평가금액_테이블.iloc[i, 현금칼럼]\n",
    "        평가금액_테이블.iloc[i, 수익률칼럼] = (((평가금액_테이블.iloc[i, 합계칼럼] / 최초투입자금) - 1) * 100).round(2)\n",
    "        if i >= 1:\n",
    "            평가금액_테이블.iloc[i, 로그수익칼럼] = np.log(평가금액_테이블.iloc[i, 합계칼럼] /\n",
    "                                               평가금액_테이블.iloc[i - 1, 합계칼럼])\n",
    "        for j in range(1, len(칼럼명) + 1):\n",
    "            보유비중_테이블.iloc[i, j] = ((평가금액_테이블.iloc[i, j] / 평가금액_테이블.iloc[i, 합계칼럼]) * 100).round(2)\n",
    "        if debug_mode:\n",
    "            print(i, \"평가금액 =\", 평가금액_테이블.iloc[i, 합계칼럼], \"수익률 =\", 평가금액_테이블.iloc[i, 수익률칼럼])\n",
    "\n",
    "# 시뮬레이션 결과 보고서 만들기\n",
    "    연평균수익률 = np.mean(평가금액_테이블.iloc[:, 로그수익칼럼]) * 252 * 100\n",
    "    표준편차 = np.std(평가금액_테이블.iloc[:, 로그수익칼럼]) * math.sqrt(252) * 100\n",
    "    샤프지수 = (연평균수익률 / 표준편차) if 표준편차 != 0 else 0\n",
    "\n",
    "    file_list = glob('HRP2_simul_report.csv')\n",
    "    if len(file_list) == 0:  # 파일이 없으면 빈 자료구조를 만들고\n",
    "        시뮬_보고서 = pd.DataFrame([], columns=['운용개시일', '공분산 산출기간', '리밸런싱 주기(월)', '리밸런싱 시작월',\n",
    "                                        '리밸런싱 날짜', '비중차이', '누적수익률', '연수익률', '표준편차', '샤프지수'])\n",
    "    else:  # 파일이 있으면 읽어들인다\n",
    "        시뮬_보고서 = pd.read_csv('HRP2_simul_report.csv')\n",
    "\n",
    "    # pandas 마지막 줄에 한 줄 추가 방법\n",
    "    시뮬_보고서.loc[len(시뮬_보고서)] = [평가금액_테이블.iloc[0, 0], 공분산_산출기간, 리밸런싱_주기, 리밸런싱_시작월, \\\n",
    "                        리밸런싱_날짜, 비중차이, 평가금액_테이블.iloc[- 1, 수익률칼럼], 연평균수익률, 표준편차, 샤프지수]\n",
    "    시뮬_보고서.to_csv('HRP2_simul_report.csv', index=None)\n",
    "\n",
    "    print('평가금액 =', 평가금액_테이블.iloc[- 1, 합계칼럼], ', 누적수익률 =', 평가금액_테이블.iloc[- 1, 수익률칼럼], \\\n",
    "          ', 연평균수익률 = ', round(연평균수익률, 2), ', 표준편차 =', round(표준편차, 2), ', 샤프지수 =', round(샤프지수, 2))\n",
    "\n",
    "    파일명_머리 = 'HRP2_' + str(공분산_산출기간) + '_' + str(리밸런싱_주기) + '_' + str(리밸런싱_시작월) + '_' + \\\n",
    "             str(리밸런싱_날짜) + '_' + str(비중차이) + '_'\n",
    "#평가금액_자료 말고는 검증용\n",
    "    매매금액_테이블.to_csv(파일명_머리 + 'trd_mnt.csv', index=None) # colab에서는 안 먹힘, encoding=\"ansi\")\n",
    "    매매수량_테이블.to_csv(파일명_머리 + 'trd_cont.csv', index=None)\n",
    "    진입가격_테이블.to_csv(파일명_머리 + 'entry_prc.csv', index=None)\n",
    "    보유수량_테이블.to_csv(파일명_머리 + 'acc_cont.csv', index=None)\n",
    "    MP비중_테이블.to_csv(파일명_머리 + 'mp_weight.csv', index=None)\n",
    "    보유비중_테이블.to_csv(파일명_머리 + 'real_weight.csv', index=None)\n",
    "    평가금액_테이블.to_csv(파일명_머리 + 'eval.csv', index=None)\n",
    "\n",
    "    if 차트출력 == 1:\n",
    "        plt.figure(figsize=(12, 6))\n",
    "        plt.plot(평가금액_테이블['누적수익률'], label = '수익률')\n",
    "        plt.legend()\n",
    "        plt.grid(True)\n",
    "        plt.show()"
   ]
  },
  {
   "cell_type": "markdown",
   "metadata": {
    "colab_type": "text",
    "id": "E9E9ZFSsHrTp"
   },
   "source": [
    "# 메인 함수 호출"
   ]
  },
  {
   "cell_type": "code",
   "execution_count": 0,
   "metadata": {
    "colab": {
     "base_uri": "https://localhost:8080/",
     "height": 1000
    },
    "colab_type": "code",
    "id": "SZO4JHtHBr0r",
    "outputId": "ec3d5ce4-94cc-4045-ef98-2f7df97403d6"
   },
   "outputs": [
    {
     "name": "stdout",
     "output_type": "stream",
     "text": [
      "           날짜  나노메딕스     필룩스   카리스국보  ...     파미셀   일성건설     비티원     한창\n",
      "0  20131007.0  644.0  1493.0  1007.0  ...  4055.0  596.0  1090.0  505.0\n",
      "1  20131008.0  621.0  1460.0   986.0  ...  4075.0  603.0  1075.0  493.0\n",
      "2  20131010.0  618.0  1489.0   982.0  ...  4005.0  600.0  1090.0  490.0\n",
      "3  20131011.0  619.0  1503.0   986.0  ...  4190.0  605.0  1060.0  495.0\n",
      "4  20131014.0  612.0  1522.0   978.0  ...  4395.0  606.0  1040.0  495.0\n",
      "\n",
      "[5 rows x 19 columns]\n",
      ">> 날짜체크 0 2017.0 1.0 2.0 , 리밸런싱발생\n"
     ]
    },
    {
     "name": "stderr",
     "output_type": "stream",
     "text": [
      "/usr/local/lib/python3.6/dist-packages/ipykernel_launcher.py:4: ClusterWarning: scipy.cluster: The symmetric non-negative hollow observation matrix looks suspiciously like an uncondensed distance matrix\n",
      "  after removing the cwd from sys.path.\n"
     ]
    },
    {
     "name": "stdout",
     "output_type": "stream",
     "text": [
      ">> 날짜체크 20 2017.0 2.0 1.0 , 리밸런싱발생\n",
      ">> 날짜체크 39 2017.0 2.0 28.0 , 리밸런싱발생\n",
      ">> 날짜체크 62 2017.0 4.0 3.0 , 리밸런싱발생\n",
      ">> 날짜체크 82 2017.0 5.0 2.0 , 리밸런싱발생\n",
      ">> 날짜체크 95 2017.0 5.0 24.0 , 리밸런싱발생\n",
      ">> 날짜체크 103 2017.0 6.0 5.0 , 리밸런싱발생\n",
      ">> 날짜체크 122 2017.0 7.0 3.0 , 리밸런싱발생\n",
      ">> 날짜체크 142 2017.0 7.0 31.0 , 리밸런싱발생\n",
      ">> 날짜체크 165 2017.0 9.0 1.0 , 리밸런싱발생\n",
      ">> 날짜체크 181 2017.0 9.0 25.0 , 리밸런싱발생\n",
      ">> 날짜체크 202 2017.0 11.0 1.0 , 리밸런싱발생\n",
      ">> 날짜체크 210 2017.0 11.0 13.0 , 리밸런싱발생\n",
      ">> 날짜체크 212 2017.0 11.0 15.0 , 리밸런싱발생\n",
      ">> 날짜체크 216 2017.0 11.0 21.0 , 리밸런싱발생\n",
      ">> 날짜체크 235 2017.0 12.0 18.0 , 리밸런싱발생\n",
      ">> 날짜체크 244 2018.0 1.0 3.0 , 리밸런싱발생\n",
      ">> 날짜체크 249 2018.0 1.0 10.0 , 리밸런싱발생\n",
      ">> 날짜체크 255 2018.0 1.0 18.0 , 리밸런싱발생\n",
      ">> 날짜체크 265 2018.0 2.0 1.0 , 리밸런싱발생\n",
      ">> 날짜체크 270 2018.0 2.0 8.0 , 리밸런싱발생\n",
      ">> 날짜체크 282 2018.0 2.0 28.0 , 리밸런싱발생\n",
      ">> 날짜체크 286 2018.0 3.0 7.0 , 리밸런싱발생\n",
      ">> 날짜체크 291 2018.0 3.0 14.0 , 리밸런싱발생\n",
      ">> 날짜체크 296 2018.0 3.0 21.0 , 리밸런싱발생\n",
      ">> 날짜체크 299 2018.0 3.0 26.0 , 리밸런싱발생\n",
      ">> 날짜체크 306 2018.0 4.0 4.0 , 리밸런싱발생\n",
      ">> 날짜체크 309 2018.0 4.0 9.0 , 리밸런싱발생\n",
      ">> 날짜체크 313 2018.0 4.0 13.0 , 리밸런싱발생\n",
      ">> 날짜체크 316 2018.0 4.0 18.0 , 리밸런싱발생\n",
      ">> 날짜체크 319 2018.0 4.0 23.0 , 리밸런싱발생\n",
      ">> 날짜체크 325 2018.0 5.0 2.0 , 리밸런싱발생\n",
      ">> 날짜체크 331 2018.0 5.0 11.0 , 리밸런싱발생\n",
      ">> 날짜체크 340 2018.0 5.0 25.0 , 리밸런싱발생\n",
      ">> 날짜체크 341 2018.0 5.0 28.0 , 리밸런싱발생\n",
      ">> 날짜체크 345 2018.0 6.0 1.0 , 리밸런싱발생\n",
      ">> 날짜체크 351 2018.0 6.0 12.0 , 리밸런싱발생\n",
      ">> 날짜체크 355 2018.0 6.0 19.0 , 리밸런싱발생\n",
      ">> 날짜체크 364 2018.0 7.0 2.0 , 리밸런싱발생\n",
      ">> 날짜체크 366 2018.0 7.0 4.0 , 리밸런싱발생\n",
      ">> 날짜체크 369 2018.0 7.0 9.0 , 리밸런싱발생\n",
      ">> 날짜체크 379 2018.0 7.0 23.0 , 리밸런싱발생\n",
      ">> 날짜체크 382 2018.0 7.0 26.0 , 리밸런싱발생\n",
      ">> 날짜체크 401 2018.0 8.0 23.0 , 리밸런싱발생\n",
      ">> 날짜체크 425 2018.0 10.0 1.0 , 리밸런싱발생\n",
      ">> 날짜체크 441 2018.0 10.0 25.0 , 리밸런싱발생\n",
      ">> 날짜체크 459 2018.0 11.0 20.0 , 리밸런싱발생\n",
      ">> 날짜체크 471 2018.0 12.0 6.0 , 리밸런싱발생\n",
      ">> 날짜체크 479 2018.0 12.0 18.0 , 리밸런싱발생\n",
      ">> 날짜체크 488 2019.0 1.0 3.0 , 리밸런싱발생\n",
      ">> 날짜체크 491 2019.0 1.0 8.0 , 리밸런싱발생\n",
      ">> 날짜체크 509 2019.0 2.0 1.0 , 리밸런싱발생\n",
      ">> 날짜체크 517 2019.0 2.0 18.0 , 리밸런싱발생\n",
      ">> 날짜체크 519 2019.0 2.0 20.0 , 리밸런싱발생\n",
      ">> 날짜체크 526 2019.0 3.0 4.0 , 리밸런싱발생\n",
      ">> 날짜체크 535 2019.0 3.0 15.0 , 리밸런싱발생\n",
      ">> 날짜체크 545 2019.0 3.0 29.0 , 리밸런싱발생\n",
      ">> 날짜체크 564 2019.0 4.0 25.0 , 리밸런싱발생\n",
      ">> 날짜체크 568 2019.0 5.0 2.0 , 리밸런싱발생\n",
      ">> 날짜체크 578 2019.0 5.0 17.0 , 리밸런싱발생\n",
      ">> 날짜체크 582 2019.0 5.0 23.0 , 리밸런싱발생\n",
      ">> 날짜체크 597 2019.0 6.0 14.0 , 리밸런싱발생\n",
      ">> 날짜체크 600 2019.0 6.0 19.0 , 리밸런싱발생\n",
      ">> 날짜체크 603 2019.0 6.0 24.0 , 리밸런싱발생\n",
      ">> 날짜체크 606 2019.0 6.0 27.0 , 리밸런싱발생\n",
      ">> 날짜체크 616 2019.0 7.0 11.0 , 리밸런싱발생\n",
      ">> 날짜체크 631 2019.0 8.0 1.0 , 리밸런싱발생\n",
      ">> 날짜체크 633 2019.0 8.0 5.0 , 리밸런싱발생\n",
      ">> 날짜체크 638 2019.0 8.0 12.0 , 리밸런싱발생\n",
      ">> 날짜체크 652 2019.0 9.0 2.0 , 리밸런싱발생\n",
      ">> 날짜체크 663 2019.0 9.0 19.0 , 리밸런싱발생\n",
      ">> 날짜체크 675 2019.0 10.0 8.0 , 리밸런싱발생\n",
      ">> 날짜체크 683 2019.0 10.0 21.0 , 리밸런싱발생\n",
      ">> 날짜체크 692 2019.0 11.0 1.0 , 리밸런싱발생\n",
      "평가금액 = 360084242 , 누적수익률 = 260.08 , 연평균수익률 =  46.42 , 표준편차 = 32.46 , 샤프지수 = 1.43\n"
     ]
    },
    {
     "name": "stderr",
     "output_type": "stream",
     "text": [
      "/usr/local/lib/python3.6/dist-packages/matplotlib/backends/backend_agg.py:211: RuntimeWarning: Glyph 49688 missing from current font.\n",
      "  font.set_text(s, 0.0, flags=flags)\n",
      "/usr/local/lib/python3.6/dist-packages/matplotlib/backends/backend_agg.py:211: RuntimeWarning: Glyph 51061 missing from current font.\n",
      "  font.set_text(s, 0.0, flags=flags)\n",
      "/usr/local/lib/python3.6/dist-packages/matplotlib/backends/backend_agg.py:211: RuntimeWarning: Glyph 47456 missing from current font.\n",
      "  font.set_text(s, 0.0, flags=flags)\n",
      "/usr/local/lib/python3.6/dist-packages/matplotlib/backends/backend_agg.py:180: RuntimeWarning: Glyph 49688 missing from current font.\n",
      "  font.set_text(s, 0, flags=flags)\n",
      "/usr/local/lib/python3.6/dist-packages/matplotlib/backends/backend_agg.py:180: RuntimeWarning: Glyph 51061 missing from current font.\n",
      "  font.set_text(s, 0, flags=flags)\n",
      "/usr/local/lib/python3.6/dist-packages/matplotlib/backends/backend_agg.py:180: RuntimeWarning: Glyph 47456 missing from current font.\n",
      "  font.set_text(s, 0, flags=flags)\n"
     ]
    },
    {
     "data": {
      "image/png": "[encoded data removed]",
      "text/plain": [
       "<Figure size 864x432 with 1 Axes>"
      ]
     },
     "metadata": {
      "tags": []
     },
     "output_type": "display_data"
    }
   ],
   "source": [
    "# 메인_처리(기준일, 공분산_산출기간, 리밸런싱_주기, 리밸런싱_시작월, 리밸런싱_날짜, 비중차이, 차트출력)\n",
    "메인_처리(20170101, 250, 1, 0, 1, 10, 1)"
   ]
  },
  {
   "cell_type": "markdown",
   "metadata": {
    "colab_type": "text",
    "id": "Y4Ct4Zcf2ye4"
   },
   "source": [
    "# 변수 최적화 시뮬레이션"
   ]
  },
  {
   "cell_type": "code",
   "execution_count": 0,
   "metadata": {
    "colab": {},
    "colab_type": "code",
    "id": "iWO93V58Br0n"
   },
   "outputs": [],
   "source": [
    "def call_main():\n",
    "    for 기간 in range(50, 501, 50):\n",
    "        for 주기 in range(1, 7):\n",
    "            for 시작월 in range(주기):\n",
    "                for 날짜 in range(1, 32, 10):\n",
    "                    for 비중이탈 in range(10, 31, 5):\n",
    "                        메인_처리(20180101, 기간, 주기, 시작월, 날짜, 비중이탈, 0)\n"
   ]
  },
  {
   "cell_type": "code",
   "execution_count": 0,
   "metadata": {
    "colab": {},
    "colab_type": "code",
    "id": "KT5sF-tKBr0p"
   },
   "outputs": [],
   "source": [
    "# call_main()"
   ]
  },
  {
   "cell_type": "code",
   "execution_count": 0,
   "metadata": {
    "colab": {},
    "colab_type": "code",
    "id": "Z1yoUe4XBr0s"
   },
   "outputs": [],
   "source": []
  }
 ],
 "metadata": {
  "anaconda-cloud": {},
  "colab": {
   "name": "HRP모델_비중이탈시_리밸런싱_최적화.ipynb",
   "provenance": [],
   "toc_visible": true
  },
  "kernelspec": {
   "display_name": "Python [default]",
   "language": "python",
   "name": "python3"
  },
  "language_info": {
   "codemirror_mode": {
    "name": "ipython",
    "version": 3
   },
   "file_extension": ".py",
   "mimetype": "text/x-python",
   "name": "python",
   "nbconvert_exporter": "python",
   "pygments_lexer": "ipython3",
   "version": "3.5.4"
  }
 },
 "nbformat": 4,
 "nbformat_minor": 1
}
