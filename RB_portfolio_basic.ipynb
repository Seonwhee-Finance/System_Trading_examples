{
 "cells": [
  {
   "cell_type": "markdown",
   "metadata": {
    "colab_type": "text",
    "id": "sSKPC-J6JJAr"
   },
   "source": [
    "# 리스크 할당(Risk Budgeting) 모형 포트폴리오 산출 기본"
   ]
  },
  {
   "cell_type": "code",
   "execution_count": 0,
   "metadata": {
    "colab": {},
    "colab_type": "code",
    "id": "CzpNWmy8pZUd"
   },
   "outputs": [],
   "source": [
    "import numpy as np\n",
    "import pandas as pd\n",
    "import scipy.optimize as sco\n",
    "import datetime as dt\n",
    "from datetime import timedelta\n",
    "from pylab import *"
   ]
  },
  {
   "cell_type": "markdown",
   "metadata": {
    "colab_type": "text",
    "id": "zxWcMaEWJQ_E"
   },
   "source": [
    "# 예스트레이더 출력 결과물을 Pandas 형태로 포맷 변환"
   ]
  },
  {
   "cell_type": "code",
   "execution_count": 0,
   "metadata": {
    "colab": {},
    "colab_type": "code",
    "id": "jF4D8enNmNRg"
   },
   "outputs": [],
   "source": [
    "# 예스트레이더 종목검색 결과를 날짜 기준으로 포맷팅\n",
    "def convert_yes_price_file(gubun):\n",
    "    # 우리나라 시간 = 그리니치 표준시 + 9시\n",
    "    file_dt = (dt.datetime.now() + dt.timedelta(hours=9)).strftime('%Y%m%d')\n",
    "\n",
    "    yes_price_file = pd.DataFrame()\n",
    "    # 예스트레이더 출력용 지표식과 칼럼수 일치시켜야 함.\n",
    "    yes_price_file = pd.read_csv('yes_stock_price_' + file_dt + '.csv',encoding= 'euc-kr',\n",
    "                           names = ['날짜1','종목명','종목코드','날짜','시가','고가','저가','종가','거래량',\n",
    "                                    '단기이평','중기이평','장기이평','지수단기이평','지수중기이평','지수장기이평',\n",
    "                                    'MACD','MACD_OSC','ATR','CCI','StoK','StoD','TRIX','이격도'],\n",
    "                           index_col= 1, header=None, dtype={'종목코드':str})\n",
    "\n",
    "    종목명 = yes_price_file.index.unique()\n",
    "    종목코드 = yes_price_file['종목코드'].unique()  # 종목코드 사용할 경우를 위해 별도 저장\n",
    "    df1 = {'종목명':종목명,\n",
    "           '종목코드':종목코드}\n",
    "    df1 = pd.DataFrame(df1)\n",
    "    df1.to_csv('symbol_cd.csv')\n",
    "\n",
    "    cls_p_data = pd.DataFrame()\n",
    "    vol_data = pd.DataFrame()\n",
    "    if gubun == 1:\n",
    "        hi_p_data = pd.DataFrame()\n",
    "        lo_p_data = pd.DataFrame()\n",
    "        sma_data = pd.DataFrame()\n",
    "        mma_data = pd.DataFrame()\n",
    "        lma_data = pd.DataFrame()\n",
    "        sema_data = pd.DataFrame()\n",
    "        mema_data = pd.DataFrame()\n",
    "        lema_data = pd.DataFrame()\n",
    "        macd_data = pd.DataFrame()\n",
    "        macdo_data = pd.DataFrame()\n",
    "        atr_data = pd.DataFrame()\n",
    "        cci_data = pd.DataFrame()\n",
    "        stok_data = pd.DataFrame()\n",
    "        stod_data = pd.DataFrame()\n",
    "        trix_data = pd.DataFrame()\n",
    "        dis_data = pd.DataFrame()\n",
    "\n",
    "    for i in range(len(종목명)):\n",
    "        cls_p = yes_price_file.loc[종목명[i],['날짜','종가']]\n",
    "        cls_p.set_index(['날짜'],inplace=True)\n",
    "        cls_p_data = pd.concat([cls_p_data,cls_p],axis=1) \n",
    "\n",
    "        vol = yes_price_file.loc[종목명[i],['날짜','거래량']]\n",
    "        vol.set_index(['날짜'],inplace=True)\n",
    "        vol_data = pd.concat([vol_data,vol],axis=1) \n",
    "\n",
    "        if gubun == 1:\n",
    "            hi_p = yes_price_file.loc[종목명[i],['날짜','고가']]\n",
    "            hi_p.set_index(['날짜'],inplace=True)\n",
    "            hi_p_data = pd.concat([hi_p_data,hi_p],axis=1) \n",
    "\n",
    "            lo_p = yes_price_file.loc[종목명[i],['날짜','저가']]\n",
    "            lo_p.set_index(['날짜'],inplace=True)\n",
    "            lo_p_data = pd.concat([lo_p_data,lo_p],axis=1) \n",
    "\n",
    "            sma = yes_price_file.loc[종목명[i],['날짜','단기이평']]\n",
    "            sma.set_index(['날짜'],inplace=True)\n",
    "            sma_data = pd.concat([sma_data,sma],axis=1) \n",
    "\n",
    "            mma = yes_price_file.loc[종목명[i],['날짜','중기이평']]\n",
    "            mma.set_index(['날짜'],inplace=True)\n",
    "            mma_data = pd.concat([mma_data,mma],axis=1) \n",
    "\n",
    "            lma = yes_price_file.loc[종목명[i],['날짜','장기이평']]\n",
    "            lma.set_index(['날짜'],inplace=True)\n",
    "            lma_data = pd.concat([lma_data,lma],axis=1) \n",
    "\n",
    "            atr = yes_price_file.loc[종목명[i],['날짜','ATR']]\n",
    "            atr.set_index(['날짜'],inplace=True)\n",
    "            atr_data = pd.concat([atr_data,atr],axis=1) \n",
    "\n",
    "    cls_p_data.columns = 종목명\n",
    "    print('\\n 종가데이터 \\n', cls_p_data.head())\n",
    "    cls_p_data.to_csv('cls_p_data.csv')\n",
    "\n",
    "    vol_data.columns = 종목명\n",
    "    print('\\n 거래량 \\n', vol_data.head())\n",
    "    vol_data.to_csv('volume_data.csv')\n",
    "\n",
    "    if gubun == 1:\n",
    "        hi_p_data.columns = 종목명\n",
    "        print('\\n 고가데이터 \\n', hi_p_data.head())\n",
    "        hi_p_data.to_csv('hi_p_data.csv')\n",
    "\n",
    "        lo_p_data.columns = 종목명\n",
    "        print('\\n 저가데이터 \\n', lo_p_data.head())\n",
    "        lo_p_data.to_csv('lo_p_data.csv')\n",
    "\n",
    "        sma_data.columns = 종목명\n",
    "        print('\\n 단기이평 \\n', sma_data.head())\n",
    "        sma_data.to_csv('sma_data.csv')\n",
    "\n",
    "        mma_data.columns = 종목명\n",
    "        print('\\n 중기이평 \\n', mma_data.head())\n",
    "        mma_data.to_csv('mma_data.csv')\n",
    "\n",
    "        lma_data.columns = 종목명\n",
    "        print('\\n 장기이평 \\n', lma_data.head())\n",
    "        lma_data.to_csv('lma_data.csv')\n",
    "\n",
    "        atr_data.columns = 종목명\n",
    "        print('\\n ATR \\n', atr_data.head())\n",
    "        atr_data.to_csv('atr_data.csv')"
   ]
  },
  {
   "cell_type": "code",
   "execution_count": 0,
   "metadata": {
    "colab": {
     "base_uri": "https://localhost:8080/",
     "height": 404
    },
    "colab_type": "code",
    "id": "usWg3_VwFwjH",
    "outputId": "a69fc80e-7f08-4793-862a-268a0093ddd3"
   },
   "outputs": [
    {
     "name": "stdout",
     "output_type": "stream",
     "text": [
      "\n",
      " 종가데이터 \n",
      " 종목명         나노메딕스     필룩스   카리스국보    동성제약  ...     파미셀   일성건설     비티원     한창\n",
      "날짜                                         ...                              \n",
      "20131007.0  644.0  1493.0  1007.0  4010.0  ...  4055.0  596.0  1090.0  505.0\n",
      "20131008.0  621.0  1460.0   986.0  3925.0  ...  4075.0  603.0  1075.0  493.0\n",
      "20131010.0  618.0  1489.0   982.0  3860.0  ...  4005.0  600.0  1090.0  490.0\n",
      "20131011.0  619.0  1503.0   986.0  3770.0  ...  4190.0  605.0  1060.0  495.0\n",
      "20131014.0  612.0  1522.0   978.0  3795.0  ...  4395.0  606.0  1040.0  495.0\n",
      "\n",
      "[5 rows x 18 columns]\n",
      "\n",
      " 거래량 \n",
      " 종목명            나노메딕스       필룩스   카리스국보  ...     일성건설      비티원        한창\n",
      "날짜                                      ...                            \n",
      "20131007.0   45802.0  117201.0  5780.0  ...  21562.0  33100.0  144080.0\n",
      "20131008.0   86170.0  172264.0  2650.0  ...  14712.0  13170.0   70850.0\n",
      "20131010.0   36482.0  112361.0  1840.0  ...  22720.0   6580.0   11660.0\n",
      "20131011.0   22642.0  111135.0  3500.0  ...   9610.0  16430.0   69851.0\n",
      "20131014.0  115579.0  200130.0  1090.0  ...   5560.0  28380.0   26812.0\n",
      "\n",
      "[5 rows x 18 columns]\n"
     ]
    }
   ],
   "source": [
    "gubun = 0 # 지표 파일을 만들려면 1로, 안 만들여면 0\n",
    "convert_yes_price_file(gubun)  "
   ]
  },
  {
   "cell_type": "markdown",
   "metadata": {
    "colab_type": "text",
    "id": "3BAmFsSVJtuw"
   },
   "source": [
    "# 사용자 함수 선언"
   ]
  },
  {
   "cell_type": "code",
   "execution_count": 0,
   "metadata": {
    "colab": {},
    "colab_type": "code",
    "id": "fcIlAbmOqs3l"
   },
   "outputs": [],
   "source": [
    "def statistics(w,r,c):\n",
    "    '''포트폴리오 총계치 출력\n",
    "    인수\n",
    "    =====\n",
    "    w : array-like  포트폴리오 내의 비중\n",
    "    \n",
    "    반환값\n",
    "    ======\n",
    "    portfolio_return     : float 포트폴리오 수익률 기댓값\n",
    "    portfolio_volatility : float 포트폴리오 변동성 기댓값\n",
    "    sharpe_ratio         : float 무위험 이자율이 0일 때의 샤프 지수\n",
    "    '''\n",
    "    w = np.array(w)\n",
    "    portfolio_return = np.sum(r * w)\n",
    "    portfolio_volatility = np.sqrt(np.dot(w.T,np.dot(c, w)))\n",
    "    sharp_ratio = portfolio_return / portfolio_volatility\n",
    "    return np.array([portfolio_return, portfolio_volatility, sharp_ratio])"
   ]
  },
  {
   "cell_type": "code",
   "execution_count": 0,
   "metadata": {
    "colab": {},
    "colab_type": "code",
    "id": "X3dBDOvaqyub"
   },
   "outputs": [],
   "source": [
    "def risk_contribution(w,r,c):\n",
    "    '''\n",
    "    E(rp) = w'μ          : 포트폴리오 기대수익률\n",
    "    σp orσ(w) = √(w'Ωw) : 포트폴리오 표준편차\n",
    "    where w:= 구성종목 비중vector\n",
    "          μ:= 자산별 기대수익률 vector\n",
    "          Ω:= 공분산행렬\n",
    "    Marginal Contribution to Risk of asset i(한계 리스크 기여도)\n",
    "    MCRi = ∂σ(w)/∂wi = Δσ(w)/Δwi = 1/σ(w) * Σwi*cov(ri,rj) = Ωw/√(w'Ωw)\n",
    "    := i번째 자산군 투자비중 변화에 대한 포트폴리오 전체 위험의 변화 정도\n",
    "    Absolute Contribution to Risk of asset i(절대 리스크 기여도) 자산의 표준편차 값\n",
    "    ACRi = wi*MCRi\n",
    "    Percent Contribution to Risk of asset i(상대 리스크 기여도) 전체 중에 얼마인지 퍼센트로 표시한 것\n",
    "    PCRi = ACRi/σ(w)\n",
    "    '''\n",
    "    sigma = statistics(w,r,c)[1]\n",
    "    mcr = np.dot(c, w) / sigma\n",
    "    acr = w * mcr\n",
    "    pcr = acr / sigma\n",
    "    return mcr, acr, pcr"
   ]
  },
  {
   "cell_type": "code",
   "execution_count": 0,
   "metadata": {
    "colab": {},
    "colab_type": "code",
    "id": "qA0W_s0oIg68"
   },
   "outputs": [],
   "source": [
    "# 최적포트폴리오의 투자비중과 포트폴리오 위험비중이 동일하게\n",
    "def risk_budgeting_objective(w,r,c,front):\n",
    "    sigma = statistics(w,r,c)[1]\n",
    "    mcr = np.dot(c, w) / sigma\n",
    "    return np.sum(np.square(front - (w * mcr / sigma)))"
   ]
  },
  {
   "cell_type": "code",
   "execution_count": 0,
   "metadata": {
    "colab": {},
    "colab_type": "code",
    "id": "6Spiq2i0q3_j"
   },
   "outputs": [],
   "source": [
    "def min_func_sharpe(w,r,c):\n",
    "# 최소화문제에서 샤프지수 최대값을 찾으려면 샤프지수의 음수 값을 최소화하면 된다.\n",
    "    return -statistics(w,r,c)[2]  # 위에서 만든 statistics의 3번째 값이 샤프지수"
   ]
  },
  {
   "cell_type": "code",
   "execution_count": 0,
   "metadata": {
    "colab": {},
    "colab_type": "code",
    "id": "6PN_FMsKq4to"
   },
   "outputs": [],
   "source": [
    "def min_func_variance(w,r,c):\n",
    "# 분산 최소화 함수\n",
    "    return statistics(w,r,c)[1]**2"
   ]
  },
  {
   "cell_type": "code",
   "execution_count": 0,
   "metadata": {
    "colab": {},
    "colab_type": "code",
    "id": "ktxB3JHvTk4r"
   },
   "outputs": [],
   "source": [
    "def solve_frontier(r,c):\n",
    "    def min_func_port(w,r,c):\n",
    "        return statistics(w,r,c)[1]  # 두번째 값 변동성의 최소화\n",
    "    def port_return(w):\n",
    "        return np.sum(r * w)\n",
    "    mean, vol = [], []\n",
    "    for t in np.linspace(min(r), max(r), num=50): # Iterate through the range of returns on Y axis\n",
    "        # 제약조건\n",
    "        cons = ({'type': 'eq', 'fun': lambda x:  port_return(x) - t},\n",
    "                {'type': 'eq', 'fun': lambda x:  np.sum(x) - 1})\n",
    "        # 범위값\n",
    "        bnds = tuple((0, 1) for x in range(noa))\n",
    "        opts = sco.minimize(min_func_port, noa * [1. / noa, ],(r,c), method='SLSQP', constraints=cons, bounds=bnds)\n",
    "        if not opts.success:\n",
    "            raise BaseException(opts.message)\n",
    "        # add point to the min-var frontier [x,y] = [opts.x, t]\n",
    "        mean.append(t)                                                 # return\n",
    "        vol.append(statistics(opts['x'],r,c)[1])   # min-variance based on optimized weights\n",
    "\n",
    "    return array(mean), array(vol)"
   ]
  },
  {
   "cell_type": "code",
   "execution_count": 0,
   "metadata": {
    "colab": {},
    "colab_type": "code",
    "id": "YfK6eMVXToGd"
   },
   "outputs": [],
   "source": [
    "def display_Efficient_frontier(r,c):\n",
    "    mean, vol = solve_frontier(r,c)\n",
    "    plot(vol, mean, color='black'), grid(True)  # draw efficient frontier"
   ]
  },
  {
   "cell_type": "markdown",
   "metadata": {
    "colab_type": "text",
    "id": "IhkZW84TJgV0"
   },
   "source": [
    "# Main"
   ]
  },
  {
   "cell_type": "code",
   "execution_count": 0,
   "metadata": {
    "colab": {
     "base_uri": "https://localhost:8080/",
     "height": 105
    },
    "colab_type": "code",
    "id": "tUl49bFWF1My",
    "outputId": "2ecdbbad-7b03-4b5c-c7a3-15940ff9ae59"
   },
   "outputs": [
    {
     "name": "stdout",
     "output_type": "stream",
     "text": [
      "\n",
      " >> 종목명 : Index(['나노메딕스', '필룩스', '카리스국보', '동성제약', '에이프로젠 KIC', '엔케이물산', '웰바이오텍', '일신석재',\n",
      "       '인디에프', '넥스트사이언스', '인스코비', '대호에이엘', '동양철관', '동양네트웍스', '파미셀', '일성건설',\n",
      "       '비티원', '한창'],\n",
      "      dtype='object')\n"
     ]
    }
   ],
   "source": [
    "공분산_산출기간 = 500  # 시뮬레이터를 통해 최적 값 찾을 것\n",
    "\n",
    "raw_data = pd.read_csv('cls_p_data.csv',index_col=['날짜'], parse_dates=['날짜'])\n",
    "종목명 = raw_data.columns\n",
    "print('\\n >> 종목명 :', 종목명)"
   ]
  },
  {
   "cell_type": "code",
   "execution_count": 0,
   "metadata": {
    "colab": {
     "base_uri": "https://localhost:8080/",
     "height": 369
    },
    "colab_type": "code",
    "id": "2LiiUixjF6Dk",
    "outputId": "b73e2e22-1c02-4e79-8570-dbe283236c1d"
   },
   "outputs": [
    {
     "name": "stdout",
     "output_type": "stream",
     "text": [
      "\n",
      " >> 종목코드 : 0     074610\n",
      "1     033180\n",
      "2     001140\n",
      "3     002210\n",
      "4     007460\n",
      "5     009810\n",
      "6     010600\n",
      "7     007110\n",
      "8     014990\n",
      "9     003580\n",
      "10    006490\n",
      "11    069460\n",
      "12    008970\n",
      "13    030790\n",
      "14    005690\n",
      "15    013360\n",
      "16    101140\n",
      "17    005110\n",
      "Name: 종목코드, dtype: object\n"
     ]
    }
   ],
   "source": [
    "noa = len(종목명) # 자산수\n",
    "\n",
    "symbol_data = pd.read_csv('symbol_cd.csv',index_col=None,dtype={'종목코드':str})\n",
    "종목코드 = symbol_data['종목코드']\n",
    "print('\\n >> 종목코드 :', 종목코드)"
   ]
  },
  {
   "cell_type": "code",
   "execution_count": 0,
   "metadata": {
    "colab": {
     "base_uri": "https://localhost:8080/",
     "height": 230
    },
    "colab_type": "code",
    "id": "3oKQee0rF-bQ",
    "outputId": "35dc6c81-742d-4fca-d786-cec4d095699b"
   },
   "outputs": [
    {
     "name": "stdout",
     "output_type": "stream",
     "text": [
      "\n",
      " >> 현재가 : [9790.0, 10400.0, 3460.0, 17750.0, 2165.0, 786.0, 2530.0, 2870.0, 2935.0, 8840.0, 3120.0, 5280.0, 1115.0, 625.0, 8210.0, 1275.0, 3915.0, 3575.0]\n",
      "               나노메딕스       필룩스     카리스국보  ...      일성건설       비티원        한창\n",
      "날짜                                        ...                              \n",
      "20171101.0       NaN       NaN       NaN  ...       NaN       NaN       NaN\n",
      "20171102.0  0.000000 -0.003210 -0.016975  ...  0.008969  0.007576  0.024181\n",
      "20171103.0  0.050124  0.015246 -0.002016  ... -0.018019 -0.011385  0.013560\n",
      "20171106.0 -0.025508 -0.001761 -0.002020  ... -0.018349  0.000000 -0.010152\n",
      "20171107.0  0.004549 -0.008496 -0.009142  ...  0.009217  0.011385 -0.013699\n",
      "\n",
      "[5 rows x 18 columns]\n"
     ]
    }
   ],
   "source": [
    "work_data = raw_data.iloc[-공분산_산출기간:]\n",
    "현재가 = list(raw_data.iloc[-1])\n",
    "print('\\n >> 현재가 :', 현재가)\n",
    "로그수익률 = np.log(work_data / work_data.shift(1))\n",
    "print(로그수익률.head())"
   ]
  },
  {
   "cell_type": "code",
   "execution_count": 0,
   "metadata": {
    "colab": {
     "base_uri": "https://localhost:8080/",
     "height": 1000
    },
    "colab_type": "code",
    "id": "Jd5f9PDDGFnq",
    "outputId": "94635560-f69d-4d46-9218-a62fe873a152"
   },
   "outputs": [
    {
     "name": "stdout",
     "output_type": "stream",
     "text": [
      "나노메딕스        0.563132\n",
      "필룩스          0.661226\n",
      "카리스국보        0.621828\n",
      "동성제약         0.775103\n",
      "에이프로젠 KIC    0.020227\n",
      "엔케이물산        0.200924\n",
      "웰바이오텍       -0.200085\n",
      "일신석재         0.390322\n",
      "인디에프         0.435115\n",
      "넥스트사이언스      0.387999\n",
      "인스코비         0.330987\n",
      "대호에이엘        0.841817\n",
      "동양철관         0.020333\n",
      "동양네트웍스      -0.477860\n",
      "파미셀          0.339094\n",
      "일성건설         0.069987\n",
      "비티원          0.200909\n",
      "한창           0.462736\n",
      "dtype: float64\n",
      "              나노메딕스       필룩스     카리스국보  ...      일성건설       비티원        한창\n",
      "나노메딕스      1.042172  0.144989  0.024864  ...  0.070436  0.121222  0.127503\n",
      "필룩스        0.144989  0.969205  0.007983  ...  0.097698  0.060144  0.128440\n",
      "카리스국보      0.024864  0.007983  0.890550  ...  0.219005  0.068957  0.088723\n",
      "동성제약       0.155398  0.137636 -0.029086  ... -0.001630  0.007688  0.066132\n",
      "에이프로젠 KIC  0.100619  0.118641  0.015508  ...  0.059430  0.033405  0.088292\n",
      "엔케이물산      0.079089  0.009907  0.146190  ...  0.128881  0.005411  0.088960\n",
      "웰바이오텍      0.071724 -0.007799  0.032476  ... -0.055782  0.025347  0.025144\n",
      "일신석재       0.076098  0.098078  0.261060  ...  0.526846  0.050103  0.248989\n",
      "인디에프       0.053835  0.054854  0.178659  ...  0.359241  0.064213  0.227526\n",
      "넥스트사이언스    0.171046  0.152970  0.042791  ...  0.123190  0.095367  0.097197\n",
      "인스코비       0.086850  0.151723  0.020305  ...  0.081547  0.049085  0.093581\n",
      "대호에이엘      0.014445 -0.010755  0.146606  ...  0.228719  0.055807  0.104499\n",
      "동양철관       0.049065  0.059423  0.277170  ...  0.358116  0.070331  0.184459\n",
      "동양네트웍스     0.111245  0.067679  0.000540  ...  0.038128  0.047252  0.079207\n",
      "파미셀        0.174800  0.195422  0.011003  ... -0.014325  0.055723  0.087230\n",
      "일성건설       0.070436  0.097698  0.219005  ...  0.640620  0.033613  0.215908\n",
      "비티원        0.121222  0.060144  0.068957  ...  0.033613  0.621265  0.054359\n",
      "한창         0.127503  0.128440  0.088723  ...  0.215908  0.054359  0.603396\n",
      "\n",
      "[18 rows x 18 columns]\n",
      "     fun: -1.6053232934964454\n",
      "     jac: array([ 6.36085868e-04, -1.12056732e-04, -3.36244702e-04, -9.48309898e-05,\n",
      "        5.35476103e-01, -5.33074141e-04,  5.10222867e-01,  4.78884563e-01,\n",
      "        3.07563826e-01,  1.89512968e-04, -2.83554196e-04, -1.37686729e-05,\n",
      "        1.47741802e+00,  1.58009934e+00,  5.83783388e-02,  1.02500206e+00,\n",
      "       -1.01506710e-04,  9.75564122e-04])\n",
      " message: 'Optimization terminated successfully.'\n",
      "    nfev: 209\n",
      "     nit: 10\n",
      "    njev: 10\n",
      "  status: 0\n",
      " success: True\n",
      "       x: array([6.74656466e-02, 1.22119796e-01, 1.29573781e-01, 2.29306836e-01,\n",
      "       7.13863429e-14, 1.93275333e-02, 8.58101843e-14, 2.38843980e-17,\n",
      "       4.19841255e-17, 4.36887999e-02, 3.20529324e-02, 3.00871400e-01,\n",
      "       1.90555572e-13, 2.87113311e-13, 7.28830665e-17, 1.02040866e-13,\n",
      "       2.87704053e-03, 5.27162335e-02])\n",
      "[0.687 0.428 1.605]\n"
     ]
    }
   ],
   "source": [
    "R = 로그수익률.mean() * 252 # 연수익률\n",
    "print(R)\n",
    "\n",
    "C = 로그수익률.cov() * 252  # 공분산, 표준편차가 아닌 분산이다\n",
    "print(C)  \n",
    "\n",
    "# 제약조건\n",
    "cons = ({'type': 'eq', 'fun': lambda x: np.sum(x) - 1},\n",
    "        {'type': 'ineq', 'fun': lambda x: (x >= 0.01).sum() - 4},   #매수 종목이 5 종목 이상되도록 조건 설정 \n",
    "        {'type': 'ineq', 'fun': lambda x: (x >= 0.01).sum() - 3},\n",
    "        {'type': 'ineq', 'fun': lambda x: (x >= 0.01).sum() - 2},\n",
    "        {'type': 'ineq', 'fun': lambda x: (x >= 0.01).sum() - 1}) \n",
    "\n",
    "# 범위값\n",
    "bnds = tuple((0, 1) for x in range(noa))\n",
    "\n",
    "opts = sco.minimize(min_func_sharpe, noa * [1. / noa, ], (R, C), method='SLSQP', bounds=bnds, constraints=cons)\n",
    "front = opts['x']  # 샤프지수 최대 포트폴리오 결과값\n",
    "stat = statistics(opts['x'],R,C).round(3)  # 샤프지수 최대 포트폴리오의 수익률, 표준편차, 샤프지수\n",
    "print(opts)  # x값이 포트폴리오 비중\n",
    "print(stat)"
   ]
  },
  {
   "cell_type": "code",
   "execution_count": 0,
   "metadata": {
    "colab": {
     "base_uri": "https://localhost:8080/",
     "height": 334
    },
    "colab_type": "code",
    "id": "JdLE2wzjKbgA",
    "outputId": "7c4d4549-8a35-49c1-bc07-642765b4f2ee"
   },
   "outputs": [
    {
     "name": "stdout",
     "output_type": "stream",
     "text": [
      "     fun: 1.6727248870671497e-06\n",
      "     jac: array([-1.99478610e-04,  1.51095388e-04, -4.27651297e-04,  3.81745733e-04,\n",
      "        1.57633099e-04,  9.93205233e-05,  4.07740068e-04,  2.00762752e-04,\n",
      "        2.11991086e-04, -8.02047492e-05,  3.09534510e-05, -7.76709881e-05,\n",
      "        2.25917104e-04,  2.85979911e-04,  2.16334423e-04,  1.72140398e-04,\n",
      "        1.08354853e-04, -1.70902508e-04])\n",
      " message: 'Optimization terminated successfully.'\n",
      "    nfev: 246\n",
      "     nit: 12\n",
      "    njev: 12\n",
      "  status: 0\n",
      " success: True\n",
      "       x: array([6.98702740e-02, 1.14071278e-01, 1.27491269e-01, 1.98123388e-01,\n",
      "       4.33680869e-19, 4.25263451e-02, 1.05228325e-02, 0.00000000e+00,\n",
      "       0.00000000e+00, 6.08446146e-02, 5.14308375e-02, 2.50569793e-01,\n",
      "       9.74087889e-21, 6.94278140e-04, 7.45388994e-20, 7.49624158e-20,\n",
      "       8.18798910e-03, 6.56671012e-02])\n",
      "[0.637 0.402 1.586]\n"
     ]
    }
   ],
   "source": [
    "# 제약조건\n",
    "cons2 = ({'type': 'eq', 'fun': lambda x: np.sum(x) - 1.0})\n",
    "\n",
    "opts = sco.minimize(risk_budgeting_objective, noa * [1. / noa, ], (R, C, front), method='SLSQP', bounds=bnds,\n",
    "                         constraints=cons2)\n",
    "optsx = (opts['x'] * 100).round(3)  # 샤프지수 최대 포트폴리오 결과값\n",
    "stat = statistics(opts['x'],R,C).round(3)  # 샤프지수 최대 포트폴리오의 수익률, 표준편차, 샤프지수\n",
    "print(opts)  # x값이 포트폴리오 비중\n",
    "print(stat)"
   ]
  },
  {
   "cell_type": "code",
   "execution_count": 0,
   "metadata": {
    "colab": {
     "base_uri": "https://localhost:8080/",
     "height": 175
    },
    "colab_type": "code",
    "id": "O0PZd68aGPly",
    "outputId": "d1a4e318-f5a3-4dd0-c584-22cbd7789249"
   },
   "outputs": [
    {
     "name": "stdout",
     "output_type": "stream",
     "text": [
      "\n",
      ">> 수익률 =  0.637 , 표준편차 =  0.402 , 샤프지수 =  1.586\n",
      "\n",
      ">> 검증 >>\n",
      "mvo= [ 6.747 12.212 12.957 22.931  0.     1.933  0.     0.     0.     4.369\n",
      "  3.205 30.087  0.     0.     0.     0.     0.288  5.272]\n",
      "PRC= [6.7230e+00 1.2202e+01 1.2930e+01 2.2925e+01 0.0000e+00 1.9290e+00\n",
      " 1.1600e-01 0.0000e+00 0.0000e+00 4.3500e+00 3.1910e+00 3.0072e+01\n",
      " 0.0000e+00 2.4000e-02 0.0000e+00 0.0000e+00 2.9000e-01 5.2490e+00]\n"
     ]
    }
   ],
   "source": [
    "rc_array = risk_contribution(opts['x'],R,C)\n",
    "MRC = (rc_array[0] * 100).round(3)\n",
    "ARC = (rc_array[1] * 100).round(3)\n",
    "PRC = (rc_array[2] * 100).round(3)\n",
    "\n",
    "stat = statistics(opts['x'],R,C).round(3)  # 샤프지수 최대 포트폴리오의 수익률, 표준편차, 샤프지수\n",
    "print('\\n>> 수익률 = ', stat[0],', 표준편차 = ', stat[1], ', 샤프지수 = ', stat[2])\n",
    "print('\\n>> 검증 >>')\n",
    "print('mvo=', (front * 100).round(3))\n",
    "print('PRC=', PRC.round(3))"
   ]
  },
  {
   "cell_type": "code",
   "execution_count": 0,
   "metadata": {
    "colab": {
     "base_uri": "https://localhost:8080/",
     "height": 430
    },
    "colab_type": "code",
    "id": "4EF_IiveTt00",
    "outputId": "a00ea467-2605-42e9-ba94-70ae25413545"
   },
   "outputs": [
    {
     "data": {
      "image/png": "[encoded data removed]",
      "text/plain": [
       "<Figure size 432x288 with 1 Axes>"
      ]
     },
     "metadata": {
      "tags": []
     },
     "output_type": "display_data"
    },
    {
     "data": {
      "text/html": [
       "<div>\n",
       "<style scoped>\n",
       "    .dataframe tbody tr th:only-of-type {\n",
       "        vertical-align: middle;\n",
       "    }\n",
       "\n",
       "    .dataframe tbody tr th {\n",
       "        vertical-align: top;\n",
       "    }\n",
       "\n",
       "    .dataframe thead th {\n",
       "        text-align: right;\n",
       "    }\n",
       "</style>\n",
       "<table border=\"1\" class=\"dataframe\">\n",
       "  <thead>\n",
       "    <tr style=\"text-align: right;\">\n",
       "      <th></th>\n",
       "      <th>나노메딕스</th>\n",
       "      <th>필룩스</th>\n",
       "      <th>카리스국보</th>\n",
       "      <th>동성제약</th>\n",
       "      <th>에이프로젠 KIC</th>\n",
       "      <th>엔케이물산</th>\n",
       "      <th>웰바이오텍</th>\n",
       "      <th>일신석재</th>\n",
       "      <th>인디에프</th>\n",
       "      <th>넥스트사이언스</th>\n",
       "      <th>인스코비</th>\n",
       "      <th>대호에이엘</th>\n",
       "      <th>동양철관</th>\n",
       "      <th>동양네트웍스</th>\n",
       "      <th>파미셀</th>\n",
       "      <th>일성건설</th>\n",
       "      <th>비티원</th>\n",
       "      <th>한창</th>\n",
       "    </tr>\n",
       "  </thead>\n",
       "  <tbody>\n",
       "    <tr>\n",
       "      <th>비중</th>\n",
       "      <td>0.06987</td>\n",
       "      <td>0.114071</td>\n",
       "      <td>0.127491</td>\n",
       "      <td>0.198123</td>\n",
       "      <td>4.336809e-19</td>\n",
       "      <td>0.042526</td>\n",
       "      <td>0.010523</td>\n",
       "      <td>0.0</td>\n",
       "      <td>0.0</td>\n",
       "      <td>0.060845</td>\n",
       "      <td>0.051431</td>\n",
       "      <td>0.25057</td>\n",
       "      <td>9.740879e-21</td>\n",
       "      <td>0.000694</td>\n",
       "      <td>7.453890e-20</td>\n",
       "      <td>7.496242e-20</td>\n",
       "      <td>0.008188</td>\n",
       "      <td>0.065667</td>\n",
       "    </tr>\n",
       "  </tbody>\n",
       "</table>\n",
       "</div>"
      ],
      "text/plain": [
       "      나노메딕스       필룩스     카리스국보  ...          일성건설       비티원        한창\n",
       "비중  0.06987  0.114071  0.127491  ...  7.496242e-20  0.008188  0.065667\n",
       "\n",
       "[1 rows x 18 columns]"
      ]
     },
     "metadata": {
      "tags": []
     },
     "output_type": "display_data"
    }
   ],
   "source": [
    "display_Efficient_frontier(R,C)\n",
    "scatter(stat[1], stat[0], marker='o', color='red'), grid(True)\n",
    "xlabel('volatility $\\sigma$'), ylabel('mean $\\mu$'), show()\n",
    "display(pd.DataFrame({'비중': opts['x']}, index=종목명).T)"
   ]
  },
  {
   "cell_type": "code",
   "execution_count": 0,
   "metadata": {
    "colab": {
     "base_uri": "https://localhost:8080/",
     "height": 72
    },
    "colab_type": "code",
    "id": "ES5zBATRGJ-Q",
    "outputId": "012eee02-5539-4dbc-f788-fa95a83d7e3f"
   },
   "outputs": [
    {
     "name": "stdout",
     "output_type": "stream",
     "text": [
      "\n",
      " >> 날짜 열 : ['20191116', '20191116', '20191116', '20191116', '20191116', '20191116', '20191116', '20191116', '20191116', '20191116', '20191116', '20191116', '20191116', '20191116', '20191116', '20191116', '20191116', '20191116']\n"
     ]
    }
   ],
   "source": [
    "# 우리나라 시간 = 그리니치 표준시 + 9시\n",
    "current_dt = (dt.datetime.now() + timedelta(hours=9)).strftime('%Y%m%d')\n",
    "date_col = [current_dt for i in range(noa)] # 날짜 칼럼 생성\n",
    "print('\\n >> 날짜 열 :', date_col)"
   ]
  },
  {
   "cell_type": "code",
   "execution_count": 0,
   "metadata": {
    "colab": {
     "base_uri": "https://localhost:8080/",
     "height": 422
    },
    "colab_type": "code",
    "id": "ZTqUF6Ngp3d5",
    "outputId": "872fc4e7-c94e-4736-dba2-91a352b84b6f"
   },
   "outputs": [
    {
     "name": "stdout",
     "output_type": "stream",
     "text": [
      "\n",
      "\n",
      "          날짜        종목명    종목코드      비중  ...   한계리스크   절대리스크  상대리스크비중     MVO\n",
      "0   20191116      나노메딕스  074610   6.987  ...  38.666   2.702    6.723   6.747\n",
      "1   20191116        필룩스  033180  11.407  ...  42.980   4.903   12.202  12.212\n",
      "2   20191116      카리스국보  001140  12.749  ...  40.753   5.196   12.930  12.957\n",
      "3   20191116       동성제약  002210  19.812  ...  46.495   9.212   22.925  22.931\n",
      "4   20191116  에이프로젠 KIC  007460   0.000  ...  16.480   0.000    0.000   0.000\n",
      "5   20191116      엔케이물산  009810   4.253  ...  18.222   0.775    1.929   1.933\n",
      "6   20191116      웰바이오텍  010600   1.052  ...   4.425   0.047    0.116   0.000\n",
      "7   20191116       일신석재  007110   0.000  ...  38.323   0.000    0.000   0.000\n",
      "8   20191116       인디에프  014990   0.000  ...  35.700   0.000    0.000   0.000\n",
      "9   20191116    넥스트사이언스  003580   6.084  ...  28.726   1.748    4.350   4.369\n",
      "10  20191116       인스코비  006490   5.143  ...  24.932   1.282    3.191   3.205\n",
      "11  20191116      대호에이엘  069460  25.057  ...  48.224  12.084   30.072  30.087\n",
      "12  20191116       동양철관  008970   0.000  ...  40.782   0.000    0.000   0.000\n",
      "13  20191116     동양네트웍스  030790   0.069  ...  13.698   0.010    0.024   0.000\n",
      "14  20191116        파미셀  005690   0.000  ...  24.289   0.000    0.000   0.000\n",
      "15  20191116       일성건설  013360   0.000  ...  32.860   0.000    0.000   0.000\n",
      "16  20191116        비티원  101140   0.819  ...  14.221   0.116    0.290   0.288\n",
      "17  20191116         한창  005110   6.567  ...  32.118   2.109    5.249   5.272\n",
      "\n",
      "[18 rows x 9 columns]\n"
     ]
    }
   ],
   "source": [
    "mp = {'날짜':date_col,\n",
    "      '종목명':종목명,\n",
    "      '종목코드':종목코드,\n",
    "      '비중':list(optsx),\n",
    "      '현재가':현재가,\n",
    "      '한계리스크':MRC,\n",
    "      '절대리스크':ARC,\n",
    "      '상대리스크비중':PRC,\n",
    "      'MVO':(front*100).round(3)}\n",
    "df1 = pd.DataFrame(mp,columns = ['날짜','종목명','종목코드','비중','현재가','한계리스크','절대리스크','상대리스크비중','MVO'])\n",
    "print('\\n')\n",
    "print(df1)\n",
    "df1.to_csv('RB_model_portfolio.csv', index=None)"
   ]
  },
  {
   "cell_type": "code",
   "execution_count": 0,
   "metadata": {
    "colab": {},
    "colab_type": "code",
    "id": "BQdMwuzFNT5T"
   },
   "outputs": [],
   "source": []
  }
 ],
 "metadata": {
  "anaconda-cloud": {},
  "colab": {
   "name": "RB모델_포트폴리오산출_기본.ipynb",
   "provenance": [],
   "toc_visible": true
  },
  "kernelspec": {
   "display_name": "Python [default]",
   "language": "python",
   "name": "python3"
  },
  "language_info": {
   "codemirror_mode": {
    "name": "ipython",
    "version": 3
   },
   "file_extension": ".py",
   "mimetype": "text/x-python",
   "name": "python",
   "nbconvert_exporter": "python",
   "pygments_lexer": "ipython3",
   "version": "3.5.4"
  }
 },
 "nbformat": 4,
 "nbformat_minor": 1
}
