{
 "cells": [
  {
   "cell_type": "markdown",
   "metadata": {
    "colab_type": "text",
    "id": "5btYQRfXRqLK"
   },
   "source": [
    "# 변동성조절 전략(Target Volatility Strategies) 시뮬레이터(2)\n",
    "\n",
    "전역변수 선언부에서 목표변동성을 조절하면서 시뮬레이션\n",
    "\n",
    "모델 포트폴리오의 비중과 잔고현황의 갭이 일정 수준 벌어지면 리밸런싱 실시"
   ]
  },
  {
   "cell_type": "code",
   "execution_count": 0,
   "metadata": {
    "colab": {},
    "colab_type": "code",
    "id": "ADPNwMllBrz_"
   },
   "outputs": [],
   "source": [
    "import math\n",
    "import numpy as np\n",
    "import pandas as pd\n",
    "import scipy.optimize as sco\n",
    "import platform\n",
    "import datetime as dt\n",
    "import matplotlib.pyplot as plt\n",
    "from multiprocessing import Pool # 멀티프로세싱\n",
    "from matplotlib import font_manager, rc\n",
    "from glob import glob # 폴더 내의 파일들을 리스트로 반환"
   ]
  },
  {
   "cell_type": "markdown",
   "metadata": {
    "colab_type": "text",
    "id": "x6UopF28Q8b2"
   },
   "source": [
    "# 예스트레이더 출력 결과물을 Pandas 형태로 포맷 변환"
   ]
  },
  {
   "cell_type": "code",
   "execution_count": 0,
   "metadata": {
    "colab": {},
    "colab_type": "code",
    "id": "A7cSE4PtdlAp"
   },
   "outputs": [],
   "source": [
    "# 예스트레이더 종목검색 결과를 날짜 기준으로 포맷팅\n",
    "def convert_yes_price_file(gubun):\n",
    "    # 우리나라 시간 = 그리니치 표준시 + 9시\n",
    "    file_dt = (dt.datetime.now() + dt.timedelta(hours=9)).strftime('%Y%m%d')\n",
    "\n",
    "    yes_price_file = pd.DataFrame()\n",
    "    # 예스트레이더 출력용 지표식과 칼럼수 일치시켜야 함.\n",
    "    yes_price_file = pd.read_csv('yes_stock_price_' + file_dt + '.csv',encoding= 'euc-kr',\n",
    "                           names = ['날짜1','종목명','종목코드','날짜','시가','고가','저가','종가','거래량',\n",
    "                                    '단기이평','중기이평','장기이평','지수단기이평','지수중기이평','지수장기이평',\n",
    "                                    'MACD','MACD_OSC','ATR','CCI','StoK','StoD','TRIX','이격도'],\n",
    "                           index_col= 1, header=None, dtype={'종목코드':str})\n",
    "\n",
    "    종목명 = yes_price_file.index.unique()\n",
    "    종목코드 = yes_price_file['종목코드'].unique()  # 종목코드 사용할 경우를 위해 별도 저장\n",
    "    df1 = {'종목명':종목명,\n",
    "           '종목코드':종목코드}\n",
    "    df1 = pd.DataFrame(df1)\n",
    "    df1.to_csv('symbol_cd.csv')\n",
    "\n",
    "    cls_p_data = pd.DataFrame()\n",
    "    vol_data = pd.DataFrame()\n",
    "    if gubun == 1:\n",
    "        hi_p_data = pd.DataFrame()\n",
    "        lo_p_data = pd.DataFrame()\n",
    "        sma_data = pd.DataFrame()\n",
    "        mma_data = pd.DataFrame()\n",
    "        lma_data = pd.DataFrame()\n",
    "        sema_data = pd.DataFrame()\n",
    "        mema_data = pd.DataFrame()\n",
    "        lema_data = pd.DataFrame()\n",
    "        macd_data = pd.DataFrame()\n",
    "        macdo_data = pd.DataFrame()\n",
    "        atr_data = pd.DataFrame()\n",
    "        cci_data = pd.DataFrame()\n",
    "        stok_data = pd.DataFrame()\n",
    "        stod_data = pd.DataFrame()\n",
    "        trix_data = pd.DataFrame()\n",
    "        dis_data = pd.DataFrame()\n",
    "\n",
    "    for i in range(len(종목명)):\n",
    "        cls_p = yes_price_file.loc[종목명[i],['날짜','종가']]\n",
    "        cls_p.set_index(['날짜'],inplace=True)\n",
    "        cls_p_data = pd.concat([cls_p_data,cls_p],axis=1) \n",
    "\n",
    "        vol = yes_price_file.loc[종목명[i],['날짜','거래량']]\n",
    "        vol.set_index(['날짜'],inplace=True)\n",
    "        vol_data = pd.concat([vol_data,vol],axis=1) \n",
    "\n",
    "        if gubun == 1:\n",
    "            hi_p = yes_price_file.loc[종목명[i],['날짜','고가']]\n",
    "            hi_p.set_index(['날짜'],inplace=True)\n",
    "            hi_p_data = pd.concat([hi_p_data,hi_p],axis=1) \n",
    "\n",
    "            lo_p = yes_price_file.loc[종목명[i],['날짜','저가']]\n",
    "            lo_p.set_index(['날짜'],inplace=True)\n",
    "            lo_p_data = pd.concat([lo_p_data,lo_p],axis=1) \n",
    "\n",
    "            sma = yes_price_file.loc[종목명[i],['날짜','단기이평']]\n",
    "            sma.set_index(['날짜'],inplace=True)\n",
    "            sma_data = pd.concat([sma_data,sma],axis=1) \n",
    "\n",
    "            mma = yes_price_file.loc[종목명[i],['날짜','중기이평']]\n",
    "            mma.set_index(['날짜'],inplace=True)\n",
    "            mma_data = pd.concat([mma_data,mma],axis=1) \n",
    "\n",
    "            lma = yes_price_file.loc[종목명[i],['날짜','장기이평']]\n",
    "            lma.set_index(['날짜'],inplace=True)\n",
    "            lma_data = pd.concat([lma_data,lma],axis=1) \n",
    "\n",
    "            atr = yes_price_file.loc[종목명[i],['날짜','ATR']]\n",
    "            atr.set_index(['날짜'],inplace=True)\n",
    "            atr_data = pd.concat([atr_data,atr],axis=1) \n",
    "\n",
    "    cls_p_data.columns = 종목명\n",
    "    print('\\n 종가데이터 \\n', cls_p_data.head())\n",
    "    cls_p_data.to_csv('cls_p_data.csv')\n",
    "\n",
    "    vol_data.columns = 종목명\n",
    "    print('\\n 거래량 \\n', vol_data.head())\n",
    "    vol_data.to_csv('volume_data.csv')\n",
    "\n",
    "    if gubun == 1:\n",
    "        hi_p_data.columns = 종목명\n",
    "        print('\\n 고가데이터 \\n', hi_p_data.head())\n",
    "        hi_p_data.to_csv('hi_p_data.csv')\n",
    "\n",
    "        lo_p_data.columns = 종목명\n",
    "        print('\\n 저가데이터 \\n', lo_p_data.head())\n",
    "        lo_p_data.to_csv('lo_p_data.csv')\n",
    "\n",
    "        sma_data.columns = 종목명\n",
    "        print('\\n 단기이평 \\n', sma_data.head())\n",
    "        sma_data.to_csv('sma_data.csv')\n",
    "\n",
    "        mma_data.columns = 종목명\n",
    "        print('\\n 중기이평 \\n', mma_data.head())\n",
    "        mma_data.to_csv('mma_data.csv')\n",
    "\n",
    "        lma_data.columns = 종목명\n",
    "        print('\\n 장기이평 \\n', lma_data.head())\n",
    "        lma_data.to_csv('lma_data.csv')\n",
    "\n",
    "        atr_data.columns = 종목명\n",
    "        print('\\n ATR \\n', atr_data.head())\n",
    "        atr_data.to_csv('atr_data.csv')"
   ]
  },
  {
   "cell_type": "code",
   "execution_count": 0,
   "metadata": {
    "colab": {},
    "colab_type": "code",
    "id": "VODmh14ze6Fo"
   },
   "outputs": [],
   "source": [
    "gubun = 0 # 지표 파일을 만들려면 1로, 안 만들여면 0\n",
    "convert_yes_price_file(gubun)  "
   ]
  },
  {
   "cell_type": "markdown",
   "metadata": {
    "colab_type": "text",
    "id": "TnncFR_GavgI"
   },
   "source": [
    "# 전역변수 선언"
   ]
  },
  {
   "cell_type": "code",
   "execution_count": 0,
   "metadata": {
    "colab": {},
    "colab_type": "code",
    "id": "qOzqZpExBr0H"
   },
   "outputs": [],
   "source": [
    "# 전역변수 선언\n",
    "raw_data = pd.DataFrame()\n",
    "cls_p_data = pd.DataFrame()\n",
    "hi_p_data = pd.DataFrame()\n",
    "lo_p_data = pd.DataFrame()\n",
    "vol_data = pd.DataFrame()\n",
    "atr_data = pd.DataFrame()\n",
    "보유수량_테이블 = pd.DataFrame()\n",
    "진입가격_테이블 = pd.DataFrame()\n",
    "MP비중_테이블 = pd.DataFrame()\n",
    "평가금액_테이블 = pd.DataFrame()\n",
    "진입후최고가 = pd.DataFrame()\n",
    "칼럼명 = []\n",
    "최초투입자금 = 100000000\n",
    "etf_yes_no = False\n",
    "진입수수료율 = 0.002  # 진입수수료율\n",
    "청산수수료율 = 0.002 if etf_yes_no else 0.005 # 청산수수료율\n",
    "진입슬리피지 = 1  # 집입슬리피지 n틱\n",
    "청산슬리피지 = 1  # 청산슬리피지 n틱\n",
    "시장구분 = 1  # 1:kospi,  2:kosdaq\n",
    "포트가공기간 = 0\n",
    "debug_mode = False\n"
   ]
  },
  {
   "cell_type": "markdown",
   "metadata": {
    "colab_type": "text",
    "id": "Lfn3ZYCOa4le"
   },
   "source": [
    "# 함수 선언"
   ]
  },
  {
   "cell_type": "code",
   "execution_count": 0,
   "metadata": {
    "colab": {},
    "colab_type": "code",
    "id": "EBJKubAKBr0R"
   },
   "outputs": [],
   "source": [
    "# 호가단위\n",
    "def calc_tick(price, k_q_gubun):\n",
    "    tick_size = 0\n",
    "    if k_q_gubun == 1:  # 1: kospi\n",
    "        if price < 1000:\n",
    "            tick_size = 1\n",
    "        elif price < 5000:\n",
    "            tick_size = 5\n",
    "        elif price < 10000:\n",
    "            tick_size = 10\n",
    "        elif price < 50000:\n",
    "            tick_size = 50\n",
    "        elif price < 100000:\n",
    "            tick_size = 100\n",
    "        elif price < 500000:\n",
    "            tick_size = 500\n",
    "        else:\n",
    "            tick_size = 1000\n",
    "    elif k_q_gubun == 2:  # 2: kosdaq\n",
    "        if price < 1000:\n",
    "            tick_size = 1\n",
    "        elif price < 5000:\n",
    "            tick_size = 5\n",
    "        elif price < 10000:\n",
    "            tick_size = 10\n",
    "        elif price < 50000:\n",
    "            tick_size = 50\n",
    "        else:\n",
    "            tick_size = 100\n",
    "    return tick_size\n"
   ]
  },
  {
   "cell_type": "code",
   "execution_count": 0,
   "metadata": {
    "colab": {},
    "colab_type": "code",
    "id": "BnWJrB6aBr0U"
   },
   "outputs": [],
   "source": [
    "def statistics(w,r,c):\n",
    "    '''포트폴리오 총계치 출력\n",
    "    인수\n",
    "    =====\n",
    "    w : array-like  포트폴리오 내의 비중\n",
    "    \n",
    "    반환값\n",
    "    ======\n",
    "    portfolio_return     : float 포트폴리오 수익률 기댓값\n",
    "    portfolio_volatility : float 포트폴리오 변동성 기댓값\n",
    "    sharpe_ratio         : float 무위험 이자율이 0일 때의 샤프 지수\n",
    "    '''\n",
    "    w = np.array(w)\n",
    "    portfolio_return = np.sum(r * w)\n",
    "    portfolio_volatility = np.sqrt(np.dot(w.T,np.dot(c, w)))\n",
    "    sharp_ratio = portfolio_return / portfolio_volatility\n",
    "    return np.array([portfolio_return, portfolio_volatility, sharp_ratio])"
   ]
  },
  {
   "cell_type": "code",
   "execution_count": 0,
   "metadata": {
    "colab": {},
    "colab_type": "code",
    "id": "Sf9xBQkfBr0Y"
   },
   "outputs": [],
   "source": [
    "# 최소화문제에서 샤프지수 최대값을 찾으려면 샤프지수의 음수 값을 최소화하면 된다.\n",
    "def min_func_sharpe(w,r,c):\n",
    "    return -statistics(w,r,c)[2]  # 위에서 만든 statistics의 3번째 값이 샤프지수"
   ]
  },
  {
   "cell_type": "code",
   "execution_count": 0,
   "metadata": {
    "colab": {},
    "colab_type": "code",
    "id": "zx7C-jU-Br0b"
   },
   "outputs": [],
   "source": [
    "# 분산 최소화 함수\n",
    "def min_func_variance(w,r,c):\n",
    "    return statistics(w,r,c)[1]**2"
   ]
  },
  {
   "cell_type": "code",
   "execution_count": 0,
   "metadata": {
    "colab": {},
    "colab_type": "code",
    "id": "k8xtWlFIbqBY"
   },
   "outputs": [],
   "source": [
    "# 기대수익률 음수값의 최소화 함수\n",
    "def min_func_return(w,r,c):\n",
    "    return -statistics(w,r,c)[0]"
   ]
  },
  {
   "cell_type": "code",
   "execution_count": 0,
   "metadata": {
    "colab": {},
    "colab_type": "code",
    "id": "dbvG4lz4Br0d"
   },
   "outputs": [],
   "source": [
    "def 포트폴리오생성(row_num, tv):\n",
    "    def port_volatility(w):\n",
    "        return np.sqrt(np.dot(w.T,np.dot(C, w)))\n",
    "    if debug_mode:\n",
    "        print(\"\\n 포트폴리오 생성 start\")\n",
    "    work_data = raw_data.iloc[row_num : row_num + 포트가공기간, 1:]\n",
    "    로그수익률 = np.log(work_data / work_data.shift(1))\n",
    "    R = 로그수익률.mean() * 252  # 연수익률\n",
    "    C = 로그수익률.cov() * 252  # 공분산\n",
    "    noa = len(R) # 자산의 수\n",
    "\n",
    "    # 제약조건\n",
    "    cons = ({'type': 'eq', 'fun': lambda x: port_volatility(x) - tv},\n",
    "            {'type': 'eq', 'fun': lambda x: np.sum(x) - 1}) \n",
    "    # 범위값\n",
    "    bnds = tuple((0, 1) for x in range(noa))\n",
    "\n",
    "    opts = sco.minimize(min_func_return, noa * [1. / noa, ], (R, C), method='SLSQP', bounds=bnds, constraints=cons)\n",
    "    optsx = (opts['x'] * 100).round(3)  # 샤프지수 최대 포트폴리오 결과값\n",
    "    if debug_mode:\n",
    "        print(opts)  # x값이 포트폴리오 비중\n",
    "        print(optsx)\n",
    "        print(\"포트폴리오 생성 end\")\n",
    "        print('\\n>> 검증 >>')\n",
    "        print('표준편차 = ', statistics(opts['x'], R, C)[1].round(3))\n",
    "    return opts['success'], opts['x']"
   ]
  },
  {
   "cell_type": "code",
   "execution_count": 0,
   "metadata": {
    "colab": {},
    "colab_type": "code",
    "id": "Co6ZARB3Br0f"
   },
   "outputs": [],
   "source": [
    "def 현재_평가금_계산(row_num):\n",
    "    평가금액합계 = 0\n",
    "    보유종목수 = 0\n",
    "    for j in range(1, len(칼럼명)):\n",
    "        if 보유수량_테이블.iloc[row_num, j] > 0:\n",
    "            수량 = 보유수량_테이블.iloc[row_num, j]\n",
    "            현재가 = cls_p_data.iloc[row_num, j]\n",
    "            평가금액합계 += math.floor((현재가 * (1 - 청산수수료율) * 수량) - (수량 * 청산슬리피지 * calc_tick(현재가, 시장구분)))\n",
    "            보유종목수 += 1\n",
    "    return (평가금액합계 + 평가금액_테이블['현금'][row_num]), 보유종목수"
   ]
  },
  {
   "cell_type": "code",
   "execution_count": 0,
   "metadata": {
    "colab": {},
    "colab_type": "code",
    "id": "0zmKkGGeBr0k"
   },
   "outputs": [],
   "source": [
    "def 비중_체크(row_num, 평가금액):\n",
    "    비중차이_합 = 0\n",
    "    for j in range(1, len(칼럼명)):\n",
    "        수량 = 보유수량_테이블.iloc[row_num, j]\n",
    "        현재가 = cls_p_data.iloc[row_num, j]\n",
    "        W = math.floor((현재가 * (1 - 청산수수료율) * 수량) - (수량 * 청산슬리피지 * calc_tick(현재가, 시장구분))) / 평가금액\n",
    "        비중차이_합 += abs(W * 100 - MP비중_테이블.iloc[row_num, j])\n",
    "    return 비중차이_합"
   ]
  },
  {
   "cell_type": "markdown",
   "metadata": {
    "colab_type": "text",
    "id": "VvfyxN-QbAGn"
   },
   "source": [
    "# 메인 함수"
   ]
  },
  {
   "cell_type": "code",
   "execution_count": 0,
   "metadata": {
    "colab": {},
    "colab_type": "code",
    "id": "xxnaHCvBBr0l"
   },
   "outputs": [],
   "source": [
    "def 메인_처리(기준일, 목표변동성, 공분산_산출기간, 리밸런싱_주기, 리밸런싱_시작월, 리밸런싱_날짜, 비중차이, 차트출력):\n",
    "    global raw_data,cls_p_data, hi_p_data, lo_p_data, vol_data, atr_data, 포트가공기간, 칼럼명, 보유수량_테이블, \\\n",
    "           진입가격_테이블, MP비중_테이블, 평가금액_테이블\n",
    "\n",
    "    포트가공기간 = 공분산_산출기간\n",
    "    if debug_mode:\n",
    "        print(\"시작\")\n",
    "    cls_p_data0 = pd.read_csv('cls_p_data.csv')\n",
    "    print(cls_p_data0.head())\n",
    "    vol_data0 = pd.read_csv('volume_data.csv')\n",
    "    시뮬레이션기간 = len(cls_p_data0[cls_p_data0.날짜 >= 기준일])\n",
    "    raw_data = cls_p_data0.iloc[-(시뮬레이션기간 + 공분산_산출기간):].reset_index(drop=True,inplace=False)\n",
    "    cls_p_data = cls_p_data0.iloc[-시뮬레이션기간:].reset_index(drop=True,inplace=False)\n",
    "    vol_data = vol_data0.iloc[-시뮬레이션기간:].reset_index(drop=True,inplace=False)\n",
    "    칼럼명 = cls_p_data.columns\n",
    "    noa = len(칼럼명) - 1 # 자산 수\n",
    "\n",
    "    매매수량_테이블 = pd.DataFrame(np.zeros((시뮬레이션기간, len(칼럼명))), columns=칼럼명)  # 매수,매도수량\n",
    "    매매금액_테이블 = pd.DataFrame(np.zeros((시뮬레이션기간, len(칼럼명))), columns=칼럼명)  # 매수,매도금액\n",
    "    진입가격_테이블 = pd.DataFrame(np.zeros((시뮬레이션기간, len(칼럼명))), columns=칼럼명)\n",
    "    보유수량_테이블 = pd.DataFrame(np.zeros((시뮬레이션기간, len(칼럼명))), columns=칼럼명)\n",
    "    보유비중_테이블 = pd.DataFrame(np.zeros((시뮬레이션기간, len(칼럼명))), columns=칼럼명)\n",
    "    보유비중_테이블['현금'] = 0 # 칼럼 추가\n",
    "    보유비중_테이블['리밸런싱사유'] = '' # 칼럼 추가\n",
    "    리밸런싱비중칼럼 = len(칼럼명) + 1\n",
    "    MP비중_테이블 = pd.DataFrame(np.zeros((시뮬레이션기간, len(칼럼명))), columns=칼럼명)\n",
    "    MP비중_테이블['리밸런싱사유'] = '' # 칼럼 추가\n",
    "    리밸런싱MP칼럼 = len(칼럼명)\n",
    "    평가금액_테이블 = pd.DataFrame(np.zeros((시뮬레이션기간, len(칼럼명))), columns=칼럼명)\n",
    "    평가금액_테이블['현금'] = 최초투입자금 # 칼럼 추가\n",
    "    평가금액_테이블['합계'] = 최초투입자금 # 칼럼 추가\n",
    "    평가금액_테이블['누적수익률'] = 0 # 칼럼 추가\n",
    "    평가금액_테이블['로그수익률'] = 0 # 칼럼 추가\n",
    "    평가금액_테이블['리밸런싱사유'] = '' # 칼럼 추가\n",
    "    현금칼럼 = len(칼럼명)\n",
    "    평가금액_테이블.iloc[0, 현금칼럼] = 최초투입자금  # 첫행에 현금열에 최초 투입자금 입력\n",
    "    합계칼럼 = 현금칼럼 + 1\n",
    "    수익률칼럼 = 합계칼럼 + 1\n",
    "    로그수익칼럼 = 수익률칼럼 + 1\n",
    "    리밸런싱칼럼 = 로그수익칼럼 + 1\n",
    "\n",
    "    prev_rebal_row = 0\n",
    "\n",
    "    for i in range(시뮬레이션기간):\n",
    "        yyyymmdd = cls_p_data['날짜'][i]\n",
    "        yyyy = yyyymmdd // 10000\n",
    "        mm = yyyymmdd // 100 - (yyyymmdd // 10000) * 100\n",
    "        dd = yyyymmdd % 100\n",
    "        dd1 = cls_p_data['날짜'][i + 1] % 100 if i + 1 < len(cls_p_data) else 31  # 익일 날짜\n",
    "        dd0 = cls_p_data['날짜'][i - 1] % 100 if i >= 1 else 1  # 전일 날짜\n",
    "\n",
    "        # 각 테이블의 날짜 칼럼에 날짜 업데이트\n",
    "        매매수량_테이블.iloc[i, 0] = yyyymmdd\n",
    "        매매금액_테이블.iloc[i, 0] = yyyymmdd\n",
    "        진입가격_테이블.iloc[i, 0] = yyyymmdd\n",
    "        보유수량_테이블.iloc[i, 0] = yyyymmdd\n",
    "        보유비중_테이블.iloc[i, 0] = yyyymmdd\n",
    "        MP비중_테이블.iloc[i, 0] = yyyymmdd\n",
    "        평가금액_테이블.iloc[i, 0] = yyyymmdd\n",
    "\n",
    "        if i >= 1:\n",
    "            # 전일 데이터를 그대로 가져오는 테이블의 처리, 매매수량과 매매금액_테이블은 거래있을 때만 처리\n",
    "            for j in range(1, len(칼럼명)):\n",
    "                진입가격_테이블.iloc[i, j] = 진입가격_테이블.iloc[i - 1, j]\n",
    "                보유수량_테이블.iloc[i, j] = 보유수량_테이블.iloc[i - 1, j]\n",
    "                MP비중_테이블.iloc[i, j] = MP비중_테이블.iloc[i - 1, j]\n",
    "            평가금액_테이블.iloc[i, 현금칼럼] = 평가금액_테이블.iloc[i - 1, 현금칼럼]  # 현금\n",
    "            if debug_mode:\n",
    "                print(\"\\n 현금 = \", 평가금액_테이블.iloc[i, 현금칼럼])\n",
    "\n",
    "        if debug_mode:\n",
    "            print(\"날짜체크\", i, yyyy, mm, dd)\n",
    "\n",
    "        # 목표비중을 계산하려면 현재가 기준으로 평가금액을 합산해 놓아야 한다.\n",
    "        현재_평가금액, 보유종목수 = 현재_평가금_계산(i)\n",
    "         # 직전 리밸런싱 후 정기 리밸런싱 주기의 1/2은 지나야 리밸런싱\n",
    "        if ((dd0 < 리밸런싱_날짜 <= dd or 리밸런싱_날짜 <= dd < dd0 or dd1 < dd <= 리밸런싱_날짜) and \\\n",
    "             mm % 리밸런싱_주기 == 리밸런싱_시작월 and \\\n",
    "             i - prev_rebal_row >= 리밸런싱_주기 * 10) or \\\n",
    "             보유종목수 == 0:\n",
    "            리밸런싱_사유 = 1\n",
    "        else:\n",
    "            비중차이_합 = 비중_체크(i, 현재_평가금액)\n",
    "            if 비중차이_합 > 비중차이:\n",
    "                리밸런싱_사유 = 2\n",
    "            else:\n",
    "                리밸런싱_사유 = 0\n",
    "        if 리밸런싱_사유 > 0:\n",
    "            print(\">> 날짜체크\", i, yyyy, mm, dd, \", 리밸런싱발생\")\n",
    "            opt_result, W = 포트폴리오생성(i, 목표변동성)\n",
    "            if opt_result == True:  # 포트폴리오 생성이 정상이라면\n",
    "                prev_rebal_row = i  # 직전 리밸런싱\n",
    "                현금 = 평가금액_테이블.iloc[i, 현금칼럼]\n",
    "                if debug_mode:\n",
    "                    print(\"현금 = \", 현금)\n",
    "                for k in range(1, len(칼럼명)):\n",
    "                    # k가 1부터 시작\n",
    "                    매입가능금액 = math.floor(현재_평가금액 * W[k - 1])\n",
    "                    현재가 = cls_p_data.iloc[i, k]\n",
    "                    거래량 = vol_data.iloc[i, k]\n",
    "                    목표수량 = math.floor(매입가능금액 / ((현재가 * (1 + 진입수수료율)) +\n",
    "                                          (진입슬리피지 * calc_tick(현재가, 시장구분))))\n",
    "                    현재수량 = 보유수량_테이블.iloc[i, k]\n",
    "                    if debug_mode:\n",
    "                        print(\"목표수량 = \", 목표수량, \"현재수량 = \", 현재수량)\n",
    "                    # 매도부터 실행해서 현금 만들고\n",
    "                    if 목표수량 < 현재수량 and 거래량 > 0:\n",
    "                        청산할수량 = 현재수량 - 목표수량\n",
    "                        청산금액 = math.floor((현재가 * (1 - 청산수수료율) * 청산할수량) -\n",
    "                                              (청산할수량 * 청산슬리피지 * calc_tick(현재가, 시장구분)))\n",
    "                        현금 += 청산금액\n",
    "                        if debug_mode:\n",
    "                            print(\"자산번호 = \", k, \"현금 = \", 현금)\n",
    "                        매매수량_테이블.iloc[i, k] = -청산할수량\n",
    "                        매매금액_테이블.iloc[i, k] = 청산금액  # 현금유입\n",
    "                        진입가격_테이블.iloc[i, k] = 현재가 if 목표수량 > 0 else 0\n",
    "                        보유수량_테이블.iloc[i, k] = 목표수량\n",
    "                        MP비중_테이블.iloc[i, k] = (W[k - 1] * 100).round(2)\n",
    "                        평가금액_테이블.iloc[i, 현금칼럼] = 현금\n",
    "\n",
    "                for k in range(1, len(칼럼명)):\n",
    "                    # k가 1부터 시작\n",
    "                    매입가능금액 = math.floor(현재_평가금액 * W[k - 1])\n",
    "                    현재가 = cls_p_data.iloc[i, k]\n",
    "                    거래량 = vol_data.iloc[i, k]\n",
    "                    목표수량 = math.floor(매입가능금액 / ((현재가 * (1 + 진입수수료율)) +\n",
    "                                                (진입슬리피지 * calc_tick(현재가, 시장구분))))\n",
    "                    현재수량 = 보유수량_테이블.iloc[i, k]\n",
    "                    if debug_mode:\n",
    "                        print(\"목표수량 = \", 목표수량, \"현재수량 = \", 현재수량)\n",
    "                    if 목표수량 > 현재수량 and 거래량 > 0:\n",
    "                        매입할수량 = 목표수량 - 현재수량\n",
    "                        매입금액 = math.ceil((현재가 * (1 + 진입수수료율) * 매입할수량) +\n",
    "                                         (매입할수량 * 진입슬리피지 * calc_tick(현재가, 시장구분)))\n",
    "                        if debug_mode:\n",
    "                            print(\"자산번호 = \", k, \"현금 = \", 현금)\n",
    "                        # 매도실패로 현금이 부족하면\n",
    "                        if 매입금액 > 현금:   \n",
    "                            매입할수량 = math.floor(현금 / ((현재가 * (1 + 진입수수료율)) +\n",
    "                                                (진입슬리피지 * calc_tick(현재가, 시장구분))))\n",
    "                            매입금액 = math.ceil((현재가 * (1 + 진입수수료율) * 매입할수량) +\n",
    "                                                (매입할수량 * 진입슬리피지 * calc_tick(현재가, 시장구분)))\n",
    "                            목표수량 = 현재수량 + 매입할수량\n",
    "                        현금 -= 매입금액\n",
    "                        매매수량_테이블.iloc[i, k] = 매입할수량\n",
    "                        매매금액_테이블.iloc[i, k] = -매입금액  # 현금지출\n",
    "                        진입가격_테이블.iloc[i, k] = 현재가  # 매수평균가가 아니라 리밸런싱한 날의 현재가를 저장\n",
    "                        보유수량_테이블.iloc[i, k] = 목표수량  # 매수면 수량 증가\n",
    "                        MP비중_테이블.iloc[i, k] = (W[k - 1] * 100).round(2)\n",
    "                        평가금액_테이블.iloc[i, 현금칼럼] = 현금\n",
    "                    elif 목표수량 > 0 and 목표수량 == 현재수량:\n",
    "                        진입가격_테이블.iloc[i, k] = 현재가  # 매수평균가가 아니라 리밸런싱한 날의 현재가를 저장\n",
    "                        MP비중_테이블.iloc[i, k] = (W[k - 1] * 100).round(2)\n",
    "                    else:    \n",
    "                        MP비중_테이블.iloc[i, k] = (W[k - 1] * 100).round(2)\n",
    "\n",
    "            if 리밸런싱_사유 == 1:\n",
    "                보유비중_테이블.iloc[i, 리밸런싱비중칼럼] = '정기'\n",
    "                MP비중_테이블.iloc[i, 리밸런싱MP칼럼] = '정기'\n",
    "                평가금액_테이블.iloc[i, 리밸런싱칼럼] = '정기'\n",
    "            elif 리밸런싱_사유 == 2:\n",
    "                보유비중_테이블.iloc[i, 리밸런싱비중칼럼] = '목표비중이탈 ' + str(비중차이_합.round(1))\n",
    "                MP비중_테이블.iloc[i, 리밸런싱MP칼럼] = '목표비중이탈 ' + str(비중차이_합.round(1))\n",
    "                평가금액_테이블.iloc[i, 리밸런싱칼럼] = '목표비중이탈 ' + str(비중차이_합.round(1))\n",
    "\n",
    "        평가금액합계 = 0\n",
    "        for j in range(1, len(칼럼명)):\n",
    "            if 보유수량_테이블.iloc[i, j] > 0:\n",
    "                수량 = 보유수량_테이블.iloc[i, j]\n",
    "                현재가 = cls_p_data.iloc[i, j]\n",
    "                평가금액 = math.floor((현재가 * (1 - 청산수수료율) * 수량) - (수량 * 청산슬리피지 * calc_tick(현재가, 시장구분)))\n",
    "            else:\n",
    "                평가금액 = 0\n",
    "            평가금액_테이블.iloc[i, j] = 평가금액\n",
    "            평가금액합계 += 평가금액\n",
    "        평가금액_테이블.iloc[i, 합계칼럼] = 평가금액합계 + 평가금액_테이블.iloc[i, 현금칼럼]\n",
    "        평가금액_테이블.iloc[i, 수익률칼럼] = (((평가금액_테이블.iloc[i, 합계칼럼] / 최초투입자금) - 1) * 100).round(2)\n",
    "        if i >= 1:\n",
    "            평가금액_테이블.iloc[i, 로그수익칼럼] = np.log(평가금액_테이블.iloc[i, 합계칼럼] /\n",
    "                                               평가금액_테이블.iloc[i - 1, 합계칼럼])\n",
    "        for j in range(1, len(칼럼명) + 1):\n",
    "            보유비중_테이블.iloc[i, j] = ((평가금액_테이블.iloc[i, j] / 평가금액_테이블.iloc[i, 합계칼럼]) * 100).round(2)\n",
    "        if debug_mode:\n",
    "            print(i, \"평가금액 =\", 평가금액_테이블.iloc[i, 합계칼럼], \"수익률 =\", 평가금액_테이블.iloc[i, 수익률칼럼])\n",
    "\n",
    "# 시뮬레이션 결과 보고서 만들기\n",
    "    연평균수익률 = np.mean(평가금액_테이블.iloc[:, 로그수익칼럼]) * 252 * 100\n",
    "    표준편차 = np.std(평가금액_테이블.iloc[:, 로그수익칼럼]) * math.sqrt(252) * 100\n",
    "    샤프지수 = (연평균수익률 / 표준편차) if 표준편차 != 0 else 0\n",
    "\n",
    "    file_list = glob('TV2_simul_report.csv')\n",
    "    if len(file_list) == 0:  # 파일이 없으면 빈 자료구조를 만들고\n",
    "        시뮬_보고서 = pd.DataFrame([], columns=['운용개시일', '목표변동성', '공분산 산출기간', '리밸런싱 주기(월)', '리밸런싱 시작월',\n",
    "                                        '리밸런싱 날짜', '비중차이', '누적수익률', '연수익률', '표준편차', '샤프지수'])\n",
    "    else:  # 파일이 있으면 읽어들인다\n",
    "        시뮬_보고서 = pd.read_csv('TV2_simul_report.csv')\n",
    "\n",
    "    # pandas 마지막 줄에 한 줄 추가 방법\n",
    "    시뮬_보고서.loc[len(시뮬_보고서)] = [평가금액_테이블.iloc[0, 0], 목표변동성, 공분산_산출기간, 리밸런싱_주기, 리밸런싱_시작월, \\\n",
    "                        리밸런싱_날짜, 비중차이, 평가금액_테이블.iloc[- 1, 수익률칼럼], 연평균수익률, 표준편차, 샤프지수]\n",
    "    시뮬_보고서.to_csv('TV2_simul_report.csv', index=None)\n",
    "\n",
    "    print('평가금액 =', 평가금액_테이블.iloc[- 1, 합계칼럼], ', 누적수익률 =', 평가금액_테이블.iloc[- 1, 수익률칼럼], \\\n",
    "          ', 연평균수익률 = ', round(연평균수익률, 2), ', 표준편차 =', round(표준편차, 2), ', 샤프지수 =', round(샤프지수, 2))\n",
    "\n",
    "    파일명_머리 = 'TV2_' + str(목표변동성) + '_' + str(공분산_산출기간) + '_' + str(리밸런싱_주기) + '_' + str(리밸런싱_시작월) + '_' + \\\n",
    "             str(리밸런싱_날짜) + '_' + str(비중차이) + '_'\n",
    "#평가금액_자료 말고는 검증용\n",
    "    매매금액_테이블.to_csv(파일명_머리 + 'trd_mnt.csv', index=None) # colab에서는 안 먹힘, encoding=\"ansi\")\n",
    "    매매수량_테이블.to_csv(파일명_머리 + 'trd_cont.csv', index=None)\n",
    "    진입가격_테이블.to_csv(파일명_머리 + 'entry_prc.csv', index=None)\n",
    "    보유수량_테이블.to_csv(파일명_머리 + 'acc_cont.csv', index=None)\n",
    "    MP비중_테이블.to_csv(파일명_머리 + 'mp_weight.csv', index=None)\n",
    "    보유비중_테이블.to_csv(파일명_머리 + 'real_weight.csv', index=None)\n",
    "    평가금액_테이블.to_csv(파일명_머리 + 'eval.csv', index=None)\n",
    "\n",
    "    if 차트출력 == 1:\n",
    "        plt.figure(figsize=(12, 6))\n",
    "        plt.plot(평가금액_테이블['누적수익률'], label = '수익률')\n",
    "        plt.legend()\n",
    "        plt.grid(True)\n",
    "        plt.show()"
   ]
  },
  {
   "cell_type": "markdown",
   "metadata": {
    "colab_type": "text",
    "id": "A_S3d9BhbIXu"
   },
   "source": [
    "# 메인 함수 호출"
   ]
  },
  {
   "cell_type": "code",
   "execution_count": 0,
   "metadata": {
    "colab": {},
    "colab_type": "code",
    "id": "SZO4JHtHBr0r"
   },
   "outputs": [],
   "source": [
    "# 메인_처리(기준일, 목표변동성, 공분산_산출기간, 리밸런싱_주기, 리밸런싱_시작월, 리밸런싱_날짜, 비중차이, 차트출력)\n",
    "메인_처리(20170101, 0.5, 500, 1, 0, 1, 25, 1)"
   ]
  },
  {
   "cell_type": "markdown",
   "metadata": {
    "colab_type": "text",
    "id": "ha2rX-0G8QXP"
   },
   "source": [
    "# 변수 최적화 시뮬레이션"
   ]
  },
  {
   "cell_type": "code",
   "execution_count": 0,
   "metadata": {
    "colab": {},
    "colab_type": "code",
    "id": "iWO93V58Br0n"
   },
   "outputs": [],
   "source": [
    "def call_main():\n",
    "    for 기간 in range(50, 501, 50):\n",
    "        for 변동성 in range(2, 9):\n",
    "            for 주기 in range(1, 7):\n",
    "                for 시작월 in range(주기):\n",
    "                    for 날짜 in range(1, 32, 10):\n",
    "                        for 비중이탈 in range(10, 31, 5):\n",
    "                            메인_처리(20180101, 변동성/10, 기간, 주기, 시작월, 날짜, 비중이탈, 0)\n"
   ]
  },
  {
   "cell_type": "code",
   "execution_count": 0,
   "metadata": {
    "colab": {},
    "colab_type": "code",
    "id": "KT5sF-tKBr0p"
   },
   "outputs": [],
   "source": [
    "# call_main()"
   ]
  },
  {
   "cell_type": "code",
   "execution_count": 0,
   "metadata": {
    "colab": {},
    "colab_type": "code",
    "id": "Z1yoUe4XBr0s"
   },
   "outputs": [],
   "source": []
  }
 ],
 "metadata": {
  "anaconda-cloud": {},
  "colab": {
   "name": "TV포트폴리오+비중이탈시_리밸런싱_최적화.ipynb",
   "provenance": [],
   "toc_visible": true
  },
  "kernelspec": {
   "display_name": "Python [default]",
   "language": "python",
   "name": "python3"
  },
  "language_info": {
   "codemirror_mode": {
    "name": "ipython",
    "version": 3
   },
   "file_extension": ".py",
   "mimetype": "text/x-python",
   "name": "python",
   "nbconvert_exporter": "python",
   "pygments_lexer": "ipython3",
   "version": "3.5.4"
  }
 },
 "nbformat": 4,
 "nbformat_minor": 1
}
