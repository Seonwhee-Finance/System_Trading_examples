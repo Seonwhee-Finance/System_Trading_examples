{
 "cells": [
  {
   "cell_type": "markdown",
   "metadata": {
    "colab_type": "text",
    "id": "Cj1Pc45TTVv-"
   },
   "source": [
    "# 리스크 할당(Risk Budgeting) 모형 투자자 성향별 포트폴리오 산출"
   ]
  },
  {
   "cell_type": "code",
   "execution_count": 0,
   "metadata": {
    "colab": {},
    "colab_type": "code",
    "id": "CzpNWmy8pZUd"
   },
   "outputs": [],
   "source": [
    "import numpy as np\n",
    "import pandas as pd\n",
    "import scipy.optimize as sco\n",
    "import datetime as dt\n",
    "from datetime import timedelta"
   ]
  },
  {
   "cell_type": "markdown",
   "metadata": {
    "colab_type": "text",
    "id": "hq8s_ewEUBVW"
   },
   "source": [
    "# 예스트레이더 출력 결과물을 Pandas 형태로 포맷 변환"
   ]
  },
  {
   "cell_type": "code",
   "execution_count": 0,
   "metadata": {
    "colab": {},
    "colab_type": "code",
    "id": "jF4D8enNmNRg"
   },
   "outputs": [],
   "source": [
    "# 예스트레이더 종목검색 결과를 날짜 기준으로 포맷팅\n",
    "def convert_yes_price_file(gubun):\n",
    "    # 우리나라 시간 = 그리니치 표준시 + 9시\n",
    "    file_dt = (dt.datetime.now() + dt.timedelta(hours=9)).strftime('%Y%m%d')\n",
    "\n",
    "    yes_price_file = pd.DataFrame()\n",
    "    # 예스트레이더 출력용 지표식과 칼럼수 일치시켜야 함.\n",
    "    yes_price_file = pd.read_csv('yes_stock_price_' + file_dt + '.csv',encoding= 'euc-kr',\n",
    "                           names = ['날짜1','종목명','종목코드','날짜','시가','고가','저가','종가','거래량',\n",
    "                                    '단기이평','중기이평','장기이평','지수단기이평','지수중기이평','지수장기이평',\n",
    "                                    'MACD','MACD_OSC','ATR','CCI','StoK','StoD','TRIX','이격도'],\n",
    "                           index_col= 1, header=None, dtype={'종목코드':str})\n",
    "\n",
    "    종목명 = yes_price_file.index.unique()\n",
    "    종목코드 = yes_price_file['종목코드'].unique()  # 종목코드 사용할 경우를 위해 별도 저장\n",
    "    df1 = {'종목명':종목명,\n",
    "           '종목코드':종목코드}\n",
    "    df1 = pd.DataFrame(df1)\n",
    "    df1.to_csv('symbol_cd.csv')\n",
    "\n",
    "    cls_p_data = pd.DataFrame()\n",
    "    vol_data = pd.DataFrame()\n",
    "    if gubun == 1:\n",
    "        hi_p_data = pd.DataFrame()\n",
    "        lo_p_data = pd.DataFrame()\n",
    "        sma_data = pd.DataFrame()\n",
    "        mma_data = pd.DataFrame()\n",
    "        lma_data = pd.DataFrame()\n",
    "        sema_data = pd.DataFrame()\n",
    "        mema_data = pd.DataFrame()\n",
    "        lema_data = pd.DataFrame()\n",
    "        macd_data = pd.DataFrame()\n",
    "        macdo_data = pd.DataFrame()\n",
    "        atr_data = pd.DataFrame()\n",
    "        cci_data = pd.DataFrame()\n",
    "        stok_data = pd.DataFrame()\n",
    "        stod_data = pd.DataFrame()\n",
    "        trix_data = pd.DataFrame()\n",
    "        dis_data = pd.DataFrame()\n",
    "\n",
    "    for i in range(len(종목명)):\n",
    "        cls_p = yes_price_file.loc[종목명[i],['날짜','종가']]\n",
    "        cls_p.set_index(['날짜'],inplace=True)\n",
    "        cls_p_data = pd.concat([cls_p_data,cls_p],axis=1) \n",
    "\n",
    "        vol = yes_price_file.loc[종목명[i],['날짜','거래량']]\n",
    "        vol.set_index(['날짜'],inplace=True)\n",
    "        vol_data = pd.concat([vol_data,vol],axis=1) \n",
    "\n",
    "        if gubun == 1:\n",
    "            hi_p = yes_price_file.loc[종목명[i],['날짜','고가']]\n",
    "            hi_p.set_index(['날짜'],inplace=True)\n",
    "            hi_p_data = pd.concat([hi_p_data,hi_p],axis=1) \n",
    "\n",
    "            lo_p = yes_price_file.loc[종목명[i],['날짜','저가']]\n",
    "            lo_p.set_index(['날짜'],inplace=True)\n",
    "            lo_p_data = pd.concat([lo_p_data,lo_p],axis=1) \n",
    "\n",
    "            sma = yes_price_file.loc[종목명[i],['날짜','단기이평']]\n",
    "            sma.set_index(['날짜'],inplace=True)\n",
    "            sma_data = pd.concat([sma_data,sma],axis=1) \n",
    "\n",
    "            mma = yes_price_file.loc[종목명[i],['날짜','중기이평']]\n",
    "            mma.set_index(['날짜'],inplace=True)\n",
    "            mma_data = pd.concat([mma_data,mma],axis=1) \n",
    "\n",
    "            lma = yes_price_file.loc[종목명[i],['날짜','장기이평']]\n",
    "            lma.set_index(['날짜'],inplace=True)\n",
    "            lma_data = pd.concat([lma_data,lma],axis=1) \n",
    "\n",
    "            atr = yes_price_file.loc[종목명[i],['날짜','ATR']]\n",
    "            atr.set_index(['날짜'],inplace=True)\n",
    "            atr_data = pd.concat([atr_data,atr],axis=1) \n",
    "\n",
    "    cls_p_data.columns = 종목명\n",
    "    print('\\n 종가데이터 \\n', cls_p_data.head())\n",
    "    cls_p_data.to_csv('cls_p_data.csv')\n",
    "\n",
    "    vol_data.columns = 종목명\n",
    "    print('\\n 거래량 \\n', vol_data.head())\n",
    "    vol_data.to_csv('volume_data.csv')\n",
    "\n",
    "    if gubun == 1:\n",
    "        hi_p_data.columns = 종목명\n",
    "        print('\\n 고가데이터 \\n', hi_p_data.head())\n",
    "        hi_p_data.to_csv('hi_p_data.csv')\n",
    "\n",
    "        lo_p_data.columns = 종목명\n",
    "        print('\\n 저가데이터 \\n', lo_p_data.head())\n",
    "        lo_p_data.to_csv('lo_p_data.csv')\n",
    "\n",
    "        sma_data.columns = 종목명\n",
    "        print('\\n 단기이평 \\n', sma_data.head())\n",
    "        sma_data.to_csv('sma_data.csv')\n",
    "\n",
    "        mma_data.columns = 종목명\n",
    "        print('\\n 중기이평 \\n', mma_data.head())\n",
    "        mma_data.to_csv('mma_data.csv')\n",
    "\n",
    "        lma_data.columns = 종목명\n",
    "        print('\\n 장기이평 \\n', lma_data.head())\n",
    "        lma_data.to_csv('lma_data.csv')\n",
    "\n",
    "        atr_data.columns = 종목명\n",
    "        print('\\n ATR \\n', atr_data.head())\n",
    "        atr_data.to_csv('atr_data.csv')"
   ]
  },
  {
   "cell_type": "code",
   "execution_count": 0,
   "metadata": {
    "colab": {},
    "colab_type": "code",
    "id": "o8U_JQDNgvhO"
   },
   "outputs": [],
   "source": [
    "# 채권ETF가격을 날짜 기준으로 포맷팅\n",
    "def convert_yes_bond_etf_file():\n",
    "    # 우리나라 시간 = 그리니치 표준시 + 9시\n",
    "    file_dt = (dt.datetime.now() + dt.timedelta(hours=9)).strftime('%Y%m%d')\n",
    "\n",
    "    yes_bond_etf_file = pd.DataFrame()\n",
    "    yes_bond_etf_file = pd.read_csv('yes_etf_price_' + file_dt + '.csv',encoding= 'euc-kr',\n",
    "                           names = ['날짜1','종목명','종목코드','날짜','시가','고가','저가','종가','거래량',\n",
    "                                    '단기이평','중기이평','장기이평','지수단기이평','지수중기이평','지수장기이평',\n",
    "                                    'MACD','MACD_OSC','ATR','CCI','StoK','StoD','TRIX','이격도'],\n",
    "                           index_col= 1, header=None, dtype={'종목코드':str})\n",
    "\n",
    "    종목명2 = yes_bond_etf_file.index.unique()\n",
    "    종목코드2 = yes_bond_etf_file['종목코드'].unique()  # 종목코드 사용할 경우를 위해 별도 저장\n",
    "    df2 = {'종목명':종목명2,\n",
    "           '종목코드':종목코드2}\n",
    "    df2 = pd.DataFrame(df2)\n",
    "    df2.to_csv('symbol_cd2.csv')\n",
    "\n",
    "    out_data2 = pd.DataFrame()\n",
    "    for i in range(len(종목명2)):\n",
    "        df2 = yes_bond_etf_file.loc[종목명2[i],['날짜','종가']]\n",
    "        df2.set_index(['날짜'],inplace=True)\n",
    "        out_data2 = pd.concat([out_data2,df2],axis=1) \n",
    "    out_data2.columns = 종목명2\n",
    "    print(out_data2.head())\n",
    "    out_data2.to_csv('bond_etf.csv')"
   ]
  },
  {
   "cell_type": "code",
   "execution_count": 0,
   "metadata": {
    "colab": {},
    "colab_type": "code",
    "id": "usWg3_VwFwjH"
   },
   "outputs": [],
   "source": [
    "gubun = 0 # 지표 파일을 만들려면 1로, 안 만들여면 0\n",
    "convert_yes_price_file(gubun)\n",
    "convert_yes_bond_etf_file()"
   ]
  },
  {
   "cell_type": "markdown",
   "metadata": {
    "colab_type": "text",
    "id": "26iwSafHUInY"
   },
   "source": [
    "# 사용자 함수 선언"
   ]
  },
  {
   "cell_type": "code",
   "execution_count": 0,
   "metadata": {
    "colab": {},
    "colab_type": "code",
    "id": "fcIlAbmOqs3l"
   },
   "outputs": [],
   "source": [
    "def statistics(w,r,c):\n",
    "    '''포트폴리오 총계치 출력\n",
    "    인수\n",
    "    =====\n",
    "    w : array-like  포트폴리오 내의 비중\n",
    "    \n",
    "    반환값\n",
    "    ======\n",
    "    portfolio_return     : float 포트폴리오 수익률 기댓값\n",
    "    portfolio_volatility : float 포트폴리오 변동성 기댓값\n",
    "    sharpe_ratio         : float 무위험 이자율이 0일 때의 샤프 지수\n",
    "    '''\n",
    "    w = np.array(w)\n",
    "    portfolio_return = np.sum(r * w)\n",
    "    portfolio_volatility = np.sqrt(np.dot(w.T,np.dot(c, w)))\n",
    "    sharp_ratio = portfolio_return / portfolio_volatility\n",
    "    return np.array([portfolio_return, portfolio_volatility, sharp_ratio])"
   ]
  },
  {
   "cell_type": "code",
   "execution_count": 0,
   "metadata": {
    "colab": {},
    "colab_type": "code",
    "id": "X3dBDOvaqyub"
   },
   "outputs": [],
   "source": [
    "def risk_contribution(w,r,c):\n",
    "    '''\n",
    "    E(rp) = w'μ          : 포트폴리오 기대수익률\n",
    "    σp orσ(w) = √(w'Ωw) : 포트폴리오 표준편차\n",
    "    where w:= 구성종목 비중vector\n",
    "          μ:= 자산별 기대수익률 vector\n",
    "          Ω:= 공분산행렬\n",
    "    Marginal Contribution to Risk of asset i(한계 리스크 기여도)\n",
    "    MCRi = ∂σ(w)/∂wi = Δσ(w)/Δwi = 1/σ(w) * Σwi*cov(ri,rj) = Ωw/√(w'Ωw)\n",
    "    := i번째 자산군 투자비중 변화에 대한 포트폴리오 전체 위험의 변화 정도\n",
    "    Absolute Contribution to Risk of asset i(절대 리스크 기여도) 자산의 표준편차 값\n",
    "    ACRi = wi*MCRi\n",
    "    Percent Contribution to Risk of asset i(상대 리스크 기여도) 전체 중에 얼마인지 퍼센트로 표시한 것\n",
    "    PCRi = ACRi/σ(w)\n",
    "    '''\n",
    "    sigma = statistics(w,r,c)[1]\n",
    "    mcr = np.dot(c, w) / sigma\n",
    "    acr = w * mcr\n",
    "    pcr = acr / sigma\n",
    "    return mcr, acr, pcr"
   ]
  },
  {
   "cell_type": "code",
   "execution_count": 0,
   "metadata": {
    "colab": {},
    "colab_type": "code",
    "id": "yQIptMXXq1nh"
   },
   "outputs": [],
   "source": [
    "# 최적포트폴리오의 투자비중과 포트폴리오 위험비중이 동일하게\n",
    "def risk_budgeting_objective(w,r,c,front):\n",
    "    sigma = statistics(w,r,c)[1]\n",
    "    mcr = np.dot(c, w) / sigma\n",
    "    return np.sum(np.square(front - (w * mcr / sigma)))"
   ]
  },
  {
   "cell_type": "code",
   "execution_count": 0,
   "metadata": {
    "colab": {},
    "colab_type": "code",
    "id": "6Spiq2i0q3_j"
   },
   "outputs": [],
   "source": [
    "def min_func_sharpe(w,r,c):\n",
    "# 최소화문제에서 샤프지수 최대값을 찾으려면 샤프지수의 음수 값을 최소화하면 된다.\n",
    "    return -statistics(w,r,c)[2]  # 위에서 만든 statistics의 3번째 값이 샤프지수"
   ]
  },
  {
   "cell_type": "code",
   "execution_count": 0,
   "metadata": {
    "colab": {},
    "colab_type": "code",
    "id": "6PN_FMsKq4to"
   },
   "outputs": [],
   "source": [
    "def min_func_variance(w,r,c):\n",
    "# 분산 최소화 함수\n",
    "    return statistics(w,r,c)[1]**2"
   ]
  },
  {
   "cell_type": "markdown",
   "metadata": {
    "colab_type": "text",
    "id": "MRtTs3gXUM26"
   },
   "source": [
    "# Main"
   ]
  },
  {
   "cell_type": "code",
   "execution_count": 0,
   "metadata": {
    "colab": {},
    "colab_type": "code",
    "id": "vaonAo_xiKD0"
   },
   "outputs": [],
   "source": [
    "# 위험도별 주식비중\n",
    "Wstk = (0.5, 0.7, 1.0)\n",
    "공분산_산출기간 = 500  # 시뮬레이터를 통해 최적 값 찾을 것\n",
    "\n",
    "# 주식종목 배분\n",
    "raw_data = pd.read_csv('cls_p_data.csv',index_col=['날짜'], parse_dates=['날짜'])\n",
    "종목명 = raw_data.columns\n",
    "noa = len(종목명) # 자산수\n",
    "\n",
    "symbol_data = pd.read_csv('symbol_cd.csv',index_col=None,dtype={'종목코드':str})\n",
    "종목코드 = symbol_data['종목코드']\n",
    "work_data = raw_data.iloc[-공분산_산출기간:]\n",
    "현재가 = list(raw_data.iloc[-1])\n",
    "print('\\n >> 현재가 :', 현재가)\n",
    "\n",
    "로그수익률 = np.log(work_data / work_data.shift(1))\n",
    "print(로그수익률.head())\n",
    "\n",
    "R = 로그수익률.mean() * 252 # 연수익률\n",
    "print(R)\n",
    "\n",
    "C = 로그수익률.cov() * 252  # 공분산, 표준편차가 아닌 분산이다\n",
    "print(C)  \n",
    "\n",
    "# 제약조건\n",
    "cons = ({'type': 'eq', 'fun': lambda x: np.sum(x) - 1},\n",
    "        {'type': 'ineq', 'fun': lambda x: (x >= 0.01).sum() - 4},   #매수 종목이 5 종목 이상되도록 조건 설정 \n",
    "        {'type': 'ineq', 'fun': lambda x: (x >= 0.01).sum() - 3},\n",
    "        {'type': 'ineq', 'fun': lambda x: (x >= 0.01).sum() - 2},\n",
    "        {'type': 'ineq', 'fun': lambda x: (x >= 0.01).sum() - 1}) \n",
    "\n",
    "# 범위값\n",
    "bnds = tuple((0, 1) for x in range(noa))\n",
    "\n",
    "opts = sco.minimize(min_func_sharpe, noa * [1. / noa, ], (R, C), method='SLSQP', bounds=bnds, constraints=cons)\n",
    "front = opts['x']  # 샤프지수 최대 포트폴리오 결과값\n",
    "\n",
    "# 제약조건\n",
    "cons2 = ({'type': 'eq', 'fun': lambda x: np.sum(x) - 1.0})\n",
    "\n",
    "opts = sco.minimize(risk_budgeting_objective, noa * [1. / noa, ], (R, C, front), method='SLSQP', bounds=bnds,\n",
    "                         constraints=cons2)\n",
    "optsx = (opts['x'] * 100).round(3)  # 샤프지수 최대 포트폴리오 결과값\n",
    "print('\\n >> 비중 :', optsx)\n",
    "\n",
    "rc_array = risk_contribution(opts['x'],R,C)\n",
    "MRC = (rc_array[0] * 100).round(3)\n",
    "ARC = (rc_array[1] * 100).round(3)\n",
    "PRC = (rc_array[2] * 100).round(3)\n",
    "\n",
    "stat = statistics(opts['x'],R,C).round(3)  # 샤프지수 최대 포트폴리오의 수익률, 표준편차, 샤프지수\n",
    "print('\\n>> 수익률 = ', stat[0],', 표준편차 = ', stat[1], ', 샤프지수 = ', stat[2])\n",
    "print('\\n>> 검증 >>')\n",
    "print('mvo=', (front * 100).round(3))\n",
    "print('PRC=', PRC.round(3))\n",
    "\n",
    "# 우리나라 시간 = 그리니치 표준시 + 9시\n",
    "current_dt = (dt.datetime.now() + timedelta(hours=9)).strftime('%Y%m%d')\n",
    "date_col = [current_dt for i in range(noa)] # 날짜 칼럼 생성\n",
    "print('\\n >> 날짜 열 :', date_col)\n",
    "\n",
    "mp11 = {'날짜':date_col,\n",
    "      '종목명':종목명,\n",
    "      '종목코드':종목코드,\n",
    "      '비중':list((optsx * Wstk[0]).round(3)),\n",
    "      '현재가':현재가,\n",
    "      '한계리스크':MRC.round(3),\n",
    "      '절대리스크':ARC.round(3),\n",
    "      '상대리스크비중':PRC.round(3),\n",
    "      'MVO':(front * 100).round(3)}\n",
    "df11 = pd.DataFrame(mp11,columns = ['날짜','종목명','종목코드','비중','현재가','한계리스크','절대리스크','상대리스크비중','MVO'])\n",
    "mp21 = {'날짜':date_col,\n",
    "      '종목명':종목명,\n",
    "      '종목코드':종목코드,\n",
    "      '비중':list((optsx * Wstk[1]).round(3)),\n",
    "      '현재가':현재가,\n",
    "      '한계리스크':MRC.round(3),\n",
    "      '절대리스크':ARC.round(3),\n",
    "      '상대리스크비중':PRC.round(3),\n",
    "      'MVO':(front * 100).round(3)}\n",
    "df21 = pd.DataFrame(mp21,columns = ['날짜','종목명','종목코드','비중','현재가','한계리스크','절대리스크','상대리스크비중','MVO'])\n",
    "mp31 = {'날짜':date_col,\n",
    "      '종목명':종목명,\n",
    "      '종목코드':종목코드,\n",
    "      '비중':list((optsx * Wstk[2]).round(3)),\n",
    "      '현재가':현재가,\n",
    "      '한계리스크':MRC.round(3),\n",
    "      '절대리스크':ARC.round(3),\n",
    "      '상대리스크비중':PRC.round(3),\n",
    "      'MVO':(front * 100).round(3)}\n",
    "df31 = pd.DataFrame(mp31,columns = ['날짜','종목명','종목코드','비중','현재가','한계리스크','절대리스크','상대리스크비중','MVO'])"
   ]
  },
  {
   "cell_type": "code",
   "execution_count": 0,
   "metadata": {
    "colab": {},
    "colab_type": "code",
    "id": "tUl49bFWF1My"
   },
   "outputs": [],
   "source": [
    "# 채권ETF 배분\n",
    "raw_data2 = pd.read_csv('bond_etf.csv',index_col=['날짜'], parse_dates=['날짜'])\n",
    "종목명2 = raw_data2.columns\n",
    "print('\\n >> 종목명 :', 종목명2)\n",
    "noa2 = len(종목명2) # 자산수\n",
    "\n",
    "symbol_data2 = pd.read_csv('symbol_cd2.csv',index_col=None,dtype={'종목코드':str})\n",
    "종목코드2 = symbol_data2['종목코드']\n",
    "print('\\n >> 종목코드 :', 종목코드2)\n",
    "\n",
    "work_data2 = raw_data2.iloc[-공분산_산출기간:]\n",
    "현재가2 = list(raw_data2.iloc[-1])\n",
    "print('\\n >> 현재가 :', 현재가2)\n",
    "\n",
    "로그수익률2 = np.log(work_data2 / work_data2.shift(1))\n",
    "print(로그수익률2.head())\n",
    "\n",
    "R2 = 로그수익률2.mean() * 252 # 연수익률\n",
    "print(R2)\n",
    "\n",
    "C2 = 로그수익률2.cov() * 252  # 공분산, 표준편차가 아닌 분산이다\n",
    "print(C2)  \n",
    "\n",
    "# 제약조건\n",
    "cons = ({'type': 'eq', 'fun': lambda x: np.sum(x) - 1},\n",
    "        {'type': 'ineq', 'fun': lambda x: (x >= 0.01).sum() - 2},   #매수 종목이 3 종목 이상되도록 조건 설정 \n",
    "        {'type': 'ineq', 'fun': lambda x: (x >= 0.01).sum() - 1})\n",
    "\n",
    "# 범위값\n",
    "bnds = tuple((0, 1) for x in range(noa2))\n",
    "\n",
    "opts = sco.minimize(min_func_sharpe, noa2 * [1. / noa2, ], (R2, C2), method='SLSQP', bounds=bnds, constraints=cons)\n",
    "front2 = opts['x']  # 샤프지수 최대 포트폴리오 결과값\n",
    "\n",
    "# 제약조건\n",
    "cons2 = ({'type': 'eq', 'fun': lambda x: np.sum(x) - 1.0})\n",
    "\n",
    "opts2 = sco.minimize(risk_budgeting_objective, noa2 * [1. / noa2, ], (R2, C2, front2), method='SLSQP', bounds=bnds,\n",
    "                         constraints=cons2)\n",
    "optsx2 = (opts2['x'] * 100).round(3)  # 샤프지수 최대 포트폴리오 결과값\n",
    "print('\\n >> 비중 :', optsx2)\n",
    "\n",
    "rc_array2 = risk_contribution(opts2['x'],R2,C2)\n",
    "MRC2 = (rc_array2[0] * 100).round(3)\n",
    "ARC2 = (rc_array2[1] * 100).round(3)\n",
    "PRC2 = (rc_array2[2] * 100).round(3)\n",
    "\n",
    "stat = statistics(opts2['x'],R2,C2).round(3)  # 샤프지수 최대 포트폴리오의 수익률, 표준편차, 샤프지수\n",
    "print('\\n>> 수익률 = ', stat[0],', 표준편차 = ', stat[1], ', 샤프지수 = ', stat[2])\n",
    "print('\\n>> 검증 >>')\n",
    "print('mvo=', (front2 * 100).round(3))\n",
    "print('PRC=', PRC2.round(3))\n"
   ]
  },
  {
   "cell_type": "markdown",
   "metadata": {
    "colab_type": "text",
    "id": "YwhDutHBUYGV"
   },
   "source": [
    "# 투자자성향별 MP 비중 조정 후 저장"
   ]
  },
  {
   "cell_type": "code",
   "execution_count": 0,
   "metadata": {
    "colab": {},
    "colab_type": "code",
    "id": "O0PZd68aGPly"
   },
   "outputs": [],
   "source": [
    "date_col2 = [current_dt for i in range(noa2)] # 날짜 칼럼 생성\n",
    "\n",
    "mp12 = {'날짜':date_col2,\n",
    "      '종목명':종목명2,\n",
    "      '종목코드':종목코드2,\n",
    "      '비중':list((optsx2 * (1 - Wstk[0])).round(3)),\n",
    "      '현재가':현재가2,\n",
    "      '한계리스크':MRC2.round(3),\n",
    "      '절대리스크':ARC2.round(3),\n",
    "      '상대리스크비중':PRC2.round(3),\n",
    "      'MVO':(front2 * 100).round(3)}\n",
    "df12 = pd.DataFrame(mp12,columns = ['날짜','종목명','종목코드','비중','현재가','한계리스크','절대리스크','상대리스크비중','MVO'])\n",
    "df11 = pd.concat([df11,df12],axis=0,ignore_index=True)\n",
    "print(df11)\n",
    "df11.to_csv('RB_model_portfolio_'+current_dt+'_1.csv', index=None)"
   ]
  },
  {
   "cell_type": "code",
   "execution_count": 0,
   "metadata": {
    "colab": {},
    "colab_type": "code",
    "id": "mXH6VdNuol7z"
   },
   "outputs": [],
   "source": [
    "mp22 = {'날짜':date_col2,\n",
    "      '종목명':종목명2,\n",
    "      '종목코드':종목코드2,\n",
    "      '비중':list((optsx2 * (1 - Wstk[1])).round(3)),\n",
    "      '현재가':현재가2,\n",
    "      '한계리스크':MRC2.round(3),\n",
    "      '절대리스크':ARC2.round(3),\n",
    "      '상대리스크비중':PRC2.round(3),\n",
    "      'MVO':(front2 * 100).round(3)}\n",
    "df22 = pd.DataFrame(mp22,columns = ['날짜','종목명','종목코드','비중','현재가','한계리스크','절대리스크','상대리스크비중','MVO'])\n",
    "df21 = pd.concat([df21,df22],axis=0,ignore_index=True) \n",
    "print(df21)\n",
    "df21.to_csv('RB_model_portfolio_'+current_dt+'_2.csv', index=None)"
   ]
  },
  {
   "cell_type": "code",
   "execution_count": 0,
   "metadata": {
    "colab": {},
    "colab_type": "code",
    "id": "OUd5ahgBoibB"
   },
   "outputs": [],
   "source": [
    "mp32 = {'날짜':date_col2,\n",
    "      '종목명':종목명2,\n",
    "      '종목코드':종목코드2,\n",
    "      '비중':list((optsx2 * (1 - Wstk[2])).round(3)),\n",
    "      '현재가':현재가2,\n",
    "      '한계리스크':MRC2.round(3),\n",
    "      '절대리스크':ARC2.round(3),\n",
    "      '상대리스크비중':PRC2.round(3),\n",
    "      'MVO':(front2 * 100).round(3)}\n",
    "df32 = pd.DataFrame(mp32,columns = ['날짜','종목명','종목코드','비중','현재가','한계리스크','절대리스크','상대리스크비중','MVO'])\n",
    "df31 = pd.concat([df31,df32],axis=0,ignore_index=True) \n",
    "print(df31)\n",
    "df31.to_csv('RB_model_portfolio_'+current_dt+'_3.csv', index=None)"
   ]
  },
  {
   "cell_type": "code",
   "execution_count": 0,
   "metadata": {
    "colab": {},
    "colab_type": "code",
    "id": "BQdMwuzFNT5T"
   },
   "outputs": [],
   "source": []
  }
 ],
 "metadata": {
  "colab": {
   "name": "RB모델_투자자성향별_포트_산출.ipynb",
   "provenance": [],
   "toc_visible": true
  },
  "kernelspec": {
   "display_name": "Python [default]",
   "language": "python",
   "name": "python3"
  },
  "language_info": {
   "codemirror_mode": {
    "name": "ipython",
    "version": 3
   },
   "file_extension": ".py",
   "mimetype": "text/x-python",
   "name": "python",
   "nbconvert_exporter": "python",
   "pygments_lexer": "ipython3",
   "version": "3.5.4"
  }
 },
 "nbformat": 4,
 "nbformat_minor": 1
}
