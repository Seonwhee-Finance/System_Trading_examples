{
 "cells": [
  {
   "cell_type": "markdown",
   "metadata": {
    "colab_type": "text",
    "id": "q8PPpRZQtEkz"
   },
   "source": [
    "# 위험 균등(Risk Parity) 모형 포트폴리오 산출 기본"
   ]
  },
  {
   "cell_type": "code",
   "execution_count": 1,
   "metadata": {
    "colab": {},
    "colab_type": "code",
    "id": "CzpNWmy8pZUd"
   },
   "outputs": [],
   "source": [
    "import numpy as np\n",
    "import pandas as pd\n",
    "import scipy.optimize as sco\n",
    "import datetime as dt\n",
    "from datetime import timedelta\n",
    "from pylab import *"
   ]
  },
  {
   "cell_type": "markdown",
   "metadata": {
    "colab_type": "text",
    "id": "czI5RoMctOZP"
   },
   "source": [
    "# 예스트레이더 출력 결과물을 Pandas 형태로 포맷 변환"
   ]
  },
  {
   "cell_type": "code",
   "execution_count": 2,
   "metadata": {
    "colab": {},
    "colab_type": "code",
    "id": "jF4D8enNmNRg"
   },
   "outputs": [],
   "source": [
    "# 예스트레이더 종목검색 결과를 날짜 기준으로 포맷팅\n",
    "def convert_yes_price_file(gubun):\n",
    "    # 우리나라 시간 = 그리니치 표준시 + 9시\n",
    "    file_dt = (dt.datetime.now() + dt.timedelta(hours=9)).strftime('%Y%m%d')\n",
    "\n",
    "    yes_price_file = pd.DataFrame()\n",
    "    # 예스트레이더 출력용 지표식과 칼럼수 일치시켜야 함.\n",
    "    yes_price_file = pd.read_csv('yes_stock_price_' + file_dt + '.csv',encoding= 'euc-kr',\n",
    "                           names = ['날짜1','종목명','종목코드','날짜','시가','고가','저가','종가','거래량',\n",
    "                                    '단기이평','중기이평','장기이평','지수단기이평','지수중기이평','지수장기이평',\n",
    "                                    'MACD','MACD_OSC','ATR','CCI','StoK','StoD','TRIX','이격도'],\n",
    "                           index_col= 1, header=None, dtype={'종목코드':str})\n",
    "\n",
    "    종목명 = yes_price_file.index.unique()\n",
    "    종목코드 = yes_price_file['종목코드'].unique()  # 종목코드 사용할 경우를 위해 별도 저장\n",
    "    df1 = {'종목명':종목명,\n",
    "           '종목코드':종목코드}\n",
    "    df1 = pd.DataFrame(df1)\n",
    "    df1.to_csv('symbol_cd.csv')\n",
    "\n",
    "    cls_p_data = pd.DataFrame()\n",
    "    vol_data = pd.DataFrame()\n",
    "    if gubun == 1:\n",
    "        hi_p_data = pd.DataFrame()\n",
    "        lo_p_data = pd.DataFrame()\n",
    "        sma_data = pd.DataFrame()\n",
    "        mma_data = pd.DataFrame()\n",
    "        lma_data = pd.DataFrame()\n",
    "        sema_data = pd.DataFrame()\n",
    "        mema_data = pd.DataFrame()\n",
    "        lema_data = pd.DataFrame()\n",
    "        macd_data = pd.DataFrame()\n",
    "        macdo_data = pd.DataFrame()\n",
    "        atr_data = pd.DataFrame()\n",
    "        cci_data = pd.DataFrame()\n",
    "        stok_data = pd.DataFrame()\n",
    "        stod_data = pd.DataFrame()\n",
    "        trix_data = pd.DataFrame()\n",
    "        dis_data = pd.DataFrame()\n",
    "\n",
    "    for i in range(len(종목명)):\n",
    "        cls_p = yes_price_file.loc[종목명[i],['날짜','종가']]\n",
    "        cls_p.set_index(['날짜'],inplace=True)\n",
    "        cls_p_data = pd.concat([cls_p_data,cls_p],axis=1) \n",
    "\n",
    "        vol = yes_price_file.loc[종목명[i],['날짜','거래량']]\n",
    "        vol.set_index(['날짜'],inplace=True)\n",
    "        vol_data = pd.concat([vol_data,vol],axis=1) \n",
    "\n",
    "        if gubun == 1:\n",
    "            hi_p = yes_price_file.loc[종목명[i],['날짜','고가']]\n",
    "            hi_p.set_index(['날짜'],inplace=True)\n",
    "            hi_p_data = pd.concat([hi_p_data,hi_p],axis=1) \n",
    "\n",
    "            lo_p = yes_price_file.loc[종목명[i],['날짜','저가']]\n",
    "            lo_p.set_index(['날짜'],inplace=True)\n",
    "            lo_p_data = pd.concat([lo_p_data,lo_p],axis=1) \n",
    "\n",
    "            sma = yes_price_file.loc[종목명[i],['날짜','단기이평']]\n",
    "            sma.set_index(['날짜'],inplace=True)\n",
    "            sma_data = pd.concat([sma_data,sma],axis=1) \n",
    "\n",
    "            mma = yes_price_file.loc[종목명[i],['날짜','중기이평']]\n",
    "            mma.set_index(['날짜'],inplace=True)\n",
    "            mma_data = pd.concat([mma_data,mma],axis=1) \n",
    "\n",
    "            lma = yes_price_file.loc[종목명[i],['날짜','장기이평']]\n",
    "            lma.set_index(['날짜'],inplace=True)\n",
    "            lma_data = pd.concat([lma_data,lma],axis=1) \n",
    "\n",
    "            atr = yes_price_file.loc[종목명[i],['날짜','ATR']]\n",
    "            atr.set_index(['날짜'],inplace=True)\n",
    "            atr_data = pd.concat([atr_data,atr],axis=1) \n",
    "\n",
    "    cls_p_data.columns = 종목명\n",
    "    print('\\n 종가데이터 \\n', cls_p_data.head())\n",
    "    cls_p_data.to_csv('cls_p_data.csv')\n",
    "\n",
    "    vol_data.columns = 종목명\n",
    "    print('\\n 거래량 \\n', vol_data.head())\n",
    "    vol_data.to_csv('volume_data.csv')\n",
    "\n",
    "    if gubun == 1:\n",
    "        hi_p_data.columns = 종목명\n",
    "        print('\\n 고가데이터 \\n', hi_p_data.head())\n",
    "        hi_p_data.to_csv('hi_p_data.csv')\n",
    "\n",
    "        lo_p_data.columns = 종목명\n",
    "        print('\\n 저가데이터 \\n', lo_p_data.head())\n",
    "        lo_p_data.to_csv('lo_p_data.csv')\n",
    "\n",
    "        sma_data.columns = 종목명\n",
    "        print('\\n 단기이평 \\n', sma_data.head())\n",
    "        sma_data.to_csv('sma_data.csv')\n",
    "\n",
    "        mma_data.columns = 종목명\n",
    "        print('\\n 중기이평 \\n', mma_data.head())\n",
    "        mma_data.to_csv('mma_data.csv')\n",
    "\n",
    "        lma_data.columns = 종목명\n",
    "        print('\\n 장기이평 \\n', lma_data.head())\n",
    "        lma_data.to_csv('lma_data.csv')\n",
    "\n",
    "        atr_data.columns = 종목명\n",
    "        print('\\n ATR \\n', atr_data.head())\n",
    "        atr_data.to_csv('atr_data.csv')"
   ]
  },
  {
   "cell_type": "code",
   "execution_count": 3,
   "metadata": {
    "colab": {},
    "colab_type": "code",
    "id": "usWg3_VwFwjH"
   },
   "outputs": [
    {
     "name": "stdout",
     "output_type": "stream",
     "text": [
      "\n",
      " 종가데이터 \n",
      " 종목명          나노메딕스     필룩스     부산산업   카리스국보    동성제약  에이프로젠 KIC   엔케이물산  \\\n",
      "날짜                                                                       \n",
      "20151021.0  2585.0  2233.0  32200.0  1508.0  5260.0     3085.0  1226.0   \n",
      "20151022.0  2560.0  2180.0  31650.0  1546.0  5140.0     3045.0  1193.0   \n",
      "20151023.0  2650.0  2228.0  31900.0  1496.0  5100.0     3060.0  1217.0   \n",
      "20151026.0  2560.0  2233.0  33600.0  1442.0  5110.0     3105.0  1197.0   \n",
      "20151027.0  3100.0  2233.0  33350.0  1521.0  5160.0     3030.0  1209.0   \n",
      "\n",
      "종목명          웰바이오텍    일신석재     남광토건    삼일제약    인스코비    인디에프       조비   대호에이엘  \\\n",
      "날짜                                                                             \n",
      "20151021.0  2675.0  1430.0  11050.0  6790.0  1450.0  2420.0  13550.0  1202.0   \n",
      "20151022.0  2485.0  1340.0  10800.0  6675.0  1395.0  2625.0  13100.0  1159.0   \n",
      "20151023.0  2590.0  1365.0  11300.0  6733.0  1375.0  2600.0  13600.0  1175.0   \n",
      "20151026.0  2690.0  1330.0  11150.0  6733.0  1420.0  2660.0  13350.0  1205.0   \n",
      "20151027.0  2730.0  1355.0  10950.0  6685.0  1390.0  2705.0  13150.0  1202.0   \n",
      "\n",
      "종목명            파미셀    동양철관  동양네트웍스    일성건설  \n",
      "날짜                                          \n",
      "20151021.0  5150.0  1212.0  2293.0  1165.0  \n",
      "20151022.0  5070.0  1162.0  2293.0  1125.0  \n",
      "20151023.0  5130.0  1226.0  2370.0  1140.0  \n",
      "20151026.0  5200.0  1199.0  2331.0  1155.0  \n",
      "20151027.0  5150.0  1244.0  2225.0  1240.0  \n",
      "\n",
      " 거래량 \n",
      " 종목명             나노메딕스       필룩스     부산산업     카리스국보      동성제약  에이프로젠 KIC  \\\n",
      "날짜                                                                        \n",
      "20151021.0   361653.0  236541.0   6717.0   20918.0  114463.0    45743.0   \n",
      "20151022.0   428860.0  122246.0  10386.0  165770.0   88994.0    47027.0   \n",
      "20151023.0   276305.0   64824.0   5114.0   18547.0   77402.0   118390.0   \n",
      "20151026.0   326127.0   76391.0  21006.0   14889.0   62771.0   104323.0   \n",
      "20151027.0  2791752.0   69859.0   6601.0   17846.0   49176.0    76860.0   \n",
      "\n",
      "종목명             엔케이물산     웰바이오텍       일신석재       남광토건     삼일제약       인스코비  \\\n",
      "날짜                                                                          \n",
      "20151021.0  1918777.0  573100.0  5393439.0  1294705.0   9390.0  1274152.0   \n",
      "20151022.0  1709717.0  400241.0  3597828.0   451290.0   9676.0   506511.0   \n",
      "20151023.0  1572504.0  267262.0  2415893.0   451061.0  26988.0   397284.0   \n",
      "20151026.0  1010019.0  332467.0  1974564.0   446795.0  24682.0   526960.0   \n",
      "20151027.0  1023561.0  544441.0  2477618.0   601643.0   9514.0   429228.0   \n",
      "\n",
      "종목명              인디에프       조비      대호에이엘        파미셀       동양철관     동양네트웍스  \\\n",
      "날짜                                                                           \n",
      "20151021.0   189233.0  32265.0   344925.0  1475016.0  3414143.0   924240.0   \n",
      "20151022.0  4335967.0  19616.0   336876.0   906166.0  6647553.0  1570007.0   \n",
      "20151023.0   591937.0  19183.0   184934.0  1574477.0  3861613.0  3951679.0   \n",
      "20151026.0   466634.0  10078.0  1163199.0  1070309.0  1967717.0   756456.0   \n",
      "20151027.0   486787.0  15923.0   259315.0   814631.0  3906788.0   703124.0   \n",
      "\n",
      "종목명            일성건설  \n",
      "날짜                   \n",
      "20151021.0   7265.0  \n",
      "20151022.0  12545.0  \n",
      "20151023.0   4767.0  \n",
      "20151026.0   7199.0  \n",
      "20151027.0  49609.0  \n"
     ]
    }
   ],
   "source": [
    "gubun = 0 # 지표 파일을 만들려면 1로, 안 만들여면 0\n",
    "convert_yes_price_file(gubun)  "
   ]
  },
  {
   "cell_type": "markdown",
   "metadata": {
    "colab_type": "text",
    "id": "L1Bf2OfQt4tl"
   },
   "source": [
    "# 사용자 함수 선언"
   ]
  },
  {
   "cell_type": "code",
   "execution_count": 4,
   "metadata": {
    "colab": {},
    "colab_type": "code",
    "id": "fcIlAbmOqs3l"
   },
   "outputs": [],
   "source": [
    "def statistics(w,r,c):\n",
    "    '''포트폴리오 총계치 출력\n",
    "    인수\n",
    "    =====\n",
    "    w : array-like  포트폴리오 내의 비중\n",
    "    \n",
    "    반환값\n",
    "    ======\n",
    "    portfolio_return     : float 포트폴리오 수익률 기댓값\n",
    "    portfolio_volatility : float 포트폴리오 변동성 기댓값\n",
    "    sharpe_ratio         : float 무위험 이자율이 0일 때의 샤프 지수\n",
    "    '''\n",
    "    w = np.array(w)\n",
    "    portfolio_return = np.sum(r * w)\n",
    "    portfolio_volatility = np.sqrt(np.dot(w.T,np.dot(c, w)))\n",
    "    sharp_ratio = portfolio_return / portfolio_volatility\n",
    "    return np.array([portfolio_return, portfolio_volatility, sharp_ratio])"
   ]
  },
  {
   "cell_type": "code",
   "execution_count": 5,
   "metadata": {
    "colab": {},
    "colab_type": "code",
    "id": "X3dBDOvaqyub"
   },
   "outputs": [],
   "source": [
    "def risk_contribution(w,r,c):\n",
    "    '''\n",
    "    E(rp) = w'μ          : 포트폴리오 기대수익률\n",
    "    σp orσ(w) = √(w'Ωw) : 포트폴리오 표준편차\n",
    "    where w:= 구성종목 비중vector\n",
    "          μ:= 자산별 기대수익률 vector\n",
    "          Ω:= 공분산행렬\n",
    "    Marginal Contribution to Risk of asset i(한계 리스크 기여도)\n",
    "    MCRi = ∂σ(w)/∂wi = Δσ(w)/Δwi = 1/σ(w) * Σwi*cov(ri,rj) = Ωw/√(w'Ωw)\n",
    "    := i번째 자산군 투자비중 변화에 대한 포트폴리오 전체 위험의 변화 정도\n",
    "    Absolute Contribution to Risk of asset i(절대 리스크 기여도) 자산의 표준편차 값\n",
    "    ACRi = wi*MCRi\n",
    "    Percent Contribution to Risk of asset i(상대 리스크 기여도) 전체 중에 얼마인지 퍼센트로 표시한 것\n",
    "    PCRi = ACRi/σ(w)\n",
    "    '''\n",
    "    sigma = statistics(w,r,c)[1]\n",
    "    mcr = np.dot(c, w) / sigma\n",
    "    acr = w * mcr\n",
    "    pcr = acr / sigma\n",
    "    return mcr, acr, pcr"
   ]
  },
  {
   "cell_type": "code",
   "execution_count": 6,
   "metadata": {
    "colab": {},
    "colab_type": "code",
    "id": "yQIptMXXq1nh"
   },
   "outputs": [],
   "source": [
    "def risk_parity_objective(w,r,c):\n",
    "    sigma = statistics(w,r,c)[1]\n",
    "    mcr = np.dot(c, w) / sigma\n",
    "    return np.sum(np.square((sigma / noa) - (w * mcr)))"
   ]
  },
  {
   "cell_type": "code",
   "execution_count": 7,
   "metadata": {
    "colab": {},
    "colab_type": "code",
    "id": "6Spiq2i0q3_j"
   },
   "outputs": [],
   "source": [
    "def min_func_sharpe(w,r,c):\n",
    "# 최소화문제에서 샤프지수 최대값을 찾으려면 샤프지수의 음수 값을 최소화하면 된다.\n",
    "    return -statistics(w,r,c)[2]  # 위에서 만든 statistics의 3번째 값이 샤프지수"
   ]
  },
  {
   "cell_type": "code",
   "execution_count": 8,
   "metadata": {
    "colab": {},
    "colab_type": "code",
    "id": "6PN_FMsKq4to"
   },
   "outputs": [],
   "source": [
    "def min_func_variance(w,r,c):\n",
    "# 분산 최소화 함수\n",
    "    return statistics(w,r,c)[1]**2"
   ]
  },
  {
   "cell_type": "code",
   "execution_count": 9,
   "metadata": {
    "colab": {},
    "colab_type": "code",
    "id": "ktxB3JHvTk4r"
   },
   "outputs": [],
   "source": [
    "def solve_frontier(r,c):\n",
    "    def min_func_port(w,r,c):\n",
    "        return statistics(w,r,c)[1]  # 두번째 값 변동성의 최소화\n",
    "    def port_return(w):\n",
    "        return np.sum(r * w)\n",
    "    mean, vol = [], []\n",
    "    for t in np.linspace(min(r), max(r), num=50): # Iterate through the range of returns on Y axis\n",
    "        # 제약조건\n",
    "        cons = ({'type': 'eq', 'fun': lambda x:  port_return(x) - t},\n",
    "                {'type': 'eq', 'fun': lambda x:  np.sum(x) - 1})\n",
    "        # 범위값\n",
    "        bnds = tuple((0, 1) for x in range(noa))\n",
    "        opts = sco.minimize(min_func_port, noa * [1. / noa, ],(r,c), method='SLSQP', constraints=cons, bounds=bnds)\n",
    "        if not opts.success:\n",
    "            raise BaseException(opts.message)\n",
    "        # add point to the min-var frontier [x,y] = [opts.x, t]\n",
    "        mean.append(t)                                                 # return\n",
    "        vol.append(statistics(opts['x'],r,c)[1])   # min-variance based on optimized weights\n",
    "\n",
    "    return array(mean), array(vol)"
   ]
  },
  {
   "cell_type": "code",
   "execution_count": 10,
   "metadata": {
    "colab": {},
    "colab_type": "code",
    "id": "YfK6eMVXToGd"
   },
   "outputs": [],
   "source": [
    "def display_Efficient_frontier(r,c):\n",
    "    mean, vol = solve_frontier(r,c)\n",
    "    plot(vol, mean, color='black'), grid(True)  # draw efficient frontier"
   ]
  },
  {
   "cell_type": "markdown",
   "metadata": {
    "colab_type": "text",
    "id": "2jO-bgy5te0y"
   },
   "source": [
    "# Main"
   ]
  },
  {
   "cell_type": "code",
   "execution_count": 11,
   "metadata": {
    "colab": {},
    "colab_type": "code",
    "id": "tUl49bFWF1My"
   },
   "outputs": [
    {
     "name": "stdout",
     "output_type": "stream",
     "text": [
      "\n",
      " >> 종목명 : Index(['나노메딕스', '필룩스', '부산산업', '카리스국보', '동성제약', '에이프로젠 KIC', '엔케이물산', '웰바이오텍',\n",
      "       '일신석재', '남광토건', '삼일제약', '인스코비', '인디에프', '조비', '대호에이엘', '파미셀', '동양철관',\n",
      "       '동양네트웍스', '일성건설'],\n",
      "      dtype='object')\n"
     ]
    }
   ],
   "source": [
    "공분산_산출기간 = 500  # 시뮬레이터를 통해 최적 값 찾을 것\n",
    "\n",
    "raw_data = pd.read_csv('cls_p_data.csv',index_col=['날짜'], parse_dates=['날짜'])\n",
    "종목명 = raw_data.columns\n",
    "print('\\n >> 종목명 :', 종목명)"
   ]
  },
  {
   "cell_type": "code",
   "execution_count": 12,
   "metadata": {
    "colab": {},
    "colab_type": "code",
    "id": "2LiiUixjF6Dk"
   },
   "outputs": [
    {
     "name": "stdout",
     "output_type": "stream",
     "text": [
      "\n",
      " >> 종목코드 : 0     074610\n",
      "1     033180\n",
      "2     011390\n",
      "3     001140\n",
      "4     002210\n",
      "5     007460\n",
      "6     009810\n",
      "7     010600\n",
      "8     007110\n",
      "9     001260\n",
      "10    000520\n",
      "11    006490\n",
      "12    014990\n",
      "13    001550\n",
      "14    069460\n",
      "15    005690\n",
      "16    008970\n",
      "17    030790\n",
      "18    013360\n",
      "Name: 종목코드, dtype: object\n"
     ]
    }
   ],
   "source": [
    "noa = len(종목명) # 자산수\n",
    "\n",
    "symbol_data = pd.read_csv('symbol_cd.csv',index_col=None,dtype={'종목코드':str})\n",
    "종목코드 = symbol_data['종목코드']\n",
    "print('\\n >> 종목코드 :', 종목코드)"
   ]
  },
  {
   "cell_type": "code",
   "execution_count": 13,
   "metadata": {
    "colab": {},
    "colab_type": "code",
    "id": "3oKQee0rF-bQ"
   },
   "outputs": [
    {
     "name": "stdout",
     "output_type": "stream",
     "text": [
      "\n",
      " >> 현재가 : [9900.0, 9890.0, 171500.0, 3655.0, 17900.0, 2200.0, 755.0, 2500.0, 3005.0, 12750.0, 21500.0, 3295.0, 3070.0, 18150.0, 5210.0, 8220.0, 1150.0, 594.0, 1385.0]\n",
      "               나노메딕스       필룩스      부산산업     카리스국보      동성제약  에이프로젠 KIC  \\\n",
      "날짜                                                                        \n",
      "20171103.0       NaN       NaN       NaN       NaN       NaN        NaN   \n",
      "20171106.0 -0.025508 -0.001761 -0.013226 -0.002020  0.043430  -0.027337   \n",
      "20171107.0  0.004549 -0.008496 -0.005935 -0.009142  0.001249  -0.009281   \n",
      "20171108.0  0.006033 -0.008568  0.005935 -0.010257  0.013639   0.011588   \n",
      "20171109.0  0.120286 -0.010452 -0.005935  0.000000  0.012240   0.092373   \n",
      "\n",
      "               엔케이물산     웰바이오텍      일신석재      남광토건      삼일제약      인스코비  \\\n",
      "날짜                                                                       \n",
      "20171103.0       NaN       NaN       NaN       NaN       NaN       NaN   \n",
      "20171106.0  0.000000  0.025243 -0.007813  0.001496  0.001228 -0.012780   \n",
      "20171107.0 -0.009337  0.054222  0.000000  0.008929  0.000000  0.003210   \n",
      "20171108.0 -0.003759  0.054067  0.007813 -0.016431  0.013003  0.012739   \n",
      "20171109.0  0.011236  0.002628  0.000000 -0.013647  0.050257  0.000000   \n",
      "\n",
      "                인디에프        조비     대호에이엘       파미셀      동양철관    동양네트웍스  \\\n",
      "날짜                                                                       \n",
      "20171103.0       NaN       NaN       NaN       NaN       NaN       NaN   \n",
      "20171106.0 -0.028749  0.045746  0.004036  0.004673 -0.021327 -0.043621   \n",
      "20171107.0  0.008299 -0.016394  0.011017  0.000000  0.008399 -0.062418   \n",
      "20171108.0 -0.016667  0.024491  0.015811  0.029853 -0.004658 -0.038001   \n",
      "20171109.0 -0.008439 -0.004040 -0.015811  0.038829  0.000000  0.024349   \n",
      "\n",
      "                일성건설  \n",
      "날짜                    \n",
      "20171103.0       NaN  \n",
      "20171106.0 -0.018349  \n",
      "20171107.0  0.009217  \n",
      "20171108.0 -0.037388  \n",
      "20171109.0  0.018868  \n"
     ]
    }
   ],
   "source": [
    "work_data = raw_data.iloc[-공분산_산출기간:]\n",
    "현재가 = list(raw_data.iloc[-1])\n",
    "print('\\n >> 현재가 :', 현재가)\n",
    "로그수익률 = np.log(work_data / work_data.shift(1))\n",
    "print(로그수익률.head())"
   ]
  },
  {
   "cell_type": "code",
   "execution_count": 14,
   "metadata": {
    "colab": {},
    "colab_type": "code",
    "id": "Jd5f9PDDGFnq"
   },
   "outputs": [
    {
     "name": "stdout",
     "output_type": "stream",
     "text": [
      "나노메딕스        0.543461\n",
      "필룩스          0.629756\n",
      "부산산업         0.813519\n",
      "카리스국보        0.659107\n",
      "동성제약         0.778693\n",
      "에이프로젠 KIC   -0.005706\n",
      "엔케이물산        0.171127\n",
      "웰바이오텍       -0.144018\n",
      "일신석재         0.429016\n",
      "남광토건         0.326445\n",
      "삼일제약         0.543706\n",
      "인스코비         0.372774\n",
      "인디에프         0.459865\n",
      "조비           0.219587\n",
      "대호에이엘        0.839145\n",
      "파미셀          0.330760\n",
      "동양철관         0.027061\n",
      "동양네트웍스      -0.512874\n",
      "일성건설         0.116349\n",
      "dtype: float64\n",
      "              나노메딕스       필룩스      부산산업     카리스국보      동성제약  에이프로젠 KIC  \\\n",
      "나노메딕스      1.041032  0.144542  0.026471  0.025085  0.155194   0.100015   \n",
      "필룩스        0.144542  0.969997  0.038138  0.007118  0.137566   0.118202   \n",
      "부산산업       0.026471  0.038138  0.919179  0.251895 -0.030373   0.011978   \n",
      "카리스국보      0.025085  0.007118  0.251895  0.891146 -0.029217   0.016318   \n",
      "동성제약       0.155194  0.137566 -0.030373 -0.029217  0.823501   0.167480   \n",
      "에이프로젠 KIC  0.100015  0.118202  0.011978  0.016318  0.167480   0.806656   \n",
      "엔케이물산      0.078689  0.010688  0.151384  0.145457 -0.006650  -0.012235   \n",
      "웰바이오텍      0.074819 -0.006179 -0.046973  0.031476  0.003666   0.074715   \n",
      "일신석재       0.076416  0.097333  0.464088  0.261500 -0.000092   0.048541   \n",
      "남광토건       0.045951  0.083903  0.388177  0.220863  0.042496   0.036640   \n",
      "삼일제약       0.173770  0.132069 -0.020898  0.025951  0.261328   0.114999   \n",
      "인스코비       0.086750  0.150674  0.045100  0.020781  0.110774   0.089725   \n",
      "인디에프       0.053878  0.054116  0.352237  0.179229  0.042415   0.028449   \n",
      "조비         0.015223  0.071924  0.423873  0.233258 -0.011143   0.031815   \n",
      "대호에이엘      0.014564 -0.010398  0.389085  0.146202 -0.051088  -0.018806   \n",
      "파미셀        0.173868  0.195071 -0.008626  0.010918  0.207488   0.138406   \n",
      "동양철관       0.049387  0.059003  0.449738  0.277937 -0.022604   0.015585   \n",
      "동양네트웍스     0.110764  0.068200  0.061279  0.000090  0.096221   0.079040   \n",
      "일성건설       0.071083  0.096538  0.322260  0.220268 -0.001522   0.060056   \n",
      "\n",
      "              엔케이물산     웰바이오텍      일신석재      남광토건      삼일제약      인스코비  \\\n",
      "나노메딕스      0.078689  0.074819  0.076416  0.045951  0.173770  0.086750   \n",
      "필룩스        0.010688 -0.006179  0.097333  0.083903  0.132069  0.150674   \n",
      "부산산업       0.151384 -0.046973  0.464088  0.388177 -0.020898  0.045100   \n",
      "카리스국보      0.145457  0.031476  0.261500  0.220863  0.025951  0.020781   \n",
      "동성제약      -0.006650  0.003666 -0.000092  0.042496  0.261328  0.110774   \n",
      "에이프로젠 KIC -0.012235  0.074715  0.048541  0.036640  0.114999  0.089725   \n",
      "엔케이물산      0.797246  0.030932  0.121503  0.103532 -0.003671 -0.001728   \n",
      "웰바이오텍      0.030932  0.773197 -0.049249 -0.070103  0.026377  0.044998   \n",
      "일신석재       0.121503 -0.049249  0.733206  0.477311  0.011951  0.092151   \n",
      "남광토건       0.103532 -0.070103  0.477311  0.721404 -0.018696  0.112036   \n",
      "삼일제약      -0.003671  0.026377  0.011951 -0.018696  0.724652  0.175538   \n",
      "인스코비      -0.001728  0.044998  0.092151  0.112036  0.175538  0.715105   \n",
      "인디에프       0.089632 -0.024049  0.459832  0.404259  0.072725  0.101687   \n",
      "조비         0.172364 -0.056229  0.452179  0.402741  0.009953  0.071412   \n",
      "대호에이엘      0.023898 -0.032722  0.272825  0.309117 -0.078872  0.013702   \n",
      "파미셀       -0.014259  0.037284 -0.004433  0.043261  0.208318  0.227699   \n",
      "동양철관       0.119877  0.016571  0.448651  0.413671 -0.018271  0.078100   \n",
      "동양네트웍스     0.045449  0.058233  0.040812  0.019895  0.139157  0.110595   \n",
      "일성건설       0.127756 -0.058079  0.527934  0.428866  0.016745  0.083078   \n",
      "\n",
      "               인디에프        조비     대호에이엘       파미셀      동양철관    동양네트웍스  \\\n",
      "나노메딕스      0.053878  0.015223  0.014564  0.173868  0.049387  0.110764   \n",
      "필룩스        0.054116  0.071924 -0.010398  0.195071  0.059003  0.068200   \n",
      "부산산업       0.352237  0.423873  0.389085 -0.008626  0.449738  0.061279   \n",
      "카리스국보      0.179229  0.233258  0.146202  0.010918  0.277937  0.000090   \n",
      "동성제약       0.042415 -0.011143 -0.051088  0.207488 -0.022604  0.096221   \n",
      "에이프로젠 KIC  0.028449  0.031815 -0.018806  0.138406  0.015585  0.079040   \n",
      "엔케이물산      0.089632  0.172364  0.023898 -0.014259  0.119877  0.045449   \n",
      "웰바이오텍     -0.024049 -0.056229 -0.032722  0.037284  0.016571  0.058233   \n",
      "일신석재       0.459832  0.452179  0.272825 -0.004433  0.448651  0.040812   \n",
      "남광토건       0.404259  0.402741  0.309117  0.043261  0.413671  0.019895   \n",
      "삼일제약       0.072725  0.009953 -0.078872  0.208318 -0.018271  0.139157   \n",
      "인스코비       0.101687  0.071412  0.013702  0.227699  0.078100  0.110595   \n",
      "인디에프       0.699340  0.385569  0.286072  0.052780  0.369468  0.062857   \n",
      "조비         0.385569  0.688555  0.274756  0.044042  0.417391  0.038884   \n",
      "대호에이엘      0.286072  0.274756  0.693840 -0.012292  0.375463  0.014406   \n",
      "파미셀        0.052780  0.044042 -0.012292  0.658373  0.032235  0.115447   \n",
      "동양철관       0.369468  0.417391  0.375463  0.032235  0.649547  0.061223   \n",
      "동양네트웍스     0.062857  0.038884  0.014406  0.115447  0.061223  0.656571   \n",
      "일성건설       0.360319  0.386082  0.228198 -0.013821  0.358723  0.037348   \n",
      "\n",
      "               일성건설  \n",
      "나노메딕스      0.071083  \n",
      "필룩스        0.096538  \n",
      "부산산업       0.322260  \n",
      "카리스국보      0.220268  \n",
      "동성제약      -0.001522  \n",
      "에이프로젠 KIC  0.060056  \n",
      "엔케이물산      0.127756  \n",
      "웰바이오텍     -0.058079  \n",
      "일신석재       0.527934  \n",
      "남광토건       0.428866  \n",
      "삼일제약       0.016745  \n",
      "인스코비       0.083078  \n",
      "인디에프       0.360319  \n",
      "조비         0.386082  \n",
      "대호에이엘      0.228198  \n",
      "파미셀       -0.013821  \n",
      "동양철관       0.358723  \n",
      "동양네트웍스     0.037348  \n",
      "일성건설       0.642320  \n",
      "     fun: 3.5448932495132973e-07\n",
      "     jac: array([ -1.03143103e-04,  -7.88564987e-05,   9.67172556e-06,\n",
      "        -2.34381362e-05,  -7.75652789e-05,   6.89287181e-05,\n",
      "         1.29628265e-04,  -3.64662215e-04,   1.99183935e-04,\n",
      "         1.50249106e-04,  -7.27923909e-05,  -1.16150393e-05,\n",
      "         1.32355665e-04,   5.92477511e-05,   1.66621609e-04,\n",
      "        -6.51841945e-05,   7.05935596e-05,   1.09612422e-04,\n",
      "         8.33782141e-05])\n",
      " message: 'Optimization terminated successfully.'\n",
      "    nfev: 126\n",
      "     nit: 6\n",
      "    njev: 6\n",
      "  status: 0\n",
      " success: True\n",
      "       x: array([ 0.05039918,  0.05389107,  0.03867529,  0.05093392,  0.06091959,\n",
      "        0.06198585,  0.06634496,  0.08749364,  0.03609405,  0.03908549,\n",
      "        0.05984484,  0.0554259 ,  0.03947277,  0.03971057,  0.05713979,\n",
      "        0.05750103,  0.03814344,  0.06545889,  0.04147974])\n",
      "\n",
      " >> 비중 : [ 5.04   5.389  3.868  5.093  6.092  6.199  6.634  8.749  3.609  3.909\n",
      "  5.984  5.543  3.947  3.971  5.714  5.75   3.814  6.546  4.148]\n"
     ]
    }
   ],
   "source": [
    "R = 로그수익률.mean() * 252 # 연수익률\n",
    "print(R)\n",
    "\n",
    "C = 로그수익률.cov() * 252  # 공분산, 표준편차가 아닌 분산이다\n",
    "print(C)  \n",
    "\n",
    "# 제약조건\n",
    "cons = ({'type': 'eq', 'fun': lambda x: np.sum(x) - 1},\n",
    "        {'type': 'ineq', 'fun': lambda x: x})  # 비중이 0인 종목 없음 \n",
    "\n",
    "# 범위값\n",
    "bnds = tuple((0, 1) for x in range(noa))\n",
    "\n",
    "opts = sco.minimize(risk_parity_objective, noa * [1. / noa, ], (R, C), method='SLSQP', bounds=bnds, constraints=cons)\n",
    "print(opts)  # x값이 포트폴리오 비중\n",
    "optsx = (opts['x'] * 100).round(3)  # 샤프지수 최대 포트폴리오 결과값\n",
    "print('\\n >> 비중 :', optsx)"
   ]
  },
  {
   "cell_type": "code",
   "execution_count": 15,
   "metadata": {
    "colab": {},
    "colab_type": "code",
    "id": "O0PZd68aGPly"
   },
   "outputs": [
    {
     "name": "stdout",
     "output_type": "stream",
     "text": [
      "\n",
      ">> 수익률 =  0.32 , 표준편차 =  0.361 , 샤프지수 =  0.886\n",
      "\n",
      ">> 검증 >>\n",
      "MRC= [ 37.515  35.096  48.983  37.202  31.05   30.814  28.855  21.188  52.978\n",
      "  48.82   31.629  34.267  48.329  47.832  33.516  32.934  49.861  29.251\n",
      "  45.856]\n",
      "ARC= [ 1.891  1.891  1.894  1.895  1.892  1.91   1.914  1.854  1.912  1.908\n",
      "  1.893  1.899  1.908  1.899  1.915  1.894  1.902  1.915  1.902]\n",
      "PRC= [ 5.239  5.241  5.249  5.251  5.241  5.293  5.305  5.137  5.299  5.287\n",
      "  5.245  5.263  5.286  5.263  5.307  5.247  5.27   5.306  5.271]\n"
     ]
    }
   ],
   "source": [
    "rc_array = risk_contribution(opts['x'],R,C)\n",
    "MRC = (rc_array[0] * 100).round(3)\n",
    "ARC = (rc_array[1] * 100).round(3)\n",
    "PRC = (rc_array[2] * 100).round(3)\n",
    "\n",
    "stat = statistics(opts['x'],R,C).round(3)  # 샤프지수 최대 포트폴리오의 수익률, 표준편차, 샤프지수\n",
    "print('\\n>> 수익률 = ', stat[0],', 표준편차 = ', stat[1], ', 샤프지수 = ', stat[2])\n",
    "print('\\n>> 검증 >>')\n",
    "print('MRC=', MRC)\n",
    "print('ARC=', ARC)\n",
    "print('PRC=', PRC)"
   ]
  },
  {
   "cell_type": "code",
   "execution_count": 16,
   "metadata": {
    "colab": {},
    "colab_type": "code",
    "id": "4EF_IiveTt00"
   },
   "outputs": [
    {
     "data": {
      "image/png": "[encoded data removed]",
      "text/plain": [
       "<matplotlib.figure.Figure at 0x7f38459b9cf8>"
      ]
     },
     "metadata": {},
     "output_type": "display_data"
    },
    {
     "data": {
      "text/html": [
       "<div>\n",
       "<style scoped>\n",
       "    .dataframe tbody tr th:only-of-type {\n",
       "        vertical-align: middle;\n",
       "    }\n",
       "\n",
       "    .dataframe tbody tr th {\n",
       "        vertical-align: top;\n",
       "    }\n",
       "\n",
       "    .dataframe thead th {\n",
       "        text-align: right;\n",
       "    }\n",
       "</style>\n",
       "<table border=\"1\" class=\"dataframe\">\n",
       "  <thead>\n",
       "    <tr style=\"text-align: right;\">\n",
       "      <th></th>\n",
       "      <th>나노메딕스</th>\n",
       "      <th>필룩스</th>\n",
       "      <th>부산산업</th>\n",
       "      <th>카리스국보</th>\n",
       "      <th>동성제약</th>\n",
       "      <th>에이프로젠 KIC</th>\n",
       "      <th>엔케이물산</th>\n",
       "      <th>웰바이오텍</th>\n",
       "      <th>일신석재</th>\n",
       "      <th>남광토건</th>\n",
       "      <th>삼일제약</th>\n",
       "      <th>인스코비</th>\n",
       "      <th>인디에프</th>\n",
       "      <th>조비</th>\n",
       "      <th>대호에이엘</th>\n",
       "      <th>파미셀</th>\n",
       "      <th>동양철관</th>\n",
       "      <th>동양네트웍스</th>\n",
       "      <th>일성건설</th>\n",
       "    </tr>\n",
       "  </thead>\n",
       "  <tbody>\n",
       "    <tr>\n",
       "      <th>비중</th>\n",
       "      <td>0.050399</td>\n",
       "      <td>0.053891</td>\n",
       "      <td>0.038675</td>\n",
       "      <td>0.050934</td>\n",
       "      <td>0.06092</td>\n",
       "      <td>0.061986</td>\n",
       "      <td>0.066345</td>\n",
       "      <td>0.087494</td>\n",
       "      <td>0.036094</td>\n",
       "      <td>0.039085</td>\n",
       "      <td>0.059845</td>\n",
       "      <td>0.055426</td>\n",
       "      <td>0.039473</td>\n",
       "      <td>0.039711</td>\n",
       "      <td>0.05714</td>\n",
       "      <td>0.057501</td>\n",
       "      <td>0.038143</td>\n",
       "      <td>0.065459</td>\n",
       "      <td>0.04148</td>\n",
       "    </tr>\n",
       "  </tbody>\n",
       "</table>\n",
       "</div>"
      ],
      "text/plain": [
       "       나노메딕스       필룩스      부산산업     카리스국보     동성제약  에이프로젠 KIC     엔케이물산  \\\n",
       "비중  0.050399  0.053891  0.038675  0.050934  0.06092   0.061986  0.066345   \n",
       "\n",
       "       웰바이오텍      일신석재      남광토건      삼일제약      인스코비      인디에프        조비  \\\n",
       "비중  0.087494  0.036094  0.039085  0.059845  0.055426  0.039473  0.039711   \n",
       "\n",
       "      대호에이엘       파미셀      동양철관    동양네트웍스     일성건설  \n",
       "비중  0.05714  0.057501  0.038143  0.065459  0.04148  "
      ]
     },
     "metadata": {},
     "output_type": "display_data"
    }
   ],
   "source": [
    "display_Efficient_frontier(R,C)\n",
    "scatter(stat[1], stat[0], marker='o', color='red'), grid(True)\n",
    "xlabel('volatility $\\sigma$'), ylabel('mean $\\mu$'), show()\n",
    "display(pd.DataFrame({'비중': opts['x']}, index=종목명).T)"
   ]
  },
  {
   "cell_type": "code",
   "execution_count": 17,
   "metadata": {
    "colab": {},
    "colab_type": "code",
    "id": "ES5zBATRGJ-Q"
   },
   "outputs": [
    {
     "name": "stdout",
     "output_type": "stream",
     "text": [
      "\n",
      " >> 날짜 열 : ['20191120', '20191120', '20191120', '20191120', '20191120', '20191120', '20191120', '20191120', '20191120', '20191120', '20191120', '20191120', '20191120', '20191120', '20191120', '20191120', '20191120', '20191120', '20191120']\n"
     ]
    }
   ],
   "source": [
    "# 우리나라 시간 = 그리니치 표준시 + 9시\n",
    "current_dt = (dt.datetime.now() + timedelta(hours=9)).strftime('%Y%m%d')\n",
    "date_col = [current_dt for i in range(noa)] # 날짜 칼럼 생성\n",
    "print('\\n >> 날짜 열 :', date_col)"
   ]
  },
  {
   "cell_type": "code",
   "execution_count": 18,
   "metadata": {
    "colab": {},
    "colab_type": "code",
    "id": "ZTqUF6Ngp3d5"
   },
   "outputs": [
    {
     "name": "stdout",
     "output_type": "stream",
     "text": [
      "\n",
      "\n",
      "          날짜        종목명    종목코드     비중       현재가   한계리스크  절대리스크  상대리스크비중\n",
      "0   20191120      나노메딕스  074610  5.040    9900.0  37.515  1.891    5.239\n",
      "1   20191120        필룩스  033180  5.389    9890.0  35.096  1.891    5.241\n",
      "2   20191120       부산산업  011390  3.868  171500.0  48.983  1.894    5.249\n",
      "3   20191120      카리스국보  001140  5.093    3655.0  37.202  1.895    5.251\n",
      "4   20191120       동성제약  002210  6.092   17900.0  31.050  1.892    5.241\n",
      "5   20191120  에이프로젠 KIC  007460  6.199    2200.0  30.814  1.910    5.293\n",
      "6   20191120      엔케이물산  009810  6.634     755.0  28.855  1.914    5.305\n",
      "7   20191120      웰바이오텍  010600  8.749    2500.0  21.188  1.854    5.137\n",
      "8   20191120       일신석재  007110  3.609    3005.0  52.978  1.912    5.299\n",
      "9   20191120       남광토건  001260  3.909   12750.0  48.820  1.908    5.287\n",
      "10  20191120       삼일제약  000520  5.984   21500.0  31.629  1.893    5.245\n",
      "11  20191120       인스코비  006490  5.543    3295.0  34.267  1.899    5.263\n",
      "12  20191120       인디에프  014990  3.947    3070.0  48.329  1.908    5.286\n",
      "13  20191120         조비  001550  3.971   18150.0  47.832  1.899    5.263\n",
      "14  20191120      대호에이엘  069460  5.714    5210.0  33.516  1.915    5.307\n",
      "15  20191120        파미셀  005690  5.750    8220.0  32.934  1.894    5.247\n",
      "16  20191120       동양철관  008970  3.814    1150.0  49.861  1.902    5.270\n",
      "17  20191120     동양네트웍스  030790  6.546     594.0  29.251  1.915    5.306\n",
      "18  20191120       일성건설  013360  4.148    1385.0  45.856  1.902    5.271\n"
     ]
    }
   ],
   "source": [
    "mp = {'날짜':date_col,\n",
    "      '종목명':종목명,\n",
    "      '종목코드':종목코드,\n",
    "      '비중':list(optsx),\n",
    "      '현재가':현재가,\n",
    "      '한계리스크':MRC,\n",
    "      '절대리스크':ARC,\n",
    "      '상대리스크비중':PRC}\n",
    "df1 = pd.DataFrame(mp,columns = ['날짜','종목명','종목코드','비중','현재가','한계리스크','절대리스크','상대리스크비중'])\n",
    "print('\\n')\n",
    "print(df1)\n",
    "df1.to_csv('RP_model_portfolio_'+current_dt+'.csv', index=None)"
   ]
  },
  {
   "cell_type": "code",
   "execution_count": 0,
   "metadata": {
    "colab": {},
    "colab_type": "code",
    "id": "BQdMwuzFNT5T"
   },
   "outputs": [],
   "source": []
  }
 ],
 "metadata": {
  "anaconda-cloud": {},
  "colab": {
   "collapsed_sections": [],
   "name": "RP모델_포트폴리오산출_기본.ipynb",
   "provenance": [],
   "toc_visible": true
  },
  "kernelspec": {
   "display_name": "Python [default]",
   "language": "python",
   "name": "python3"
  },
  "language_info": {
   "codemirror_mode": {
    "name": "ipython",
    "version": 3
   },
   "file_extension": ".py",
   "mimetype": "text/x-python",
   "name": "python",
   "nbconvert_exporter": "python",
   "pygments_lexer": "ipython3",
   "version": "3.5.4"
  }
 },
 "nbformat": 4,
 "nbformat_minor": 1
}
