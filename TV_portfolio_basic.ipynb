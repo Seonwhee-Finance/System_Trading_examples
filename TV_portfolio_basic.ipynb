{
 "cells": [
  {
   "cell_type": "markdown",
   "metadata": {
    "colab_type": "text",
    "id": "PjP7dbhXPPEY"
   },
   "source": [
    "# 변동성 조절 전략(Target Volatility Strategies) 포트폴리오 산출 기본\n"
   ]
  },
  {
   "cell_type": "code",
   "execution_count": 0,
   "metadata": {
    "colab": {},
    "colab_type": "code",
    "id": "VHl2XUkWqcSR"
   },
   "outputs": [],
   "source": [
    "import numpy as np\n",
    "import pandas as pd\n",
    "import scipy.optimize as sco\n",
    "import datetime as dt\n",
    "from datetime import timedelta\n",
    "from pylab import *"
   ]
  },
  {
   "cell_type": "markdown",
   "metadata": {
    "colab_type": "text",
    "id": "kZrc9_ZEQc2i"
   },
   "source": [
    "# 예스트레이더 출력 결과물을 Pandas 형태로 포맷 변환"
   ]
  },
  {
   "cell_type": "code",
   "execution_count": 0,
   "metadata": {
    "colab": {},
    "colab_type": "code",
    "id": "2Saw5QJ-KFjI"
   },
   "outputs": [],
   "source": [
    "# 예스트레이더 종목검색 결과를 날짜 기준으로 포맷팅\n",
    "def convert_yes_price_file(gubun):\n",
    "    # 우리나라 시간 = 그리니치 표준시 + 9시\n",
    "    file_dt = (dt.datetime.now() + dt.timedelta(hours=9)).strftime('%Y%m%d')\n",
    "\n",
    "    yes_price_file = pd.DataFrame()\n",
    "    # 예스트레이더 출력용 지표식과 칼럼수 일치시켜야 함.\n",
    "    yes_price_file = pd.read_csv('yes_stock_price_' + file_dt + '.csv',encoding= 'euc-kr',\n",
    "                           names = ['날짜1','종목명','종목코드','날짜','시가','고가','저가','종가','거래량',\n",
    "                                    '단기이평','중기이평','장기이평','지수단기이평','지수중기이평','지수장기이평',\n",
    "                                    'MACD','MACD_OSC','ATR','CCI','StoK','StoD','TRIX','이격도'],\n",
    "                           index_col= 1, header=None, dtype={'종목코드':str})\n",
    "\n",
    "    종목명 = yes_price_file.index.unique()\n",
    "    종목코드 = yes_price_file['종목코드'].unique()  # 종목코드 사용할 경우를 위해 별도 저장\n",
    "    df1 = {'종목명':종목명,\n",
    "           '종목코드':종목코드}\n",
    "    df1 = pd.DataFrame(df1)\n",
    "    df1.to_csv('symbol_cd.csv')\n",
    "\n",
    "    cls_p_data = pd.DataFrame()\n",
    "    vol_data = pd.DataFrame()\n",
    "    if gubun == 1:\n",
    "        hi_p_data = pd.DataFrame()\n",
    "        lo_p_data = pd.DataFrame()\n",
    "        sma_data = pd.DataFrame()\n",
    "        mma_data = pd.DataFrame()\n",
    "        lma_data = pd.DataFrame()\n",
    "        sema_data = pd.DataFrame()\n",
    "        mema_data = pd.DataFrame()\n",
    "        lema_data = pd.DataFrame()\n",
    "        macd_data = pd.DataFrame()\n",
    "        macdo_data = pd.DataFrame()\n",
    "        atr_data = pd.DataFrame()\n",
    "        cci_data = pd.DataFrame()\n",
    "        stok_data = pd.DataFrame()\n",
    "        stod_data = pd.DataFrame()\n",
    "        trix_data = pd.DataFrame()\n",
    "        dis_data = pd.DataFrame()\n",
    "\n",
    "    for i in range(len(종목명)):\n",
    "        cls_p = yes_price_file.loc[종목명[i],['날짜','종가']]\n",
    "        cls_p.set_index(['날짜'],inplace=True)\n",
    "        cls_p_data = pd.concat([cls_p_data,cls_p],axis=1) \n",
    "\n",
    "        vol = yes_price_file.loc[종목명[i],['날짜','거래량']]\n",
    "        vol.set_index(['날짜'],inplace=True)\n",
    "        vol_data = pd.concat([vol_data,vol],axis=1) \n",
    "\n",
    "        if gubun == 1:\n",
    "            hi_p = yes_price_file.loc[종목명[i],['날짜','고가']]\n",
    "            hi_p.set_index(['날짜'],inplace=True)\n",
    "            hi_p_data = pd.concat([hi_p_data,hi_p],axis=1) \n",
    "\n",
    "            lo_p = yes_price_file.loc[종목명[i],['날짜','저가']]\n",
    "            lo_p.set_index(['날짜'],inplace=True)\n",
    "            lo_p_data = pd.concat([lo_p_data,lo_p],axis=1) \n",
    "\n",
    "            sma = yes_price_file.loc[종목명[i],['날짜','단기이평']]\n",
    "            sma.set_index(['날짜'],inplace=True)\n",
    "            sma_data = pd.concat([sma_data,sma],axis=1) \n",
    "\n",
    "            mma = yes_price_file.loc[종목명[i],['날짜','중기이평']]\n",
    "            mma.set_index(['날짜'],inplace=True)\n",
    "            mma_data = pd.concat([mma_data,mma],axis=1) \n",
    "\n",
    "            lma = yes_price_file.loc[종목명[i],['날짜','장기이평']]\n",
    "            lma.set_index(['날짜'],inplace=True)\n",
    "            lma_data = pd.concat([lma_data,lma],axis=1) \n",
    "\n",
    "            atr = yes_price_file.loc[종목명[i],['날짜','ATR']]\n",
    "            atr.set_index(['날짜'],inplace=True)\n",
    "            atr_data = pd.concat([atr_data,atr],axis=1) \n",
    "\n",
    "    cls_p_data.columns = 종목명\n",
    "    print('\\n 종가데이터 \\n', cls_p_data.head())\n",
    "    cls_p_data.to_csv('cls_p_data.csv')\n",
    "\n",
    "    vol_data.columns = 종목명\n",
    "    print('\\n 거래량 \\n', vol_data.head())\n",
    "    vol_data.to_csv('volume_data.csv')\n",
    "\n",
    "    if gubun == 1:\n",
    "        hi_p_data.columns = 종목명\n",
    "        print('\\n 고가데이터 \\n', hi_p_data.head())\n",
    "        hi_p_data.to_csv('hi_p_data.csv')\n",
    "\n",
    "        lo_p_data.columns = 종목명\n",
    "        print('\\n 저가데이터 \\n', lo_p_data.head())\n",
    "        lo_p_data.to_csv('lo_p_data.csv')\n",
    "\n",
    "        sma_data.columns = 종목명\n",
    "        print('\\n 단기이평 \\n', sma_data.head())\n",
    "        sma_data.to_csv('sma_data.csv')\n",
    "\n",
    "        mma_data.columns = 종목명\n",
    "        print('\\n 중기이평 \\n', mma_data.head())\n",
    "        mma_data.to_csv('mma_data.csv')\n",
    "\n",
    "        lma_data.columns = 종목명\n",
    "        print('\\n 장기이평 \\n', lma_data.head())\n",
    "        lma_data.to_csv('lma_data.csv')\n",
    "\n",
    "        atr_data.columns = 종목명\n",
    "        print('\\n ATR \\n', atr_data.head())\n",
    "        atr_data.to_csv('atr_data.csv')"
   ]
  },
  {
   "cell_type": "code",
   "execution_count": 0,
   "metadata": {
    "colab": {},
    "colab_type": "code",
    "id": "hkr0j9Jmu63Q"
   },
   "outputs": [],
   "source": [
    "gubun = 0 # 지표 파일을 만들려면 1로, 안 만들여면 0\n",
    "convert_yes_price_file(gubun)  "
   ]
  },
  {
   "cell_type": "markdown",
   "metadata": {
    "colab_type": "text",
    "id": "ejV1mxyJQoqp"
   },
   "source": [
    "# 사용자 함수 선언"
   ]
  },
  {
   "cell_type": "code",
   "execution_count": 0,
   "metadata": {
    "colab": {},
    "colab_type": "code",
    "id": "tuOABltzKLsh"
   },
   "outputs": [],
   "source": [
    "def statistics(w,r,c):\n",
    "    '''포트폴리오 총계치 출력\n",
    "    인수\n",
    "    =====\n",
    "    weight : array-like  포트폴리오 내의 비중\n",
    "    \n",
    "    반환값\n",
    "    ======\n",
    "    portfolio_return     : float 포트폴리오 수익률 기댓값\n",
    "    portfolio_volatility : float 포트폴리오 변동성 기댓값\n",
    "    sharpe_ratio         : float 무위험 이자율이 0일 때의 샤프 지수\n",
    "    '''\n",
    "    w = np.array(w)\n",
    "    portfolio_return = np.sum(r * w)\n",
    "    portfolio_volatility = np.sqrt(np.dot(w.T,np.dot(c, w)))\n",
    "    sharp_ratio = portfolio_return / portfolio_volatility\n",
    "    return np.array([portfolio_return, portfolio_volatility, sharp_ratio])"
   ]
  },
  {
   "cell_type": "code",
   "execution_count": 0,
   "metadata": {
    "colab": {},
    "colab_type": "code",
    "id": "FBeCt1hpOBBS"
   },
   "outputs": [],
   "source": [
    "def min_func_sharpe(w,r,c):\n",
    "# 최소화문제에서 샤프지수 최대값을 찾으려면 샤프지수의 음수 값을 최소화하면 된다.\n",
    "    return -statistics(w,r,c)[2]  # 위에서 만든 statistics의 3번째 값이 샤프지수"
   ]
  },
  {
   "cell_type": "code",
   "execution_count": 0,
   "metadata": {
    "colab": {},
    "colab_type": "code",
    "id": "X6u1DfokKMni"
   },
   "outputs": [],
   "source": [
    "def min_func_variance(w,r,c):\n",
    "# 분산 최소화 함수\n",
    "    return statistics(w,r,c)[1]**2"
   ]
  },
  {
   "cell_type": "code",
   "execution_count": 0,
   "metadata": {
    "colab": {},
    "colab_type": "code",
    "id": "SyRCckUyqJ7u"
   },
   "outputs": [],
   "source": [
    "# 기대수익률 음수값의 최소화 함수\n",
    "def min_func_return(w,r,c):\n",
    "    return -statistics(w,r,c)[0]"
   ]
  },
  {
   "cell_type": "code",
   "execution_count": 0,
   "metadata": {
    "colab": {},
    "colab_type": "code",
    "id": "C3WzLxRP3hKT"
   },
   "outputs": [],
   "source": [
    "def solve_target_vol(r,c,t):\n",
    "    noa = len(r)\n",
    "    def port_volatility(w):\n",
    "        return np.sqrt(np.dot(w.T,np.dot(c, w)))\n",
    "\n",
    "    # 제약조건\n",
    "    cons = ({'type': 'eq', 'fun': lambda x: port_volatility(x) - t},\n",
    "            {'type': 'eq', 'fun': lambda x: np.sum(x) - 1},\n",
    "            {'type': 'ineq', 'fun': lambda x: (x >= 0.01).sum() - 4},   #매수 종목이 5 종목 이상되도록 조건 설정 \n",
    "            {'type': 'ineq', 'fun': lambda x: (x >= 0.01).sum() - 3},\n",
    "            {'type': 'ineq', 'fun': lambda x: (x >= 0.01).sum() - 2},\n",
    "            {'type': 'ineq', 'fun': lambda x: (x >= 0.01).sum() - 1}) \n",
    "\n",
    "    # 범위값\n",
    "    bnds = tuple((0, 1) for x in range(noa))\n",
    "\n",
    "    opts = sco.minimize(min_func_return, noa * [1. / noa, ], (R, C), method='SLSQP', bounds=bnds, constraints=cons)\n",
    "    return opts.x"
   ]
  },
  {
   "cell_type": "code",
   "execution_count": 0,
   "metadata": {
    "colab": {},
    "colab_type": "code",
    "id": "ug6QOi7ZZs3n"
   },
   "outputs": [],
   "source": [
    "def solve_target_vol2(r,c,t):\n",
    "    noa = len(r)\n",
    "    def port_volatility(w):\n",
    "        return np.sqrt(np.dot(w.T,np.dot(c, w)))\n",
    "\n",
    "    # 제약조건\n",
    "    cons = ({'type': 'eq', 'fun': lambda x: port_volatility(x) - t},\n",
    "            {'type': 'eq', 'fun': lambda x: np.sum(x) - 1}) \n",
    "\n",
    "    # 범위값\n",
    "    bnds = tuple((0, 1) for x in range(noa))\n",
    "\n",
    "    opts = sco.minimize(min_func_return, noa * [1. / noa, ], (R, C), method='SLSQP', bounds=bnds, constraints=cons)\n",
    "    return opts.x"
   ]
  },
  {
   "cell_type": "code",
   "execution_count": 0,
   "metadata": {
    "colab": {},
    "colab_type": "code",
    "id": "dy-YWUoAVqsS"
   },
   "outputs": [],
   "source": [
    "def solve_frontier(r,c):\n",
    "    def min_func_port(w,r,c):\n",
    "        return statistics(w,r,c)[1]  # 두번째 값 변동성의 최소화\n",
    "    def port_return(w):\n",
    "        return np.sum(r * w)\n",
    "    mean, vol = [], []\n",
    "    for t in np.linspace(min(r), max(r), num=50): # Iterate through the range of returns on Y axis\n",
    "        # 제약조건\n",
    "        cons = ({'type': 'eq', 'fun': lambda x:  port_return(x) - t},\n",
    "                {'type': 'eq', 'fun': lambda x:  np.sum(x) - 1})\n",
    "        # 범위값\n",
    "        bnds = tuple((0, 1) for x in range(noa))\n",
    "        opts = sco.minimize(min_func_port, noa * [1. / noa, ],(r,c), method='SLSQP', constraints=cons, bounds=bnds)\n",
    "        if not opts.success:\n",
    "            raise BaseException(opts.message)\n",
    "        # add point to the min-var frontier [x,y] = [opts.x, t]\n",
    "        mean.append(t)                                                 # return\n",
    "        vol.append(statistics(opts['x'],r,c)[1])   # min-variance based on optimized weights\n",
    "\n",
    "    return array(mean), array(vol)"
   ]
  },
  {
   "cell_type": "code",
   "execution_count": 0,
   "metadata": {
    "colab": {},
    "colab_type": "code",
    "id": "u22_KY3rVuGX"
   },
   "outputs": [],
   "source": [
    "def display_Efficient_frontier(r,c):\n",
    "    mean, vol = solve_frontier(r,c)\n",
    "    plot(vol, mean, color='black'), grid(True)  # draw efficient frontier\n",
    "    print('최소 vol = ', min(vol).round(3), ', 최대 vol = ', max(vol).round(3))"
   ]
  },
  {
   "cell_type": "markdown",
   "metadata": {
    "colab_type": "text",
    "id": "3_MDqcnnPlpc"
   },
   "source": [
    "# Main"
   ]
  },
  {
   "cell_type": "code",
   "execution_count": 0,
   "metadata": {
    "colab": {},
    "colab_type": "code",
    "id": "ZOKAJoesOKoC"
   },
   "outputs": [],
   "source": [
    "공분산_산출기간 = 500  # 시뮬레이터를 통해 최적 값 찾을 것\n",
    "\n",
    "raw_data = pd.read_csv('cls_p_data.csv',index_col=['날짜'], parse_dates=['날짜'])\n",
    "종목명 = raw_data.columns\n",
    "print('\\n >> 종목명 :', 종목명)\n",
    "\n",
    "noa = len(종목명)\n",
    "\n",
    "symbol_data = pd.read_csv('symbol_cd.csv',index_col=None,dtype={'종목코드':str})\n",
    "종목코드 = symbol_data['종목코드']\n",
    "print('\\n >> 종목코드 :', 종목코드)\n",
    "\n",
    "work_data = raw_data.iloc[-공분산_산출기간:]\n",
    "현재가 = list(raw_data.iloc[-1])\n",
    "print('\\n >> 현재가 :', 현재가)\n",
    "\n",
    "로그수익률 = np.log(work_data / work_data.shift(1))\n",
    "print(로그수익률.head())\n",
    "\n",
    "R = 로그수익률.mean() * 252  # 연수익률\n",
    "print(R)\n",
    "\n",
    "C = 로그수익률.cov() * 252 # 공분산\n",
    "print(C)\n",
    "\n",
    "# 우리나라 시간 = 그리니치 표준시 + 9시\n",
    "current_dt = (dt.datetime.now() + timedelta(hours=9)).strftime('%Y%m%d')\n",
    "date_col = [current_dt for i in range(noa)] # 날짜 칼럼 생성\n",
    "print(date_col)"
   ]
  },
  {
   "cell_type": "code",
   "execution_count": 0,
   "metadata": {
    "colab": {},
    "colab_type": "code",
    "id": "BQbL_Wb5V_C4"
   },
   "outputs": [],
   "source": [
    "display_Efficient_frontier(R,C)\n"
   ]
  },
  {
   "cell_type": "markdown",
   "metadata": {
    "colab_type": "text",
    "id": "mM0xgiWRX2Cx"
   },
   "source": [
    "# 목표 변동성 입력"
   ]
  },
  {
   "cell_type": "code",
   "execution_count": 0,
   "metadata": {
    "colab": {},
    "colab_type": "code",
    "id": "bzs4ZFm9XpeH"
   },
   "outputs": [],
   "source": [
    "# 투자성향별 목표표준편차, 상단의 그림을 참조해서 변경 입력한다.\n",
    "target_vol = (0.4, 0.5, 0.6)"
   ]
  },
  {
   "cell_type": "markdown",
   "metadata": {
    "colab_type": "text",
    "id": "2OUgxaYEYF_Z"
   },
   "source": [
    "# 목표 변동성별 모델포트폴리오 산출"
   ]
  },
  {
   "cell_type": "code",
   "execution_count": 0,
   "metadata": {
    "colab": {},
    "colab_type": "code",
    "id": "rfu6k0H7KCtA"
   },
   "outputs": [],
   "source": [
    "display_Efficient_frontier(R,C)\n",
    "\n",
    "for i in range(len(target_vol)):\n",
    "    # 최소 5종목 조건 없음\n",
    "    W = solve_target_vol2(R,C,target_vol[i])\n",
    "#    print(W)\n",
    "    stat = statistics(W,R,C).round(3)  # 샤프지수 최대 포트폴리오의 수익률, 표준편차, 샤프지수\n",
    "#    print('\\n>> 수익률 = ', stat[0],', 표준편차 = ', stat[1], ', 샤프지수 = ', stat[2])\n",
    "\n",
    "    scatter(stat[1], stat[0], marker='o', color='red'), grid(True)\n",
    "\n",
    "    mp = {'날짜':date_col,\n",
    "          '종목명':종목명,\n",
    "          '종목코드':종목코드,\n",
    "          '비중':W.round(3),\n",
    "          '현재가':현재가}\n",
    "    df1 = pd.DataFrame(mp,columns = ['날짜','종목명','종목코드','비중','현재가'])\n",
    "#    print(df1)\n",
    "    df1.to_csv('TV_model_portfolio_'+str(i+1)+'.csv')"
   ]
  },
  {
   "cell_type": "markdown",
   "metadata": {
    "colab_type": "text",
    "id": "9jpEPx-nbPPu"
   },
   "source": [
    "최소 보유종목(5종목 이상) 조건 반영"
   ]
  },
  {
   "cell_type": "code",
   "execution_count": 0,
   "metadata": {
    "colab": {},
    "colab_type": "code",
    "id": "LHjDO9KdZ5KQ"
   },
   "outputs": [],
   "source": [
    "display_Efficient_frontier(R,C)\n",
    "\n",
    "for i in range(len(target_vol)):\n",
    "    # 최소 보유종목 조건 반영\n",
    "    W = solve_target_vol(R,C,target_vol[i])\n",
    "#    print(W)\n",
    "    stat = statistics(W,R,C).round(3)  # 샤프지수 최대 포트폴리오의 수익률, 표준편차, 샤프지수\n",
    "#    print('\\n>> 수익률 = ', stat[0],', 표준편차 = ', stat[1], ', 샤프지수 = ', stat[2])\n",
    "\n",
    "    scatter(stat[1], stat[0], marker='o', color='red'), grid(True)\n",
    "\n",
    "    mp = {'날짜':date_col,\n",
    "          '종목명':종목명,\n",
    "          '종목코드':종목코드,\n",
    "          '비중':W.round(3),\n",
    "          '현재가':현재가}\n",
    "    df1 = pd.DataFrame(mp,columns = ['날짜','종목명','종목코드','비중','현재가'])\n",
    "#    print(df1)\n",
    "    df1.to_csv('TV_model_portfolio_'+str(i+1)+'.csv')"
   ]
  },
  {
   "cell_type": "code",
   "execution_count": 0,
   "metadata": {
    "colab": {},
    "colab_type": "code",
    "id": "rSm0l03tOuxp"
   },
   "outputs": [],
   "source": []
  }
 ],
 "metadata": {
  "anaconda-cloud": {},
  "colab": {
   "collapsed_sections": [],
   "name": "TV모델_포트폴리오산출_기본.ipynb",
   "provenance": [],
   "toc_visible": true
  },
  "kernelspec": {
   "display_name": "Python [default]",
   "language": "python",
   "name": "python3"
  },
  "language_info": {
   "codemirror_mode": {
    "name": "ipython",
    "version": 3
   },
   "file_extension": ".py",
   "mimetype": "text/x-python",
   "name": "python",
   "nbconvert_exporter": "python",
   "pygments_lexer": "ipython3",
   "version": "3.5.4"
  }
 },
 "nbformat": 4,
 "nbformat_minor": 1
}
