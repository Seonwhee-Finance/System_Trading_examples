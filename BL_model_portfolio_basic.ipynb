{
 "cells": [
  {
   "cell_type": "code",
   "execution_count": 1,
   "metadata": {
    "colab": {},
    "colab_type": "code",
    "id": "pYK7CC0_yg-2"
   },
   "outputs": [],
   "source": [
    "from numpy.linalg import inv, pinv\n",
    "from pylab import *\n",
    "import random\n",
    "import numpy as np\n",
    "import pandas as pd\n",
    "import scipy.optimize as sco\n",
    "import requests\n",
    "import re\n",
    "import bs4\n",
    "import datetime as dt\n",
    "\n",
    "import platform\n",
    "import matplotlib.pyplot as plt\n",
    "from matplotlib import font_manager, rc\n",
    "\n",
    "# # matplotlib 한글 깨지는 것 조정\n",
    "# plt.rcParams['axes.unicode_minus'] = False\n",
    "# if platform.system() == 'Darwin':\n",
    "#     rc('font', family='AppleGothic')\n",
    "# elif platform.system() == 'Windows':\n",
    "#     path = \"C:/Windows/Fonts/malgun.ttf\"\n",
    "#     font_name = font_manager.FontProperties(fname=path).get_name()\n",
    "#     rc('font', family=font_name)\n",
    "# else:\n",
    "#     print('Unknown system...')"
   ]
  },
  {
   "cell_type": "code",
   "execution_count": 2,
   "metadata": {
    "colab": {},
    "colab_type": "code",
    "id": "ew2iBmBMyYS8"
   },
   "outputs": [],
   "source": [
    "# 예스트레이더 종목검색 결과를 날짜 기준으로 포맷팅\n",
    "def convert_yes_price_file(gubun):\n",
    "    # 우리나라 시간 = 그리니치 표준시 + 9시\n",
    "    file_dt = (dt.datetime.now() + dt.timedelta(hours=9)).strftime('%Y%m%d')\n",
    "\n",
    "    yes_price_file = pd.DataFrame()\n",
    "    # 예스트레이더 출력용 지표식과 칼럼수 일치시켜야 함.\n",
    "    yes_price_file = pd.read_csv(path + 'yes_stock_price_' + file_dt + '.csv',encoding= 'euc-kr',\n",
    "                           names = ['날짜1','종목명','종목코드','날짜','시가','고가','저가','종가','거래량',\n",
    "                                    '단기이평','중기이평','장기이평','지수단기이평','지수중기이평','지수장기이평',\n",
    "                                    'MACD','MACD_OSC','ATR','CCI','StoK','StoD','TRIX','이격도'],\n",
    "                           index_col= 1, header=None, dtype={'종목코드':str})\n",
    "\n",
    "    종목명 = yes_price_file.index.unique()\n",
    "    종목코드 = yes_price_file['종목코드'].unique()  # 종목코드 사용할 경우를 위해 별도 저장\n",
    "    df1 = {'종목명':종목명,\n",
    "           '종목코드':종목코드}\n",
    "    df1 = pd.DataFrame(df1)\n",
    "    df1.to_csv('symbol_cd.csv')\n",
    "\n",
    "    cls_p_data = pd.DataFrame()\n",
    "    vol_data = pd.DataFrame()\n",
    "    if gubun == 1:\n",
    "        hi_p_data = pd.DataFrame()\n",
    "        lo_p_data = pd.DataFrame()\n",
    "        sma_data = pd.DataFrame()\n",
    "        mma_data = pd.DataFrame()\n",
    "        lma_data = pd.DataFrame()\n",
    "        sema_data = pd.DataFrame()\n",
    "        mema_data = pd.DataFrame()\n",
    "        lema_data = pd.DataFrame()\n",
    "        macd_data = pd.DataFrame()\n",
    "        macdo_data = pd.DataFrame()\n",
    "        atr_data = pd.DataFrame()\n",
    "        cci_data = pd.DataFrame()\n",
    "        stok_data = pd.DataFrame()\n",
    "        stod_data = pd.DataFrame()\n",
    "        trix_data = pd.DataFrame()\n",
    "        dis_data = pd.DataFrame()\n",
    "\n",
    "    for i in range(len(종목명)):\n",
    "        cls_p = yes_price_file.loc[종목명[i],['날짜','종가']]\n",
    "        cls_p.set_index(['날짜'],inplace=True)\n",
    "        cls_p_data = pd.concat([cls_p_data,cls_p],axis=1) \n",
    "\n",
    "        vol = yes_price_file.loc[종목명[i],['날짜','거래량']]\n",
    "        vol.set_index(['날짜'],inplace=True)\n",
    "        vol_data = pd.concat([vol_data,vol],axis=1) \n",
    "\n",
    "        if gubun == 1:\n",
    "            hi_p = yes_price_file.loc[종목명[i],['날짜','고가']]\n",
    "            hi_p.set_index(['날짜'],inplace=True)\n",
    "            hi_p_data = pd.concat([hi_p_data,hi_p],axis=1) \n",
    "\n",
    "            lo_p = yes_price_file.loc[종목명[i],['날짜','저가']]\n",
    "            lo_p.set_index(['날짜'],inplace=True)\n",
    "            lo_p_data = pd.concat([lo_p_data,lo_p],axis=1) \n",
    "\n",
    "            sma = yes_price_file.loc[종목명[i],['날짜','단기이평']]\n",
    "            sma.set_index(['날짜'],inplace=True)\n",
    "            sma_data = pd.concat([sma_data,sma],axis=1) \n",
    "\n",
    "            mma = yes_price_file.loc[종목명[i],['날짜','중기이평']]\n",
    "            mma.set_index(['날짜'],inplace=True)\n",
    "            mma_data = pd.concat([mma_data,mma],axis=1) \n",
    "\n",
    "            lma = yes_price_file.loc[종목명[i],['날짜','장기이평']]\n",
    "            lma.set_index(['날짜'],inplace=True)\n",
    "            lma_data = pd.concat([lma_data,lma],axis=1) \n",
    "\n",
    "            atr = yes_price_file.loc[종목명[i],['날짜','ATR']]\n",
    "            atr.set_index(['날짜'],inplace=True)\n",
    "            atr_data = pd.concat([atr_data,atr],axis=1) \n",
    "\n",
    "    cls_p_data.columns = 종목명\n",
    "    print('\\n 종가데이터 \\n', cls_p_data.head())\n",
    "    cls_p_data.to_csv('cls_p_data.csv')\n",
    "\n",
    "    vol_data.columns = 종목명\n",
    "    print('\\n 거래량 \\n', vol_data.head())\n",
    "    vol_data.to_csv('volume_data.csv')\n",
    "\n",
    "    if gubun == 1:\n",
    "        hi_p_data.columns = 종목명\n",
    "        print('\\n 고가데이터 \\n', hi_p_data.head())\n",
    "        hi_p_data.to_csv('hi_p_data.csv')\n",
    "\n",
    "        lo_p_data.columns = 종목명\n",
    "        print('\\n 저가데이터 \\n', lo_p_data.head())\n",
    "        lo_p_data.to_csv('lo_p_data.csv')\n",
    "\n",
    "        sma_data.columns = 종목명\n",
    "        print('\\n 단기이평 \\n', sma_data.head())\n",
    "        sma_data.to_csv('sma_data.csv')\n",
    "\n",
    "        mma_data.columns = 종목명\n",
    "        print('\\n 중기이평 \\n', mma_data.head())\n",
    "        mma_data.to_csv('mma_data.csv')\n",
    "\n",
    "        lma_data.columns = 종목명\n",
    "        print('\\n 장기이평 \\n', lma_data.head())\n",
    "        lma_data.to_csv('lma_data.csv')\n",
    "\n",
    "        atr_data.columns = 종목명\n",
    "        print('\\n ATR \\n', atr_data.head())\n",
    "        atr_data.to_csv('atr_data.csv')"
   ]
  },
  {
   "cell_type": "code",
   "execution_count": 3,
   "metadata": {
    "colab": {
     "base_uri": "https://localhost:8080/",
     "height": 404
    },
    "colab_type": "code",
    "id": "ZGUICU2cysQt",
    "outputId": "7dee35ca-c40b-419f-809a-cc6f86b7c0a0"
   },
   "outputs": [
    {
     "name": "stdout",
     "output_type": "stream",
     "text": [
      "\n",
      " 종가데이터 \n",
      " 종목명          나노메딕스     필룩스     부산산업   카리스국보    동성제약  에이프로젠 KIC   엔케이물산  \\\n",
      "날짜                                                                       \n",
      "20151021.0  2585.0  2233.0  32200.0  1508.0  5260.0     3085.0  1226.0   \n",
      "20151022.0  2560.0  2180.0  31650.0  1546.0  5140.0     3045.0  1193.0   \n",
      "20151023.0  2650.0  2228.0  31900.0  1496.0  5100.0     3060.0  1217.0   \n",
      "20151026.0  2560.0  2233.0  33600.0  1442.0  5110.0     3105.0  1197.0   \n",
      "20151027.0  3100.0  2233.0  33350.0  1521.0  5160.0     3030.0  1209.0   \n",
      "\n",
      "종목명          웰바이오텍    일신석재     남광토건    삼일제약    인스코비    인디에프       조비   대호에이엘  \\\n",
      "날짜                                                                             \n",
      "20151021.0  2675.0  1430.0  11050.0  6790.0  1450.0  2420.0  13550.0  1202.0   \n",
      "20151022.0  2485.0  1340.0  10800.0  6675.0  1395.0  2625.0  13100.0  1159.0   \n",
      "20151023.0  2590.0  1365.0  11300.0  6733.0  1375.0  2600.0  13600.0  1175.0   \n",
      "20151026.0  2690.0  1330.0  11150.0  6733.0  1420.0  2660.0  13350.0  1205.0   \n",
      "20151027.0  2730.0  1355.0  10950.0  6685.0  1390.0  2705.0  13150.0  1202.0   \n",
      "\n",
      "종목명            파미셀    동양철관  동양네트웍스    일성건설  \n",
      "날짜                                          \n",
      "20151021.0  5150.0  1212.0  2293.0  1165.0  \n",
      "20151022.0  5070.0  1162.0  2293.0  1125.0  \n",
      "20151023.0  5130.0  1226.0  2370.0  1140.0  \n",
      "20151026.0  5200.0  1199.0  2331.0  1155.0  \n",
      "20151027.0  5150.0  1244.0  2225.0  1240.0  \n",
      "\n",
      " 거래량 \n",
      " 종목명             나노메딕스       필룩스     부산산업     카리스국보      동성제약  에이프로젠 KIC  \\\n",
      "날짜                                                                        \n",
      "20151021.0   361653.0  236541.0   6717.0   20918.0  114463.0    45743.0   \n",
      "20151022.0   428860.0  122246.0  10386.0  165770.0   88994.0    47027.0   \n",
      "20151023.0   276305.0   64824.0   5114.0   18547.0   77402.0   118390.0   \n",
      "20151026.0   326127.0   76391.0  21006.0   14889.0   62771.0   104323.0   \n",
      "20151027.0  2791752.0   69859.0   6601.0   17846.0   49176.0    76860.0   \n",
      "\n",
      "종목명             엔케이물산     웰바이오텍       일신석재       남광토건     삼일제약       인스코비  \\\n",
      "날짜                                                                          \n",
      "20151021.0  1918777.0  573100.0  5393439.0  1294705.0   9390.0  1274152.0   \n",
      "20151022.0  1709717.0  400241.0  3597828.0   451290.0   9676.0   506511.0   \n",
      "20151023.0  1572504.0  267262.0  2415893.0   451061.0  26988.0   397284.0   \n",
      "20151026.0  1010019.0  332467.0  1974564.0   446795.0  24682.0   526960.0   \n",
      "20151027.0  1023561.0  544441.0  2477618.0   601643.0   9514.0   429228.0   \n",
      "\n",
      "종목명              인디에프       조비      대호에이엘        파미셀       동양철관     동양네트웍스  \\\n",
      "날짜                                                                           \n",
      "20151021.0   189233.0  32265.0   344925.0  1475016.0  3414143.0   924240.0   \n",
      "20151022.0  4335967.0  19616.0   336876.0   906166.0  6647553.0  1570007.0   \n",
      "20151023.0   591937.0  19183.0   184934.0  1574477.0  3861613.0  3951679.0   \n",
      "20151026.0   466634.0  10078.0  1163199.0  1070309.0  1967717.0   756456.0   \n",
      "20151027.0   486787.0  15923.0   259315.0   814631.0  3906788.0   703124.0   \n",
      "\n",
      "종목명            일성건설  \n",
      "날짜                   \n",
      "20151021.0   7265.0  \n",
      "20151022.0  12545.0  \n",
      "20151023.0   4767.0  \n",
      "20151026.0   7199.0  \n",
      "20151027.0  49609.0  \n"
     ]
    }
   ],
   "source": [
    "path = './'\n",
    "gubun = 0 # 지표 파일을 만들려면 1로, 안 만들여면 0\n",
    "          # 청산로직을 반영하려면 지표 파일도 생성해야 한다.\n",
    "convert_yes_price_file(gubun)  "
   ]
  },
  {
   "cell_type": "markdown",
   "metadata": {
    "colab_type": "text",
    "id": "nw4NJuAvTEpp"
   },
   "source": [
    "# 블랙리터만 포트폴리오\n",
    "\n",
    "Rf  - 무위험이자율\n",
    "\n",
    "lmb, λ  - 위험회피계수\n",
    "\n",
    "C, Σ  - 공분산 매트릭스\n",
    "\n",
    "Omega, Ω  - 자산 분산 (대각 공분산 매트릭스, k * k )\n",
    "\n",
    "Wmkt - 시가총액 비중 벡터\n",
    "\n",
    "R  - 수익률 벡터\n",
    "\n",
    "mean, E(r) - 포트폴리오 기대수익률\n",
    "\n",
    "var, σ² - 포트폴리오 분산\n",
    "\n",
    "Pi, π  - 내재균형수익률 벡터\n",
    "\n",
    "tau, τ  - 위험조정상수\n",
    "\n",
    "Q   - 자산의 전망수익률백터(k * 1 column vector)\n",
    "\n",
    "λ = (E(r) - Rf)/σ²\n",
    "\n",
    "π = λΣＷmkt\n",
    "\n",
    "σ² = Ｗmkt'ΣＷmkt\n",
    "\n",
    "E(r) = Ｗmkt'*R\n",
    "\n",
    "P = 시장 전망을 지정하는 행력(k * n)\n",
    "\n",
    "Ω = PΣP'τ  시장 전망의 오차항 공분산 행렬\n",
    "\n",
    "π|E(R) ~ N(E(R),τΣ)  내재균형수익률\n",
    "\n",
    "P*E(R) ~ N(Q,Ωㅎ)  View(Prior)\n",
    "\n",
    "E(R)|π ~ N([(τΣ)**(-1) + P'Ω**(-1)P]**(-1)[(τΣ)**(-1)π+P'Ω**(-1)Q], \n",
    "블랙리터만 기대수익률\n",
    "            [(τΣ)**(-1) + P'Ω**(-1)P]**(-1))\n",
    "\n",
    "Ｗbl = (λΣ)**(-1)(E(E(R)|π) - Rf)"
   ]
  },
  {
   "cell_type": "code",
   "execution_count": 4,
   "metadata": {
    "colab": {},
    "colab_type": "code",
    "id": "xyt5eaNlzgPD"
   },
   "outputs": [],
   "source": [
    "# 네이버에서 시가총액을 긁어 옴\n",
    "def get_market_capital(symbol_code):\n",
    "    market_capital = []\n",
    "    for symbol_cd in symbol_code:\n",
    "        url = 'https://finance.naver.com/item/sise.nhn?code='+str(symbol_cd)\n",
    "        source = requests.get(url)\n",
    "        soup = bs4.BeautifulSoup(source.text)\n",
    "\n",
    "        tmp = soup.find(id='_sise_market_sum').text\n",
    "\n",
    "        mkt_cap = tmp.replace(',','')\n",
    "        mkt_cap = mkt_cap.replace('억원','')\n",
    "        mkt_cap = mkt_cap.replace(' ','')\n",
    "        mkt_cap = int(mkt_cap) * 100000000\n",
    "\n",
    "        market_capital.append(mkt_cap)\n",
    "\n",
    "    return market_capital"
   ]
  },
  {
   "cell_type": "code",
   "execution_count": 5,
   "metadata": {
    "colab": {},
    "colab_type": "code",
    "id": "IDCYUar6zkCI"
   },
   "outputs": [],
   "source": [
    "# 네이버에서 CD 금리 현재가를 긁어 옴  \n",
    "def get_cd_rate():\n",
    "    url = 'http://finance.naver.com/marketindex/interestDailyQuote.nhn?marketindexCd=IRR_CD91&page=1'\n",
    "    r = requests.get(url)\n",
    "    html = bs4.BeautifulSoup(r.content, 'html.parser')\n",
    "\n",
    "    tbody = html.find('tbody')\n",
    "    tr = tbody.find_all('tr')\n",
    "\n",
    "    date = tr[0].find('td', {'class': 'date'}).text.replace('.', '').strip()\n",
    "    value = tr[0].find('td', {'class': 'num'}).text.strip()\n",
    "    value = float(value)/100\n",
    "    return value"
   ]
  },
  {
   "cell_type": "code",
   "execution_count": 6,
   "metadata": {
    "colab": {},
    "colab_type": "code",
    "id": "70UU8AyOTaPY"
   },
   "outputs": [],
   "source": [
    "def statistics(w,r,c):\n",
    "    '''포트폴리오 총계치 출력\n",
    "    인수\n",
    "    =====\n",
    "    weight : array-like  포트폴리오 내의 비중\n",
    "    \n",
    "    반환값\n",
    "    ======\n",
    "    portfolio_return     : float 포트폴리오 수익률 기댓값\n",
    "    portfolio_volatility : float 포트폴리오 변동성 기댓값\n",
    "    sharpe_ratio         : float 무위험 이자율이 0일 때의 샤프 지수\n",
    "    '''\n",
    "    w = np.array(w)\n",
    "    portfolio_return = np.sum(r * w)\n",
    "    portfolio_volatility = np.sqrt(np.dot(w.T,np.dot(c, w)))\n",
    "    sharp_ratio = portfolio_return / portfolio_volatility\n",
    "    return np.array([portfolio_return, portfolio_volatility, sharp_ratio])"
   ]
  },
  {
   "cell_type": "code",
   "execution_count": 7,
   "metadata": {
    "colab": {},
    "colab_type": "code",
    "id": "AsU6zich3Ksb"
   },
   "outputs": [],
   "source": [
    "# Given risk-free rate, assets returns and covariances, this function calculates\n",
    "# mean-variance frontier and returns its [x,y] points in two arrays\n",
    "def solve_frontier(r,c):\n",
    "    def fitness(w,r,c,t):\n",
    "        stat = statistics(w,r,c)\n",
    "        # Big penalty for not meeting stated portfolio return effectively serves as optimization constraint\n",
    "        penalty = 100 * abs(stat[0] - t)\n",
    "        return stat[1]**2 + penalty\n",
    "\n",
    "    frontier_mean, frontier_vol = [], []\n",
    "    for t in np.linspace(min(r), max(r), num=20): # Iterate through the range of returns on Y axis\n",
    "       # 제약조건\n",
    "        cons = ({'type': 'eq', 'fun': lambda x: np.sum(x) - 1})\n",
    "        # 범위값\n",
    "        bnds = tuple((0, 1) for x in range(noa))\n",
    "        opts = sco.minimize(fitness, noa * [1. / noa, ], (r, c, t), method='SLSQP', constraints=cons, bounds=bnds)\n",
    "        if not opts.success:\n",
    "            raise BaseException(opts.message)\n",
    "        # add point to the min-var frontier [x,y] = [opts.x, t]\n",
    "        frontier_mean.append(t)                                                 # return\n",
    "        frontier_vol.append(statistics(opts['x'],t,c)[1])   # min-variance based on optimized weights\n",
    "\n",
    "    return array(frontier_mean), array(frontier_vol)"
   ]
  },
  {
   "cell_type": "code",
   "execution_count": 8,
   "metadata": {
    "colab": {},
    "colab_type": "code",
    "id": "YGjiXGT34kIc"
   },
   "outputs": [],
   "source": [
    "def solve_weights(r,c):\n",
    "    def fitness(w,r,c):\n",
    "        stat = statistics(w,r,c)  \n",
    "        return -(stat[0] - Rf)/stat[1]  # Sharp\n",
    "\n",
    "    # 제약조건\n",
    "    cons = ({'type': 'eq', 'fun': lambda x: np.sum(x) - 1})\n",
    "    # 범위값\n",
    "    bnds = tuple((0, 1) for x in range(noa))\n",
    "    opts = sco.minimize(fitness, noa * [1. / noa, ], (r, c), method='SLSQP', constraints=cons, bounds=bnds)\n",
    "\n",
    "    if not opts.success:\n",
    "        raise BaseException(opts.message)\n",
    "    return opts.x   # Ratio"
   ]
  },
  {
   "cell_type": "code",
   "execution_count": 9,
   "metadata": {
    "colab": {},
    "colab_type": "code",
    "id": "QekNqMMpNlpq"
   },
   "outputs": [],
   "source": [
    "def optimize_frontier(r,c):\n",
    "    W = solve_weights(r,c)\n",
    "    stat = statistics(W,r,c)\n",
    "    tan_mean = stat[0]  # calculate tangency portfolio\n",
    "    tan_vol = stat[1]\n",
    "    front_mean, front_vol = solve_frontier(r,c)  # calculate efficient frontier\n",
    "    # Weights, Tangency portfolio asset means and variances, Efficient frontier means and variances\n",
    "    return W, tan_mean, tan_vol, front_mean, front_vol"
   ]
  },
  {
   "cell_type": "code",
   "execution_count": 10,
   "metadata": {
    "colab": {},
    "colab_type": "code",
    "id": "gMdzgJztPKWj"
   },
   "outputs": [],
   "source": [
    "def display_assets(r,c, color='black'):\n",
    "    scatter([c.iloc[i, i] ** .5 for i in range(noa)], r, marker='x', color=color), grid(True)  # draw assets\n",
    "    for i in range(noa): \n",
    "        text(c.iloc[i, i] ** .5, r[i], '  %s' % 종목명[i], verticalalignment='center', color=color) # draw labels"
   ]
  },
  {
   "cell_type": "code",
   "execution_count": 11,
   "metadata": {
    "colab": {},
    "colab_type": "code",
    "id": "3C2795MYQCfD"
   },
   "outputs": [],
   "source": [
    "def display_frontier(tan_mean, tan_vol,front_mean, front_vol, label=None, color='black'):\n",
    "    text(tan_vol, tan_mean, '   tangent', verticalalignment='center', color=color)\n",
    "    scatter(tan_vol, tan_mean, marker='o', color=color), grid(True)\n",
    "    plot(front_vol, front_mean, label=label, color=color), grid(True)  # draw efficient frontier"
   ]
  },
  {
   "cell_type": "code",
   "execution_count": 12,
   "metadata": {
    "colab": {},
    "colab_type": "code",
    "id": "6C2ruArm5lA8"
   },
   "outputs": [],
   "source": [
    "# given the pairs of assets, prepare the views and link matrices. This function is created just for users' convenience\n",
    "def prepare_views_and_link_matrix(views):\n",
    "    row = len(views)\n",
    "    col = noa\n",
    "    Q = [views[i][3] for i in range(row)]     # view matrix\n",
    "    P = zeros([row, col])                                       # link matrix\n",
    "    nameToIndex = dict()\n",
    "    for i, n in enumerate(종목명):\n",
    "        nameToIndex[n] = i\n",
    "    for i, v in enumerate(views):\n",
    "        name1, name2 = views[i][0], views[i][2]\n",
    "        P[i, nameToIndex[name1]] = +1 if views[i][1]=='>' else -1\n",
    "        P[i, nameToIndex[name2]] = -1 if views[i][1]=='>' else +1\n",
    "    return array(Q), P"
   ]
  },
  {
   "cell_type": "markdown",
   "metadata": {
    "colab_type": "text",
    "id": "Be0PQFHF0EdG"
   },
   "source": [
    "# Main"
   ]
  },
  {
   "cell_type": "code",
   "execution_count": 29,
   "metadata": {
    "colab": {
     "base_uri": "https://localhost:8080/",
     "height": 105
    },
    "colab_type": "code",
    "id": "Tsj0j-Su0KER",
    "outputId": "d9bc2750-82cc-4cdc-d1c3-5acaf4149a11"
   },
   "outputs": [
    {
     "name": "stdout",
     "output_type": "stream",
     "text": [
      "Index(['나노메딕스', '필룩스', '부산산업', '카리스국보', '동성제약', '에이프로젠 KIC', '엔케이물산', '웰바이오텍',\n",
      "       '일신석재', '남광토건', '삼일제약', '인스코비', '인디에프', '조비', '대호에이엘', '파미셀', '동양철관',\n",
      "       '동양네트웍스', '일성건설'],\n",
      "      dtype='object')\n",
      "종목수 =  19\n"
     ]
    }
   ],
   "source": [
    "공분산_산출기간 = 500\n",
    "out_path = './'\n",
    "\n",
    "raw_data = pd.read_csv('cls_p_data.csv',index_col=['날짜'], parse_dates=['날짜'])\n",
    "종목명 = raw_data.columns\n",
    "noa = len(종목명)  # 자산수\n",
    "print(종목명)\n",
    "print('종목수 = ', noa)"
   ]
  },
  {
   "cell_type": "code",
   "execution_count": 14,
   "metadata": {
    "colab": {
     "base_uri": "https://localhost:8080/",
     "height": 369
    },
    "colab_type": "code",
    "id": "yjnOZ2RZy4Zk",
    "outputId": "8d9c4930-c1e6-40af-d40b-b7507863b700"
   },
   "outputs": [
    {
     "name": "stdout",
     "output_type": "stream",
     "text": [
      "\n",
      " >> 종목코드 : 0     074610\n",
      "1     033180\n",
      "2     011390\n",
      "3     001140\n",
      "4     002210\n",
      "5     007460\n",
      "6     009810\n",
      "7     010600\n",
      "8     007110\n",
      "9     001260\n",
      "10    000520\n",
      "11    006490\n",
      "12    014990\n",
      "13    001550\n",
      "14    069460\n",
      "15    005690\n",
      "16    008970\n",
      "17    030790\n",
      "18    013360\n",
      "Name: 종목코드, dtype: object\n"
     ]
    }
   ],
   "source": [
    "symbol_data = pd.read_csv('symbol_cd.csv',index_col=None,dtype={'종목코드':str})\n",
    "종목코드 = symbol_data['종목코드']\n",
    "print('\\n >> 종목코드 :', 종목코드)"
   ]
  },
  {
   "cell_type": "code",
   "execution_count": 15,
   "metadata": {
    "colab": {
     "base_uri": "https://localhost:8080/",
     "height": 125
    },
    "colab_type": "code",
    "id": "DVs2oS3M1OmW",
    "outputId": "03ae1f41-4a00-44e5-d3b2-4c21c5aae0d9"
   },
   "outputs": [
    {
     "name": "stderr",
     "output_type": "stream",
     "text": [
      "/home/seonwhee/anaconda3/lib/python3.5/site-packages/bs4/__init__.py:181: UserWarning: No parser was explicitly specified, so I'm using the best available HTML parser for this system (\"lxml\"). This usually isn't a problem, but if you run this code on another system, or in a different virtual environment, it may use a different parser and behave differently.\n",
      "\n",
      "The code that caused this warning is on line 193 of the file /home/seonwhee/anaconda3/lib/python3.5/runpy.py. To get rid of this warning, change code that looks like this:\n",
      "\n",
      " BeautifulSoup(YOUR_MARKUP})\n",
      "\n",
      "to this:\n",
      "\n",
      " BeautifulSoup(YOUR_MARKUP, \"lxml\")\n",
      "\n",
      "  markup_type=markup_type))\n"
     ]
    },
    {
     "name": "stdout",
     "output_type": "stream",
     "text": [
      "[341200000000, 803400000000, 178500000000, 83600000000, 458800000000, 435300000000, 61000000000, 104300000000, 226600000000, 124300000000, 137200000000, 310100000000, 175300000000, 92200000000, 135900000000, 486900000000, 134900000000, 59600000000, 72900000000]\n",
      "시가총액 백터\n",
      "[ 0.07715966  0.1816825   0.04036635  0.01890547  0.10375396  0.09843962\n",
      "  0.01379466  0.02358661  0.05124378  0.02810945  0.03102668  0.07012664\n",
      "  0.0396427   0.02085029  0.0307327   0.11010855  0.03050656  0.01347806\n",
      "  0.01648575]\n"
     ]
    }
   ],
   "source": [
    "symbol_data = pd.read_csv('symbol_cd.csv',index_col=None,dtype={'종목코드':str})\n",
    "caps = get_market_capital(symbol_data['종목코드'])\n",
    "print(caps)\n",
    "Wmkt = caps/sum(caps)  # 시가총액 백터(n X 1)\n",
    "print('시가총액 백터')\n",
    "print(Wmkt)"
   ]
  },
  {
   "cell_type": "code",
   "execution_count": 16,
   "metadata": {
    "colab": {
     "base_uri": "https://localhost:8080/",
     "height": 34
    },
    "colab_type": "code",
    "id": "3cRFsMmX1bha",
    "outputId": "59c1e293-c006-4aec-dc37-30e97745b94c"
   },
   "outputs": [
    {
     "name": "stdout",
     "output_type": "stream",
     "text": [
      "무위험이자율 =  0.015300000000000001\n"
     ]
    }
   ],
   "source": [
    "Rf = get_cd_rate()  # 무위험이자율\n",
    "print('무위험이자율 = ', Rf)"
   ]
  },
  {
   "cell_type": "code",
   "execution_count": 17,
   "metadata": {
    "colab": {
     "base_uri": "https://localhost:8080/",
     "height": 230
    },
    "colab_type": "code",
    "id": "k8pWnQOc1koP",
    "outputId": "73023713-2057-441e-bdb1-73f45a005905"
   },
   "outputs": [
    {
     "name": "stdout",
     "output_type": "stream",
     "text": [
      "\n",
      " >> 현재가 : [9900.0, 9890.0, 171500.0, 3655.0, 17900.0, 2200.0, 755.0, 2500.0, 3005.0, 12750.0, 21500.0, 3295.0, 3070.0, 18150.0, 5210.0, 8220.0, 1150.0, 594.0, 1385.0]\n",
      "               나노메딕스       필룩스      부산산업     카리스국보      동성제약  에이프로젠 KIC  \\\n",
      "날짜                                                                        \n",
      "20171103.0       NaN       NaN       NaN       NaN       NaN        NaN   \n",
      "20171106.0 -0.025508 -0.001761 -0.013226 -0.002020  0.043430  -0.027337   \n",
      "20171107.0  0.004549 -0.008496 -0.005935 -0.009142  0.001249  -0.009281   \n",
      "20171108.0  0.006033 -0.008568  0.005935 -0.010257  0.013639   0.011588   \n",
      "20171109.0  0.120286 -0.010452 -0.005935  0.000000  0.012240   0.092373   \n",
      "\n",
      "               엔케이물산     웰바이오텍      일신석재      남광토건      삼일제약      인스코비  \\\n",
      "날짜                                                                       \n",
      "20171103.0       NaN       NaN       NaN       NaN       NaN       NaN   \n",
      "20171106.0  0.000000  0.025243 -0.007813  0.001496  0.001228 -0.012780   \n",
      "20171107.0 -0.009337  0.054222  0.000000  0.008929  0.000000  0.003210   \n",
      "20171108.0 -0.003759  0.054067  0.007813 -0.016431  0.013003  0.012739   \n",
      "20171109.0  0.011236  0.002628  0.000000 -0.013647  0.050257  0.000000   \n",
      "\n",
      "                인디에프        조비     대호에이엘       파미셀      동양철관    동양네트웍스  \\\n",
      "날짜                                                                       \n",
      "20171103.0       NaN       NaN       NaN       NaN       NaN       NaN   \n",
      "20171106.0 -0.028749  0.045746  0.004036  0.004673 -0.021327 -0.043621   \n",
      "20171107.0  0.008299 -0.016394  0.011017  0.000000  0.008399 -0.062418   \n",
      "20171108.0 -0.016667  0.024491  0.015811  0.029853 -0.004658 -0.038001   \n",
      "20171109.0 -0.008439 -0.004040 -0.015811  0.038829  0.000000  0.024349   \n",
      "\n",
      "                일성건설  \n",
      "날짜                    \n",
      "20171103.0       NaN  \n",
      "20171106.0 -0.018349  \n",
      "20171107.0  0.009217  \n",
      "20171108.0 -0.037388  \n",
      "20171109.0  0.018868  \n"
     ]
    }
   ],
   "source": [
    "work_data = raw_data.iloc[-공분산_산출기간:]\n",
    "\n",
    "현재가 = list(raw_data.iloc[-1])\n",
    "print('\\n >> 현재가 :', 현재가)\n",
    "로그수익률 = np.log(work_data / work_data.shift(1))\n",
    "print(로그수익률.head())"
   ]
  },
  {
   "cell_type": "code",
   "execution_count": 18,
   "metadata": {
    "colab": {
     "base_uri": "https://localhost:8080/",
     "height": 351
    },
    "colab_type": "code",
    "id": "xNX9-y7W1qdD",
    "outputId": "7d3cafd9-8dd7-46f4-cafc-8a669ea5b3e8"
   },
   "outputs": [
    {
     "name": "stdout",
     "output_type": "stream",
     "text": [
      "나노메딕스        0.543461\n",
      "필룩스          0.629756\n",
      "부산산업         0.813519\n",
      "카리스국보        0.659107\n",
      "동성제약         0.778693\n",
      "에이프로젠 KIC   -0.005706\n",
      "엔케이물산        0.171127\n",
      "웰바이오텍       -0.144018\n",
      "일신석재         0.429016\n",
      "남광토건         0.326445\n",
      "삼일제약         0.543706\n",
      "인스코비         0.372774\n",
      "인디에프         0.459865\n",
      "조비           0.219587\n",
      "대호에이엘        0.839145\n",
      "파미셀          0.330760\n",
      "동양철관         0.027061\n",
      "동양네트웍스      -0.512874\n",
      "일성건설         0.116349\n",
      "dtype: float64\n"
     ]
    }
   ],
   "source": [
    "R = 로그수익률.mean() * 252 # 연수익률\n",
    "print(R)"
   ]
  },
  {
   "cell_type": "code",
   "execution_count": 19,
   "metadata": {
    "colab": {
     "base_uri": "https://localhost:8080/",
     "height": 386
    },
    "colab_type": "code",
    "id": "JpmYPcDG2A-D",
    "outputId": "60402dfd-ea2a-4225-d0a6-ec5fb7592a6c"
   },
   "outputs": [
    {
     "name": "stdout",
     "output_type": "stream",
     "text": [
      "              나노메딕스       필룩스      부산산업     카리스국보      동성제약  에이프로젠 KIC  \\\n",
      "나노메딕스      1.041032  0.144542  0.026471  0.025085  0.155194   0.100015   \n",
      "필룩스        0.144542  0.969997  0.038138  0.007118  0.137566   0.118202   \n",
      "부산산업       0.026471  0.038138  0.919179  0.251895 -0.030373   0.011978   \n",
      "카리스국보      0.025085  0.007118  0.251895  0.891146 -0.029217   0.016318   \n",
      "동성제약       0.155194  0.137566 -0.030373 -0.029217  0.823501   0.167480   \n",
      "에이프로젠 KIC  0.100015  0.118202  0.011978  0.016318  0.167480   0.806656   \n",
      "엔케이물산      0.078689  0.010688  0.151384  0.145457 -0.006650  -0.012235   \n",
      "웰바이오텍      0.074819 -0.006179 -0.046973  0.031476  0.003666   0.074715   \n",
      "일신석재       0.076416  0.097333  0.464088  0.261500 -0.000092   0.048541   \n",
      "남광토건       0.045951  0.083903  0.388177  0.220863  0.042496   0.036640   \n",
      "삼일제약       0.173770  0.132069 -0.020898  0.025951  0.261328   0.114999   \n",
      "인스코비       0.086750  0.150674  0.045100  0.020781  0.110774   0.089725   \n",
      "인디에프       0.053878  0.054116  0.352237  0.179229  0.042415   0.028449   \n",
      "조비         0.015223  0.071924  0.423873  0.233258 -0.011143   0.031815   \n",
      "대호에이엘      0.014564 -0.010398  0.389085  0.146202 -0.051088  -0.018806   \n",
      "파미셀        0.173868  0.195071 -0.008626  0.010918  0.207488   0.138406   \n",
      "동양철관       0.049387  0.059003  0.449738  0.277937 -0.022604   0.015585   \n",
      "동양네트웍스     0.110764  0.068200  0.061279  0.000090  0.096221   0.079040   \n",
      "일성건설       0.071083  0.096538  0.322260  0.220268 -0.001522   0.060056   \n",
      "\n",
      "              엔케이물산     웰바이오텍      일신석재      남광토건      삼일제약      인스코비  \\\n",
      "나노메딕스      0.078689  0.074819  0.076416  0.045951  0.173770  0.086750   \n",
      "필룩스        0.010688 -0.006179  0.097333  0.083903  0.132069  0.150674   \n",
      "부산산업       0.151384 -0.046973  0.464088  0.388177 -0.020898  0.045100   \n",
      "카리스국보      0.145457  0.031476  0.261500  0.220863  0.025951  0.020781   \n",
      "동성제약      -0.006650  0.003666 -0.000092  0.042496  0.261328  0.110774   \n",
      "에이프로젠 KIC -0.012235  0.074715  0.048541  0.036640  0.114999  0.089725   \n",
      "엔케이물산      0.797246  0.030932  0.121503  0.103532 -0.003671 -0.001728   \n",
      "웰바이오텍      0.030932  0.773197 -0.049249 -0.070103  0.026377  0.044998   \n",
      "일신석재       0.121503 -0.049249  0.733206  0.477311  0.011951  0.092151   \n",
      "남광토건       0.103532 -0.070103  0.477311  0.721404 -0.018696  0.112036   \n",
      "삼일제약      -0.003671  0.026377  0.011951 -0.018696  0.724652  0.175538   \n",
      "인스코비      -0.001728  0.044998  0.092151  0.112036  0.175538  0.715105   \n",
      "인디에프       0.089632 -0.024049  0.459832  0.404259  0.072725  0.101687   \n",
      "조비         0.172364 -0.056229  0.452179  0.402741  0.009953  0.071412   \n",
      "대호에이엘      0.023898 -0.032722  0.272825  0.309117 -0.078872  0.013702   \n",
      "파미셀       -0.014259  0.037284 -0.004433  0.043261  0.208318  0.227699   \n",
      "동양철관       0.119877  0.016571  0.448651  0.413671 -0.018271  0.078100   \n",
      "동양네트웍스     0.045449  0.058233  0.040812  0.019895  0.139157  0.110595   \n",
      "일성건설       0.127756 -0.058079  0.527934  0.428866  0.016745  0.083078   \n",
      "\n",
      "               인디에프        조비     대호에이엘       파미셀      동양철관    동양네트웍스  \\\n",
      "나노메딕스      0.053878  0.015223  0.014564  0.173868  0.049387  0.110764   \n",
      "필룩스        0.054116  0.071924 -0.010398  0.195071  0.059003  0.068200   \n",
      "부산산업       0.352237  0.423873  0.389085 -0.008626  0.449738  0.061279   \n",
      "카리스국보      0.179229  0.233258  0.146202  0.010918  0.277937  0.000090   \n",
      "동성제약       0.042415 -0.011143 -0.051088  0.207488 -0.022604  0.096221   \n",
      "에이프로젠 KIC  0.028449  0.031815 -0.018806  0.138406  0.015585  0.079040   \n",
      "엔케이물산      0.089632  0.172364  0.023898 -0.014259  0.119877  0.045449   \n",
      "웰바이오텍     -0.024049 -0.056229 -0.032722  0.037284  0.016571  0.058233   \n",
      "일신석재       0.459832  0.452179  0.272825 -0.004433  0.448651  0.040812   \n",
      "남광토건       0.404259  0.402741  0.309117  0.043261  0.413671  0.019895   \n",
      "삼일제약       0.072725  0.009953 -0.078872  0.208318 -0.018271  0.139157   \n",
      "인스코비       0.101687  0.071412  0.013702  0.227699  0.078100  0.110595   \n",
      "인디에프       0.699340  0.385569  0.286072  0.052780  0.369468  0.062857   \n",
      "조비         0.385569  0.688555  0.274756  0.044042  0.417391  0.038884   \n",
      "대호에이엘      0.286072  0.274756  0.693840 -0.012292  0.375463  0.014406   \n",
      "파미셀        0.052780  0.044042 -0.012292  0.658373  0.032235  0.115447   \n",
      "동양철관       0.369468  0.417391  0.375463  0.032235  0.649547  0.061223   \n",
      "동양네트웍스     0.062857  0.038884  0.014406  0.115447  0.061223  0.656571   \n",
      "일성건설       0.360319  0.386082  0.228198 -0.013821  0.358723  0.037348   \n",
      "\n",
      "               일성건설  \n",
      "나노메딕스      0.071083  \n",
      "필룩스        0.096538  \n",
      "부산산업       0.322260  \n",
      "카리스국보      0.220268  \n",
      "동성제약      -0.001522  \n",
      "에이프로젠 KIC  0.060056  \n",
      "엔케이물산      0.127756  \n",
      "웰바이오텍     -0.058079  \n",
      "일신석재       0.527934  \n",
      "남광토건       0.428866  \n",
      "삼일제약       0.016745  \n",
      "인스코비       0.083078  \n",
      "인디에프       0.360319  \n",
      "조비         0.386082  \n",
      "대호에이엘      0.228198  \n",
      "파미셀       -0.013821  \n",
      "동양철관       0.358723  \n",
      "동양네트웍스     0.037348  \n",
      "일성건설       0.642320  \n"
     ]
    }
   ],
   "source": [
    "C = 로그수익률.cov() * 252 # 공분산\n",
    "print(C)"
   ]
  },
  {
   "cell_type": "code",
   "execution_count": 20,
   "metadata": {
    "colab": {
     "base_uri": "https://localhost:8080/",
     "height": 1000
    },
    "colab_type": "code",
    "id": "4rgzoQrcTWYg",
    "outputId": "2d4606f2-9169-474d-c1a0-75c4b9528868"
   },
   "outputs": [
    {
     "data": {
      "image/png": "[encoded data removed]",
      "text/plain": [
       "<matplotlib.figure.Figure at 0x7f341ee95e80>"
      ]
     },
     "metadata": {},
     "output_type": "display_data"
    },
    {
     "data": {
      "text/html": [
       "<div>\n",
       "<style scoped>\n",
       "    .dataframe tbody tr th:only-of-type {\n",
       "        vertical-align: middle;\n",
       "    }\n",
       "\n",
       "    .dataframe tbody tr th {\n",
       "        vertical-align: top;\n",
       "    }\n",
       "\n",
       "    .dataframe thead th {\n",
       "        text-align: right;\n",
       "    }\n",
       "</style>\n",
       "<table border=\"1\" class=\"dataframe\">\n",
       "  <thead>\n",
       "    <tr style=\"text-align: right;\">\n",
       "      <th></th>\n",
       "      <th>나노메딕스</th>\n",
       "      <th>필룩스</th>\n",
       "      <th>부산산업</th>\n",
       "      <th>카리스국보</th>\n",
       "      <th>동성제약</th>\n",
       "      <th>에이프로젠 KIC</th>\n",
       "      <th>엔케이물산</th>\n",
       "      <th>웰바이오텍</th>\n",
       "      <th>일신석재</th>\n",
       "      <th>남광토건</th>\n",
       "      <th>삼일제약</th>\n",
       "      <th>인스코비</th>\n",
       "      <th>인디에프</th>\n",
       "      <th>조비</th>\n",
       "      <th>대호에이엘</th>\n",
       "      <th>파미셀</th>\n",
       "      <th>동양철관</th>\n",
       "      <th>동양네트웍스</th>\n",
       "      <th>일성건설</th>\n",
       "    </tr>\n",
       "  </thead>\n",
       "  <tbody>\n",
       "    <tr>\n",
       "      <th>비중</th>\n",
       "      <td>0.060896</td>\n",
       "      <td>0.111427</td>\n",
       "      <td>0.085208</td>\n",
       "      <td>0.125935</td>\n",
       "      <td>0.205675</td>\n",
       "      <td>9.789153e-17</td>\n",
       "      <td>0.000025</td>\n",
       "      <td>1.222333e-16</td>\n",
       "      <td>1.115684e-17</td>\n",
       "      <td>3.184893e-16</td>\n",
       "      <td>0.107208</td>\n",
       "      <td>0.031231</td>\n",
       "      <td>7.710334e-17</td>\n",
       "      <td>3.416346e-16</td>\n",
       "      <td>0.272395</td>\n",
       "      <td>9.872274e-17</td>\n",
       "      <td>1.410724e-16</td>\n",
       "      <td>5.850217e-16</td>\n",
       "      <td>1.499601e-16</td>\n",
       "    </tr>\n",
       "  </tbody>\n",
       "</table>\n",
       "</div>"
      ],
      "text/plain": [
       "       나노메딕스       필룩스      부산산업     카리스국보      동성제약     에이프로젠 KIC     엔케이물산  \\\n",
       "비중  0.060896  0.111427  0.085208  0.125935  0.205675  9.789153e-17  0.000025   \n",
       "\n",
       "           웰바이오텍          일신석재          남광토건      삼일제약      인스코비  \\\n",
       "비중  1.222333e-16  1.115684e-17  3.184893e-16  0.107208  0.031231   \n",
       "\n",
       "            인디에프            조비     대호에이엘           파미셀          동양철관  \\\n",
       "비중  7.710334e-17  3.416346e-16  0.272395  9.872274e-17  1.410724e-16   \n",
       "\n",
       "          동양네트웍스          일성건설  \n",
       "비중  5.850217e-16  1.499601e-16  "
      ]
     },
     "metadata": {},
     "output_type": "display_data"
    }
   ],
   "source": [
    "# Mean-Variance Optimization (based on historical returns)\n",
    "W, tan_mean, tan_vol, front_mean, front_vol = optimize_frontier(R, C)\n",
    "display_assets(R, C, color='blue')\n",
    "display_frontier(tan_mean, tan_vol,front_mean, front_vol, color='blue')\n",
    "xlabel('variance $\\sigma$'), ylabel('mean $\\mu$'), show()\n",
    "display(pd.DataFrame({'비중': W}, index=종목명).T)"
   ]
  },
  {
   "cell_type": "code",
   "execution_count": 21,
   "metadata": {
    "colab": {
     "base_uri": "https://localhost:8080/",
     "height": 34
    },
    "colab_type": "code",
    "id": "LvTGXudH2TQG",
    "outputId": "59962624-68c0-413c-91ec-39af5281cd44"
   },
   "outputs": [
    {
     "name": "stdout",
     "output_type": "stream",
     "text": [
      "[ 0.43586268  0.41624933  1.04711923]\n"
     ]
    }
   ],
   "source": [
    "# Calculate portfolio historical return and variance\n",
    "stat = statistics(Wmkt,R, C)\n",
    "print(stat)"
   ]
  },
  {
   "cell_type": "code",
   "execution_count": 22,
   "metadata": {
    "colab": {
     "base_uri": "https://localhost:8080/",
     "height": 87
    },
    "colab_type": "code",
    "id": "lzh1ehZX2ZMq",
    "outputId": "1ce1bcdc-da99-41bc-c106-7fc3dd060a4b"
   },
   "outputs": [
    {
     "data": {
      "text/plain": [
       "array([ 0.18168931,  0.26885144,  0.14217934,  0.08407695,  0.17932531,\n",
       "        0.16238799,  0.04879619,  0.03085135,  0.17060643,  0.15871119,\n",
       "        0.13754506,  0.15899709,  0.15378304,  0.14261788,  0.08461169,\n",
       "        0.18732807,  0.14518252,  0.08657854,  0.14312644])"
      ]
     },
     "execution_count": 22,
     "metadata": {},
     "output_type": "execute_result"
    }
   ],
   "source": [
    "# Black-litterman reverse optimization\n",
    "lmb = (stat[0] - Rf)/ stat[1]                         # Calculate return/risk trade-off\n",
    "Pi = np.dot(np.dot(lmb, C), Wmkt)                        # Calculate equilibrium excess returns\n",
    "Pi"
   ]
  },
  {
   "cell_type": "code",
   "execution_count": 23,
   "metadata": {
    "colab": {
     "base_uri": "https://localhost:8080/",
     "height": 1000
    },
    "colab_type": "code",
    "id": "VkCW15NhrT-3",
    "outputId": "370b11e8-ead3-4a98-e05c-287a93143cb4"
   },
   "outputs": [
    {
     "data": {
      "image/png": "[encoded data removed]",
      "text/plain": [
       "<matplotlib.figure.Figure at 0x7f341e981390>"
      ]
     },
     "metadata": {},
     "output_type": "display_data"
    },
    {
     "data": {
      "text/html": [
       "<div>\n",
       "<style scoped>\n",
       "    .dataframe tbody tr th:only-of-type {\n",
       "        vertical-align: middle;\n",
       "    }\n",
       "\n",
       "    .dataframe tbody tr th {\n",
       "        vertical-align: top;\n",
       "    }\n",
       "\n",
       "    .dataframe thead th {\n",
       "        text-align: right;\n",
       "    }\n",
       "</style>\n",
       "<table border=\"1\" class=\"dataframe\">\n",
       "  <thead>\n",
       "    <tr style=\"text-align: right;\">\n",
       "      <th></th>\n",
       "      <th>나노메딕스</th>\n",
       "      <th>필룩스</th>\n",
       "      <th>부산산업</th>\n",
       "      <th>카리스국보</th>\n",
       "      <th>동성제약</th>\n",
       "      <th>에이프로젠 KIC</th>\n",
       "      <th>엔케이물산</th>\n",
       "      <th>웰바이오텍</th>\n",
       "      <th>일신석재</th>\n",
       "      <th>남광토건</th>\n",
       "      <th>삼일제약</th>\n",
       "      <th>인스코비</th>\n",
       "      <th>인디에프</th>\n",
       "      <th>조비</th>\n",
       "      <th>대호에이엘</th>\n",
       "      <th>파미셀</th>\n",
       "      <th>동양철관</th>\n",
       "      <th>동양네트웍스</th>\n",
       "      <th>일성건설</th>\n",
       "    </tr>\n",
       "  </thead>\n",
       "  <tbody>\n",
       "    <tr>\n",
       "      <th>비중</th>\n",
       "      <td>0.07712</td>\n",
       "      <td>0.181637</td>\n",
       "      <td>0.040432</td>\n",
       "      <td>0.01898</td>\n",
       "      <td>0.103712</td>\n",
       "      <td>0.098403</td>\n",
       "      <td>0.013893</td>\n",
       "      <td>0.023689</td>\n",
       "      <td>0.05113</td>\n",
       "      <td>0.027988</td>\n",
       "      <td>0.030966</td>\n",
       "      <td>0.070145</td>\n",
       "      <td>0.039633</td>\n",
       "      <td>0.020775</td>\n",
       "      <td>0.03078</td>\n",
       "      <td>0.110113</td>\n",
       "      <td>0.0305</td>\n",
       "      <td>0.013432</td>\n",
       "      <td>0.016673</td>\n",
       "    </tr>\n",
       "  </tbody>\n",
       "</table>\n",
       "</div>"
      ],
      "text/plain": [
       "      나노메딕스       필룩스      부산산업    카리스국보      동성제약  에이프로젠 KIC     엔케이물산  \\\n",
       "비중  0.07712  0.181637  0.040432  0.01898  0.103712   0.098403  0.013893   \n",
       "\n",
       "       웰바이오텍     일신석재      남광토건      삼일제약      인스코비      인디에프        조비  \\\n",
       "비중  0.023689  0.05113  0.027988  0.030966  0.070145  0.039633  0.020775   \n",
       "\n",
       "      대호에이엘       파미셀    동양철관    동양네트웍스      일성건설  \n",
       "비중  0.03078  0.110113  0.0305  0.013432  0.016673  "
      ]
     },
     "metadata": {},
     "output_type": "display_data"
    }
   ],
   "source": [
    "# Mean-Variance Optimization (based on equilibrium returns)\n",
    "W2, tan_mean2, tan_vol2, front_mean2, front_vol2 = optimize_frontier(Pi + Rf, C)\n",
    "display_assets(R, C, color='blue')\n",
    "display_frontier(tan_mean, tan_vol, front_mean, front_vol, label='Historical returns', color='blue')\n",
    "display_assets(Pi + Rf, C, color='green')\n",
    "display_frontier(tan_mean2, tan_vol2, front_mean2, front_vol2, label='Implied returns', color='green')\n",
    "xlabel('variance $\\sigma$'), ylabel('mean $\\mu$'), show()\n",
    "display(pd.DataFrame({'비중': W2}, index=종목명).T)"
   ]
  },
  {
   "cell_type": "code",
   "execution_count": 24,
   "metadata": {
    "colab": {
     "base_uri": "https://localhost:8080/",
     "height": 105
    },
    "colab_type": "code",
    "id": "LzFogjlg8wyl",
    "outputId": "c1aa3bca-69be-4c85-90ae-920dc3316da9"
   },
   "outputs": [
    {
     "name": "stdout",
     "output_type": "stream",
     "text": [
      "Views Matrix\n",
      "[ 0.02  0.05]\n",
      "Link Matrix\n",
      "[[ 0.  0.  0.  0.  0.  0.  1. -1.  0.  0.  0.  0.  0.  0.  0.  0.  0.  0.\n",
      "   0.]\n",
      " [ 0.  0.  0.  0.  0.  0.  0.  0.  0.  0.  0.  0.  0.  0.  1. -1.  0.  0.\n",
      "   0.]]\n"
     ]
    }
   ],
   "source": [
    "# Determine views to the equilibrium returns and prepare views (Q) and link (P) matrices\n",
    "views = [\n",
    "        ('엔케이물산', '>', '웰바이오텍', 0.02),\n",
    "        ('파미셀', '<', '대호에이엘', 0.05)\n",
    "        ]\n",
    "\n",
    "Q, P = prepare_views_and_link_matrix(views)\n",
    "print('Views Matrix')\n",
    "print(Q)\n",
    "print('Link Matrix')\n",
    "print(P)"
   ]
  },
  {
   "cell_type": "code",
   "execution_count": 25,
   "metadata": {
    "colab": {
     "base_uri": "https://localhost:8080/",
     "height": 52
    },
    "colab_type": "code",
    "id": "4QEJUSrm83q8",
    "outputId": "78c6f3cd-9ea8-4c1e-f2d6-a2dc11f158e4"
   },
   "outputs": [
    {
     "name": "stdout",
     "output_type": "stream",
     "text": [
      "[[ 0.03771444  0.0027041 ]\n",
      " [ 0.0027041   0.03441992]]\n"
     ]
    }
   ],
   "source": [
    "tau = .025 # scaling factor\n",
    "# Calculate omega - uncertainty matrix about views\n",
    "omega = np.dot(np.dot(np.dot(tau, P), C), P.T) # 0.025 * P * C * transpose(P)\n",
    "print(omega)"
   ]
  },
  {
   "cell_type": "code",
   "execution_count": 26,
   "metadata": {
    "colab": {
     "base_uri": "https://localhost:8080/",
     "height": 1000
    },
    "colab_type": "code",
    "id": "Cxgk5p3_9Dyi",
    "outputId": "6ba7be83-8b96-42f3-afbe-a491dc76e88d"
   },
   "outputs": [
    {
     "data": {
      "image/png": "[encoded data removed]",
      "text/plain": [
       "<matplotlib.figure.Figure at 0x7f341ebca4e0>"
      ]
     },
     "metadata": {},
     "output_type": "display_data"
    },
    {
     "data": {
      "text/html": [
       "<div>\n",
       "<style scoped>\n",
       "    .dataframe tbody tr th:only-of-type {\n",
       "        vertical-align: middle;\n",
       "    }\n",
       "\n",
       "    .dataframe tbody tr th {\n",
       "        vertical-align: top;\n",
       "    }\n",
       "\n",
       "    .dataframe thead th {\n",
       "        text-align: right;\n",
       "    }\n",
       "</style>\n",
       "<table border=\"1\" class=\"dataframe\">\n",
       "  <thead>\n",
       "    <tr style=\"text-align: right;\">\n",
       "      <th></th>\n",
       "      <th>나노메딕스</th>\n",
       "      <th>필룩스</th>\n",
       "      <th>부산산업</th>\n",
       "      <th>카리스국보</th>\n",
       "      <th>동성제약</th>\n",
       "      <th>에이프로젠 KIC</th>\n",
       "      <th>엔케이물산</th>\n",
       "      <th>웰바이오텍</th>\n",
       "      <th>일신석재</th>\n",
       "      <th>남광토건</th>\n",
       "      <th>삼일제약</th>\n",
       "      <th>인스코비</th>\n",
       "      <th>인디에프</th>\n",
       "      <th>조비</th>\n",
       "      <th>대호에이엘</th>\n",
       "      <th>파미셀</th>\n",
       "      <th>동양철관</th>\n",
       "      <th>동양네트웍스</th>\n",
       "      <th>일성건설</th>\n",
       "    </tr>\n",
       "  </thead>\n",
       "  <tbody>\n",
       "    <tr>\n",
       "      <th>비중</th>\n",
       "      <td>0.076997</td>\n",
       "      <td>0.181577</td>\n",
       "      <td>0.040409</td>\n",
       "      <td>0.018957</td>\n",
       "      <td>0.103818</td>\n",
       "      <td>0.098377</td>\n",
       "      <td>0.010494</td>\n",
       "      <td>0.026879</td>\n",
       "      <td>0.051177</td>\n",
       "      <td>0.02796</td>\n",
       "      <td>0.031058</td>\n",
       "      <td>0.070272</td>\n",
       "      <td>0.039627</td>\n",
       "      <td>0.020935</td>\n",
       "      <td>0.086018</td>\n",
       "      <td>0.055039</td>\n",
       "      <td>0.030193</td>\n",
       "      <td>0.013414</td>\n",
       "      <td>0.0168</td>\n",
       "    </tr>\n",
       "  </tbody>\n",
       "</table>\n",
       "</div>"
      ],
      "text/plain": [
       "       나노메딕스       필룩스      부산산업     카리스국보      동성제약  에이프로젠 KIC     엔케이물산  \\\n",
       "비중  0.076997  0.181577  0.040409  0.018957  0.103818   0.098377  0.010494   \n",
       "\n",
       "       웰바이오텍      일신석재     남광토건      삼일제약      인스코비      인디에프        조비  \\\n",
       "비중  0.026879  0.051177  0.02796  0.031058  0.070272  0.039627  0.020935   \n",
       "\n",
       "       대호에이엘       파미셀      동양철관    동양네트웍스    일성건설  \n",
       "비중  0.086018  0.055039  0.030193  0.013414  0.0168  "
      ]
     },
     "metadata": {},
     "output_type": "display_data"
    }
   ],
   "source": [
    "# Calculate equilibrium excess returns with views incorporated\n",
    "sub_a = inv(np.dot(tau, C))  # numpy.linalg.inv : 역행렬\n",
    "sub_b = np.dot(np.dot(np.transpose(P), inv(omega)), P)\n",
    "sub_c = np.dot(inv(np.dot(tau, C)), Pi)\n",
    "sub_d = np.dot(np.dot(np.transpose(P), inv(omega)), Q)\n",
    "Pi_adj = np.dot(inv(sub_a + sub_b), (sub_c + sub_d))\n",
    "\n",
    "W3, tan_mean3, tan_vol3, front_mean3, front_vol3 = optimize_frontier(Pi_adj + Rf, C)\n",
    "display_assets(Pi + Rf, C, color='green')\n",
    "display_frontier(tan_mean2, tan_vol2, front_mean2, front_vol2, label='Implied returns', color='green')\n",
    "display_assets(Pi_adj + Rf, C, color='blue')\n",
    "display_frontier(tan_mean3, tan_vol3, front_mean3, front_vol3, label='Implied returns (adjusted views)', color='blue')\n",
    "xlabel('variance $\\sigma$'), ylabel('mean $\\mu$'), show()\n",
    "display(pd.DataFrame({'비중': W3}, index=종목명).T)"
   ]
  },
  {
   "cell_type": "code",
   "execution_count": 27,
   "metadata": {
    "colab": {
     "base_uri": "https://localhost:8080/",
     "height": 72
    },
    "colab_type": "code",
    "id": "BmDRxqg7ALMe",
    "outputId": "d50f34c2-d400-4825-f0b2-0c7b33ce2dd1"
   },
   "outputs": [
    {
     "name": "stdout",
     "output_type": "stream",
     "text": [
      "['20191119', '20191119', '20191119', '20191119', '20191119', '20191119', '20191119', '20191119', '20191119', '20191119', '20191119', '20191119', '20191119', '20191119', '20191119', '20191119', '20191119', '20191119', '20191119']\n",
      "[7.7000000000000002, 18.158000000000001, 4.0410000000000004, 1.8959999999999999, 10.382, 9.8379999999999992, 1.0489999999999999, 2.6880000000000002, 5.1180000000000003, 2.7959999999999998, 3.1059999999999999, 7.0270000000000001, 3.9630000000000001, 2.093, 8.6020000000000003, 5.5039999999999996, 3.0190000000000001, 1.341, 1.6799999999999999]\n"
     ]
    }
   ],
   "source": [
    "# 우리나라 시간 = 그리니치 표준시 + 9시\n",
    "current_dt = (dt.datetime.now() + dt.timedelta(hours=9)).strftime('%Y%m%d')\n",
    "date_col = [current_dt for i in range(noa)] # 날짜 칼럼 생성\n",
    "print(date_col)\n",
    "print(list((W3 * 100).round(3)))"
   ]
  },
  {
   "cell_type": "code",
   "execution_count": 31,
   "metadata": {
    "colab": {
     "base_uri": "https://localhost:8080/",
     "height": 351
    },
    "colab_type": "code",
    "id": "6xZloBN_yTGK",
    "outputId": "e06521bb-a707-4432-a6bd-db1a77682033"
   },
   "outputs": [
    {
     "name": "stdout",
     "output_type": "stream",
     "text": [
      "          날짜        종목명    종목코드      비중       현재가\n",
      "0   20191119      나노메딕스  074610   7.700    9900.0\n",
      "1   20191119        필룩스  033180  18.158    9890.0\n",
      "2   20191119       부산산업  011390   4.041  171500.0\n",
      "3   20191119      카리스국보  001140   1.896    3655.0\n",
      "4   20191119       동성제약  002210  10.382   17900.0\n",
      "5   20191119  에이프로젠 KIC  007460   9.838    2200.0\n",
      "6   20191119      엔케이물산  009810   1.049     755.0\n",
      "7   20191119      웰바이오텍  010600   2.688    2500.0\n",
      "8   20191119       일신석재  007110   5.118    3005.0\n",
      "9   20191119       남광토건  001260   2.796   12750.0\n",
      "10  20191119       삼일제약  000520   3.106   21500.0\n",
      "11  20191119       인스코비  006490   7.027    3295.0\n",
      "12  20191119       인디에프  014990   3.963    3070.0\n",
      "13  20191119         조비  001550   2.093   18150.0\n",
      "14  20191119      대호에이엘  069460   8.602    5210.0\n",
      "15  20191119        파미셀  005690   5.504    8220.0\n",
      "16  20191119       동양철관  008970   3.019    1150.0\n",
      "17  20191119     동양네트웍스  030790   1.341     594.0\n",
      "18  20191119       일성건설  013360   1.680    1385.0\n"
     ]
    }
   ],
   "source": [
    "mp = {'날짜':date_col,\n",
    "      '종목명':종목명,\n",
    "      '종목코드':종목코드,\n",
    "      '비중':list((W3 * 100).round(3)),\n",
    "      '현재가':현재가}\n",
    "df1 = pd.DataFrame(mp,columns = ['날짜','종목명','종목코드','비중','현재가'])\n",
    "print(df1)\n",
    "df1.to_csv(out_path + 'BL_model_portfolio.csv', index=None, encoding='utf-8')"
   ]
  },
  {
   "cell_type": "code",
   "execution_count": 32,
   "metadata": {
    "colab": {
     "base_uri": "https://localhost:8080/",
     "height": 52
    },
    "colab_type": "code",
    "id": "8XrG7v96-Geh",
    "outputId": "659f0de0-7d22-47b4-c0aa-f3694f96b24b"
   },
   "outputs": [
    {
     "name": "stdout",
     "output_type": "stream",
     "text": [
      "\n",
      ">> 수익률 =  0.183 , 표준편차 =  0.407 , 샤프지수 =  0.449\n"
     ]
    }
   ],
   "source": [
    "stat = statistics(W3, Pi_adj + Rf, C).round(3)  # 샤프지수 최대 포트폴리오의 수익률, 표준편차, 샤프지수\n",
    "print('\\n>> 수익률 = ', stat[0],', 표준편차 = ', stat[1], ', 샤프지수 = ', stat[2])"
   ]
  },
  {
   "cell_type": "code",
   "execution_count": 0,
   "metadata": {
    "colab": {},
    "colab_type": "code",
    "id": "m-Z-z3sA6b9H"
   },
   "outputs": [],
   "source": []
  }
 ],
 "metadata": {
  "colab": {
   "collapsed_sections": [],
   "name": "BL모델_포트폴리오산출_기본.ipynb",
   "provenance": [],
   "toc_visible": true
  },
  "kernelspec": {
   "display_name": "Python [default]",
   "language": "python",
   "name": "python3"
  },
  "language_info": {
   "codemirror_mode": {
    "name": "ipython",
    "version": 3
   },
   "file_extension": ".py",
   "mimetype": "text/x-python",
   "name": "python",
   "nbconvert_exporter": "python",
   "pygments_lexer": "ipython3",
   "version": "3.5.4"
  }
 },
 "nbformat": 4,
 "nbformat_minor": 1
}
